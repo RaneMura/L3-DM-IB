{
 "cells": [
  {
   "cell_type": "markdown",
   "metadata": {
    "id": "MoRHY5QImaqy"
   },
   "source": [
    "# TME 4 : Projet Detection de motifs\n",
    "\n",
    "Nous allons développer des algorithmes pour chercher de motifs dans les données de ChipSeq de C. glabrata.\n",
    "Pour commencer nous allons d'abord produire des données artificielles qui nous permettront de tester rapidement nos algorithmes. Ensuite nous allons chercher les motifs dans C. glabrata et analyser les résultats."
   ]
  },
  {
   "cell_type": "markdown",
   "metadata": {},
   "source": [
    "#### Binome : K Murali Sharane et Legendre--Despas Jeanne"
   ]
  },
  {
   "cell_type": "markdown",
   "metadata": {},
   "source": [
    "## Partie A : Recherche de pattern (motifs) identiques"
   ]
  },
  {
   "cell_type": "markdown",
   "metadata": {
    "id": "bmMkaXpwmaq9"
   },
   "source": [
    "1\\. Faites une fonction pour générer aléatoirement des séquences artificielles, puis générer t=10 séquences de n=41 nucléotides chacune. Toutes les lettres doivent être équiprobables pour la génération des séquences."
   ]
  },
  {
   "cell_type": "code",
   "execution_count": 2,
   "metadata": {},
   "outputs": [],
   "source": [
    "import random\n",
    "import re\n",
    "import operator\n",
    "import copy"
   ]
  },
  {
   "cell_type": "code",
   "execution_count": 3,
   "metadata": {
    "id": "c8RaBfm0maq-"
   },
   "outputs": [
    {
     "name": "stdout",
     "output_type": "stream",
     "text": [
      "Génération de 10 séquences aléatoires de 41 nucléotides :\n",
      "\n",
      "Séquence 1 : GATCGTATAATCAGAGGTTATGTCTCCTTTTAATTGTTCTC\n",
      "Séquence 2 : AGGTGGACGAGTGCAAAGTTAAATCGGACCTTTTAAGAAGG\n",
      "Séquence 3 : AGGTCAAGAGGAATCTTCCGAGCGCTCAGAGTACGTTGTGC\n",
      "Séquence 4 : CGGCTTATTCAGGAACACCCAAGTGGGGGCCCTATATATAC\n",
      "Séquence 5 : CCACCAGTGTGTATTGATAGCTTTGTACGTTCGAGTCAAGC\n",
      "Séquence 6 : CCACGGCTCATTTTGCAGGCCTTCTGATGTGACCGTGAATA\n",
      "Séquence 7 : CATTTCGACGTGTGCCGTTTCATAACGACTCCAGCGCACTA\n",
      "Séquence 8 : GGATCGCTAATAGCGGGTCGTGTTCTTCGGGCTCACGTGTC\n",
      "Séquence 9 : GGGCGCTTGGGTAGCGAGGATGACTGATCCCACTGGCCCCA\n",
      "Séquence 10 : TGGTAAGCGATAGGGGCAGGACTTCCCCATGGTAGCCCACT\n"
     ]
    }
   ],
   "source": [
    "#import import_ipynb\n",
    "#import TME2_LU3IN013\n",
    "\n",
    "nuc = ('A', 'C', 'G', 'T')\n",
    "\n",
    "t = 10 # nombre de sequences\n",
    "n = 41 # longueur des sequences\n",
    "\n",
    "#Pour un simple test\n",
    "#t=3 #nombre de sequences\n",
    "#n=8 #longueur des sequences\n",
    "\n",
    "def generateRandomSequence(n, upper=True):\n",
    "    \"\"\"\n",
    "    Génère une séquence nucléotidique aléatoire\n",
    "    entrée n : longueur de la sequence\n",
    "    entrée upper : bool, si True les nucléotides seront majuscule, False minuscule\n",
    "    sortie sequence : une séquence nucléotidique aléatoire \n",
    "    \"\"\"\n",
    "    sequence = \"\"\n",
    "    \n",
    "    for i in range(n) : #On choisi n nucléotides aléatoirement dans ('A', 'C', 'G', 'T')\n",
    "        if (upper) :\n",
    "            sequence += random.choice(nuc)\n",
    "        else :\n",
    "            sequence += random.choice(nuc).lower()\n",
    "   \n",
    "    return sequence\n",
    "\n",
    "def generateRandomSequences(n, t):\n",
    "    \"\"\"\n",
    "    Génère plusieurs séquences nucléotidiques aléatoires \n",
    "    entrée n : longueur des séquences\n",
    "    entrée t : nombre de séquences\n",
    "    sortie séquences : une liste de t séquences nucléotidiques aléatoires de longueur n\n",
    "    \"\"\"\n",
    "    return [generateRandomSequence(n) for k in range(t)]\n",
    "    \n",
    "listeSeqAlea = generateRandomSequences(n, t);\n",
    "\n",
    "print(\"Génération de\", t, \"séquences aléatoires de\", n,\"nucléotides :\\n\")\n",
    "for indice,seq in enumerate(listeSeqAlea) : \n",
    "    print(\"Séquence\", indice+1 ,\":\",seq)\n"
   ]
  },
  {
   "cell_type": "markdown",
   "metadata": {
    "id": "PcesMqoNmarD"
   },
   "source": [
    "2\\. Nous allons maintenant implanter un motif de taille `k`=9 dans une proportion ``f``=0.9 des séquences artificielles générées précédemment. Les motifs sont implantés à une position aléatoire (choisies uniformément le long de la séquence)."
   ]
  },
  {
   "cell_type": "code",
   "execution_count": 4,
   "metadata": {
    "id": "7lVbiVK7marF"
   },
   "outputs": [
    {
     "name": "stdout",
     "output_type": "stream",
     "text": [
      "Génération de 10 séquences aléatoires de 41 nucléotides avec le motif gaggtgata implanté :\n",
      "\n",
      "Séquence 1 : GATCGgaggtgataAGGTTATGTCTCCTTTTAATTGTTCTC\n",
      "Séquence 2 : AGGTGGACGAGTGCAAAGTTAAATCGGAgaggtgataAAGG\n",
      "Séquence 3 : AGGTCgaggtgataCTTCCGAGCGCTCAGAGTACGTTGTGC\n",
      "Séquence 4 : CgaggtgataAGGAACACCCAAGTGGGGGCCCTATATATAC\n",
      "Séquence 5 : CCACCAGTGTGTAgaggtgataTTGTACGTTCGAGTCAAGC\n",
      "Séquence 6 : CCACGGCTCATTTTGCgaggtgataGATGTGACCGTGAATA\n",
      "Séquence 7 : CATTTCGACGTGTGCCGTTTCATAACGACTCCAGCGCACTA\n",
      "Séquence 8 : GGATCGCTAATAGCGGGTCGTGTTCTTCGGGCgaggtgata\n",
      "Séquence 9 : GGGCGCTTGGGTAGCGAGGATGACTGATCCCgaggtgataA\n",
      "Séquence 10 : TGGTAgaggtgataGGCAGGACTTCCCCATGGTAGCCCACT\n"
     ]
    }
   ],
   "source": [
    "# taille des motifs k = 9\n",
    "k = 9\n",
    "# frequences d'occurences des motifs f = 0.9 \n",
    "f = 0.9\n",
    "\n",
    "def implantMotifs(motif, f, sequences):\n",
    "    \"\"\"\n",
    "    Insérer un motif dans des positions aléatoires des séquences\n",
    "    entrée motifs : motif qui va être implanté dans les séquences\n",
    "    entrée f : fréquence d'implantation\n",
    "    entrée séquences : liste de sequences\n",
    "    sortie modified_sequences: liste de séquences ayant parfois le motif implanté\n",
    "    \"\"\"\n",
    "    \n",
    "    modified_sequences = []\n",
    "    \n",
    "    for sequence in sequences :\n",
    "        \n",
    "        if (random.random()<f) : #Le motif est implanté avec une fréquence de f\n",
    "            \n",
    "            #La position de début du motif implanté est choisies aléatoirement entre 0 et len(sequence)-len(motif)\n",
    "            posDeb = random.randrange(len(sequence)-len(motif) +1)\n",
    "            modified_sequences.append(sequence[:posDeb] + motif + sequence[posDeb+len(motif):])\n",
    "            \n",
    "        else : \n",
    "            modified_sequences.append(sequence)\n",
    "    \n",
    "    return modified_sequences\n",
    "\n",
    "\n",
    "motif = generateRandomSequence(k, False) #On génère un motif aléatoire de longueur k = 9 \n",
    "\n",
    "listeSeqMotif = implantMotifs(motif, f, listeSeqAlea ) #On implante le motif dans les séquences générées précédemment\n",
    "\n",
    "print(\"Génération de\", t, \"séquences aléatoires de\", n,\"nucléotides avec le motif\",motif,\"implanté :\\n\")\n",
    "for indice, sequence in enumerate(listeSeqMotif) :\n",
    "    print(\"Séquence\",indice+1,\":\",sequence)"
   ]
  },
  {
   "cell_type": "markdown",
   "metadata": {
    "id": "xiIkrujLmarJ"
   },
   "source": [
    "3\\. Faites une fonction pour chercher les $m$ motifs de taille $k$ les plus fréquents dans l'ensemble des séquences. Tester cette fonction sur l'ensemble des séquences générées précédemment avec le motif implanté. Faite aussi une fonction qui affiche les $top$ motifs les plus fréquents. "
   ]
  },
  {
   "cell_type": "code",
   "execution_count": 5,
   "metadata": {
    "id": "LPsYkRG1marK"
   },
   "outputs": [
    {
     "name": "stdout",
     "output_type": "stream",
     "text": [
      "Les top = 2 motifs de longueur k = 9 les plus fréquents sont :\n",
      "\n",
      "{'gaggtgata': 9, 'Cgaggtgat': 5}\n"
     ]
    }
   ],
   "source": [
    "def searchMotifs(k, sequences):\n",
    "    \"\"\"\n",
    "    Cherche les motifs de taille k dans un ensemble de séquences\n",
    "    entrée k : taille du motif\n",
    "    entrée séquences : liste de sequences\n",
    "    sortie motifs: dictionnaire de motifs, clé = motif, valeur = fréquence d'observation\n",
    "    >>>searchMotifs(3, ['TAAGTAA', 'TATAA', 'CTATC'])\n",
    "    {'TAA': 3, 'AAG': 1, 'AGT': 1, 'GTA': 1, 'TAT': 2, 'ATA': 1, 'CTA': 1, 'ATC': 1}\n",
    "    \"\"\"\n",
    "    \n",
    "    motifs  = {}; # Dictionnaire des motifs associés à leur fréquence d'observation\n",
    "    \n",
    "    for sequence in sequences : # On parcourt la liste des séquences\n",
    "        \n",
    "        # Il y a len(sequence) - k + 1 positions posibles pour un motif de taille k\n",
    "        # Les positions de début des motifs de taille k vont de 0 à len(sequence) - k\n",
    "        \n",
    "        for posDeb in range(len(sequence) - k + 1):\n",
    "            \n",
    "            #Le motif court de posDeb à posDeb + k - 1\n",
    "            if (sequence[posDeb:posDeb+k] in motifs) :\n",
    "                #On inclémente la valeur si le motif est déjà dans le dictionnaire \n",
    "                motifs[sequence[posDeb:posDeb+k]] += 1 \n",
    "                \n",
    "            else :\n",
    "                #On ajoute le motif au dictionnaire avec une valeur de 1\n",
    "                motifs[sequence[posDeb:posDeb+k]] = 1  \n",
    "\n",
    "    return motifs\n",
    "\n",
    "def getTopMotifs(motifs, top):\n",
    "    \"\"\"\n",
    "    renvoyer les 'top' motifs les plus fréquents\n",
    "    entrée motifs: dictionnaire de motifs, clé = motif, valeur = fréquence d'observation\n",
    "    entrée top : le nombre des motifs les plus frequents à trouver\n",
    "    sortie motifsfreq: dictionnaire contenant les 'top' motifs les plus fréquents, clé = motif, valeur = fréquence d'observation\n",
    "    >>>getTopMotifs({'TAA': 3, 'AAG': 1, 'AGT': 1, 'GTA': 1, 'TAT': 2, 'ATA': 1, 'CTA': 1, 'ATC': 1}, 2)\n",
    "    {'TAA': 3, 'TAT': 2}\n",
    "    \"\"\"\n",
    "    \n",
    "    #On récupère une liste de tuple (clef, valeur) éléments du dictionnaire motifs\n",
    "    #triés dans l'odre décroissant de leur valeur\n",
    "    listSortDict = sorted(motifs.items(), key=lambda x: x[1], reverse = True)\n",
    "    \n",
    "    #On retourne le dictionnaire formé des top premiers éléments de la liste \n",
    "    return dict([listSortDict[i] for i in range(top)])\n",
    "\n",
    "top = 2\n",
    "motifsFound = searchMotifs(k, listeSeqMotif)\n",
    "#print (motifsFound)\n",
    "topMotifs = getTopMotifs(motifsFound, top)\n",
    "print(\"Les top =\",top,\"motifs de longueur k =\",k,\"les plus fréquents sont :\\n\")\n",
    "print (topMotifs)"
   ]
  },
  {
   "cell_type": "markdown",
   "metadata": {
    "id": "G8Hw-Zj6marM"
   },
   "source": [
    "4\\. Quelle est la complexité de votre algorithme?"
   ]
  },
  {
   "cell_type": "markdown",
   "metadata": {
    "id": "3uvvJvCKmarN"
   },
   "source": [
    "<font color='blue'>\n",
    "La fonction sorted() est une fonction de tri fournie par Python. Les fonctions de tri proposées par Python sont implémentées avec l'algorithme du 'Timsort', un algorithme hybride en le tri par fusion et le tri par insertion. Cet algorithme a une complexité en $\\theta$ ($n$log($n$)), n la longueur du dictionnaire. Ensuite on crée une nouvelle liste par compréhension avec les top premiers éléments de notre liste triée. Les opérations list[i] et list.append(elem) sont toutes les deux en $\\theta$ (1), ce qui revient à $\\theta$ (2*top). Enfin la fonction dict(list de (clef, valeur)) qui renvoie une dictionaire à partir d'une liste est en $\\theta$ (len(list)) car on parcourt une fois toute la liste. ce qui revient ici à $\\theta$ (top). \n",
    "  Ainsi la compléxité totale de notre algorithme est de $\\theta$ ($n$log($n$)) + $\\theta$ (2*top) + $\\theta$ (top) soit $\\theta$ ($n$log($n$)).\n",
    "</font>"
   ]
  },
  {
   "cell_type": "markdown",
   "metadata": {
    "id": "H8HebyHumarO"
   },
   "source": [
    "5\\. Certains motifs sont reverse complémentaires. Implanter des motifs reverse complémentaires dans les séquences déjà générés et en suite chercher ces motifs. Attention: vous devez réutiliser les fonctions développés précédemment, pas besoin de définir des nouvelles fonctions. "
   ]
  },
  {
   "cell_type": "code",
   "execution_count": 6,
   "metadata": {
    "id": "O_zGqHAFmarO"
   },
   "outputs": [
    {
     "name": "stdout",
     "output_type": "stream",
     "text": [
      "Le motif implanté : TATCACCTC \n",
      "\n",
      "Les top = 2 motifs les plus fréquents de k = 9 nucléotides trouvés sont :\n",
      "\n",
      "{'TATCACCTC': 5, 'CTATCACCT': 4}\n"
     ]
    }
   ],
   "source": [
    "#Fonction du TME précédant.\n",
    "def reversecompl(seq):\n",
    "    seq_upper = seq.upper()\n",
    "    compl = {'A': 'T', 'C': 'G', 'G': 'C', 'T':'A'}\n",
    "    nvSeq = \"\"\n",
    "    for i in range(len(seq_upper)-1,-1,-1) :\n",
    "        nvSeq = nvSeq + compl[seq_upper[i]]\n",
    "    \n",
    "    return nvSeq\n",
    "\n",
    "#Génération du motif reverse complémentaire correspondant au motif déjà généré précédemment.\n",
    "motifRC = reversecompl(motif)\n",
    "print(\"Le motif implanté :\", motifRC,\"\\n\")\n",
    "\n",
    "#Implantation du motif RC dans la liste de séquences générées aléatoirement précédemment.\n",
    "listeSeqMotifRC = implantMotifs(motifRC, f, listeSeqAlea)\n",
    "\n",
    "#Recherche des motifs dans le liste des séquences implantées avec le motif complémentaire\n",
    "motifsRCFound = searchMotifs(k, listeSeqMotifRC)\n",
    "\n",
    "#Recherche des top motifs les plus fréquents\n",
    "topMotifsRC = getTopMotifs(motifsRCFound, top)\n",
    "print(\"Les top =\", top, \"motifs les plus fréquents de k =\",k,\"nucléotides trouvés sont :\\n\")\n",
    "print(topMotifsRC)"
   ]
  },
  {
   "cell_type": "markdown",
   "metadata": {
    "id": "RyUhiM2XmarQ"
   },
   "source": [
    "\n",
    "## Partie B : Recherche de motifs identiques sur vos données"
   ]
  },
  {
   "cell_type": "markdown",
   "metadata": {
    "id": "qjjE5tq9marQ"
   },
   "source": [
    "1\\. Le fichier \"C_glabrata_1000bp_only.fasta\" contiens les séquences régulatrices pour tous les gènes de votre organisme. Nous avons pris les 1000bp en amont du codon start. Chercher les 50 motifs de taille 7 les plus fréquents dans les deux brim de votre génome."
   ]
  },
  {
   "cell_type": "code",
   "execution_count": 7,
   "metadata": {
    "id": "-r1ASCFYmarR"
   },
   "outputs": [
    {
     "name": "stdout",
     "output_type": "stream",
     "text": [
      "Searching motifs...\n",
      "\n",
      "The 6 most abundant motifs are \n",
      "\n",
      "{'AAAAAAA': 8385, 'TTTTTTT': 7658, 'ATATATA': 3096, 'ATTTTTT': 2970, 'AAAAAAT': 2960, 'TATATAT': 2796} \n",
      "\n",
      "Searching reverse complementary motifs...\n",
      "\n",
      "The 6 most abundant motifs found in reverse complementary are \n",
      "\n",
      "{'TTTTTTT': 8385, 'AAAAAAA': 7658, 'TATATAT': 3096, 'AAAAAAT': 2970, 'ATTTTTT': 2960, 'ATATATA': 2796} \n",
      "\n",
      "The 6 most abundant motifs found are \n",
      "\n",
      "{'TTTTTTT': 16043, 'AAAAAAA': 16043, 'ATTTTTT': 5930, 'AAAAAAT': 5930, 'TATATAT': 5892, 'ATATATA': 5892}\n"
     ]
    }
   ],
   "source": [
    "k = 7 #Taille des motifs\n",
    "top = 6 #Le nombre de motifs les plus fréquents à chercher\n",
    "genome = \"C_glabrata_1000bp_only.fasta\"\n",
    "\n",
    "\n",
    "def readFasta(fastaFileName):\n",
    "    \"\"\"\n",
    "    Read a fasta file\n",
    "    entrée fastaFileName: nom du fichier fasta\n",
    "    sortie sequences: liste contenant toutes les sequences du fichier\n",
    "    \"\"\"\n",
    "    sequence = []\n",
    "    file = open(genome, \"r\")\n",
    "    sequence = []\n",
    "    for s in file:\n",
    "        if s[0] != \">\":\n",
    "            sequence.append(s.strip().upper())\n",
    "    return sequence\n",
    "\n",
    "# Lecture du fichier fasta\n",
    "sequences = readFasta(genome)\n",
    "\n",
    "\n",
    "# RECHERCHE DE MOTIFS DANS LE BRIN SENS\n",
    "\n",
    "print(\"Searching motifs...\\n\")\n",
    "dico_motifs_sens = searchMotifs(k, sequences)\n",
    "\n",
    "print(\"The\",top,\"most abundant motifs are \\n\")\n",
    "print(getTopMotifs(dico_motifs_sens, top),\"\\n\")\n",
    "\n",
    "\n",
    "# RECHERCHE DE MOTIFS DANS LE BRIN COMPLÉMENTAIRE\n",
    "\n",
    "# On récupère une liste du reverse complément de chaque séquence\n",
    "sequences_rc = [reversecompl(sequence) for sequence in sequences]\n",
    "\n",
    "print(\"Searching reverse complementary motifs...\\n\")\n",
    "dico_motifs_antisens = searchMotifs(k, sequences_rc)\n",
    "\n",
    "\n",
    "print(\"The\", top, \"most abundant motifs found in reverse complementary are \\n\")\n",
    "print(getTopMotifs(dico_motifs_antisens, top),\"\\n\")\n",
    "\n",
    "\n",
    "# RECHERCHE DE MOTIFS DANS LE DICTIONNAIRE FUSIONNÉ\n",
    "\n",
    "#copie du dictionnaire des motifs trouvés dans le brins sens\n",
    "motifsData = copy.deepcopy(dico_motifs_sens)\n",
    "#ajout des valeurs du dictionnaire des motifs antisens dans la copie\n",
    "for clef, valeur in dico_motifs_antisens.items():\n",
    "    if clef in motifsData :\n",
    "        motifsData[clef] += valeur\n",
    "    else : \n",
    "        motifsData[clef] = valeur\n",
    "\n",
    "print(\"The\",top,\"most abundant motifs found are \\n\")\n",
    "motifsTopData = getTopMotifs(motifsData, top)\n",
    "print(motifsTopData)\n",
    " "
   ]
  },
  {
   "cell_type": "markdown",
   "metadata": {
    "id": "0e5fdIztmarS"
   },
   "source": [
    "2\\. Quel sont les trois motifs de taille 7 les plus frequents? Pensez vous que ces motifs correspondent à de facteur de transcription connus? Justifier votre reponse."
   ]
  },
  {
   "cell_type": "markdown",
   "metadata": {
    "id": "8Zyhn6-PmarS"
   },
   "source": [
    "<font color='blue'>\n",
    "Reponse : Les motifs trouvés vont toujours par pairs. Chaque motif et son reverse complement sont trouvés le même nombre de fois. Ainsi les trois paires de motifs les plus fréquents sont ('TTTTTTT','AAAAAAA'), ('ATTTTTT','AAAAAAT') et ('TATATAT','ATATATA'). Et les trois motifs les plus fréquents sont : 'TTTTTTT', 'AAAAAAA' et 'ATTTTTT'.\n",
    "</font>"
   ]
  },
  {
   "cell_type": "markdown",
   "metadata": {
    "id": "NVUbnuGDmarT"
   },
   "source": [
    "3\\. Le motif TGATTCAT correspond au facteur de transcription Gcn4 qui est très souvent trouvé dans le genome de levures. Est-ce que vous avez trouvé ce motif? Si oui avec quel frequence?"
   ]
  },
  {
   "cell_type": "code",
   "execution_count": 8,
   "metadata": {
    "id": "ZeMVGLjVmarT"
   },
   "outputs": [
    {
     "name": "stdout",
     "output_type": "stream",
     "text": [
      "\n",
      "Motifs dans le brin sens\n",
      "1819 - TGATTCA - 591\n",
      "\n",
      "Motifs dans le brin reverse complément\n",
      "1791 - TGATTCA - 594\n"
     ]
    }
   ],
   "source": [
    "motifGcn4 = ['TGATTCA']\n",
    "\n",
    "def searchGivenMotif(motifsTrouve, motifSpecifique):\n",
    "    \n",
    "    \"\"\"\n",
    "    Cherche une liste de motifs specifiques dans un dictionaire de motifs trouvés\n",
    "    entrée motifsTrouve : dictionnaire de motifs, clé=motif, valeur = fréquence d'observation\n",
    "    entrée motifSpecifique: liste de motifs specifiques à chercher\n",
    "    sortie None : affiche le ranking des motifs especifique et sa frequence d'observation\n",
    "    >>>searchGivenMotif({'TAA': 4, 'AAG': 3, 'AGT': 1}, ['AAG'])\n",
    "    2 - AGG - 3\n",
    "    \"\"\"\n",
    "    #Création d'une liste des (key, value) trié des motifsTrouve\n",
    "    sortedDict = sorted(motifsTrouve.items(), key=lambda x: x[1], reverse = True)\n",
    "    \n",
    "    for motif in motifSpecifique : \n",
    "        \n",
    "        if motif in motifsTrouve : #Le motif a été trouvé\n",
    "            \n",
    "            #On parcourt la liste pour récupérer le ranking du motif\n",
    "            for i, (clef, valeur) in enumerate(sortedDict) :\n",
    "                \n",
    "                if clef == motif :\n",
    "                    print(i+1,\"-\",motif,\"-\",motifsTrouve[motif])\n",
    "                    break\n",
    "                    \n",
    "        else :\n",
    "            print(\"Le motif\", motif, \"n'a pas été trouvé\")\n",
    "           \n",
    "    return None\n",
    "\n",
    "print (\"\\nMotifs dans le brin sens\")\n",
    "searchGivenMotif(dico_motifs_sens, motifGcn4)    \n",
    "print (\"\\nMotifs dans le brin reverse complément\")\n",
    "searchGivenMotif(dico_motifs_antisens, motifGcn4)   \n",
    "\n"
   ]
  },
  {
   "cell_type": "markdown",
   "metadata": {
    "id": "Ibm0Eja2marU"
   },
   "source": [
    "4\\. Les motifs peu complexes (avec par exemple 5, 6 ou 7 fois la même lettre) sont courants dans les génomes, ils n'ont généralement pas de signification biologique. Dans le context de ce projet, vous pouvez eliminer aussi les motifis ayant deux lettre repetés, comme par exemple AGAGAGA. Faites une fonction pour éliminer les motifs peu complexes, _i. e._ qui ont au moins $m$ fois la même lettre ou qui ont deux lettre consecutive répétés. Dans quel position vous trouver Gcn4 apres enlever les motifs peu complexes?</font>. "
   ]
  },
  {
   "cell_type": "code",
   "execution_count": 9,
   "metadata": {
    "id": "cFkaqI39marU"
   },
   "outputs": [
    {
     "name": "stdout",
     "output_type": "stream",
     "text": [
      "\n",
      "Position de ['TGATTCA'] dans le brin sens\n",
      "1356 - TGATTCA - 591\n",
      "\n",
      "Position de ['TGATTCA'] dans le brin reverse complément\n",
      "1330 - TGATTCA - 594\n"
     ]
    }
   ],
   "source": [
    "# On retire les motifs avec au moins reLow fois la même lettre et des motifs de deux lettre répétés trois fois\n",
    "\n",
    "def removeLowComplexe(motifs, reLow = 5):\n",
    "    \"\"\"\n",
    "    Eleve les motifs peu complexe \n",
    "    entrée motifs: dictionnaire de motifs, clé=motif, valeur = fréquence d'observation\n",
    "    sortie validMotif: dictionnaire de motifs filtré, clé=motif, valeur = fréquence d'observation\n",
    "    \"\"\"\n",
    "    validMotif = {}\n",
    "    \n",
    "    for clef, val in motifs.items() : \n",
    "        \n",
    "        cinq_fois_même_lettre = '([ACTG]*A){'+ str(reLow) +'}|([ACTG]*C){'+ str(reLow) +'}|([ACTG]*T){'+ str(reLow) +'}|([ACTG]*G){'+ str(reLow) +'}'\n",
    "        deux_lettres_repetee = '([ACTG]*AC){3}|([ATCG]*AT){3}|([ATCG]*AG){3}|([ATCG]*TA){3}|([ATCG]*TG){3}|([ATCG]*TC){3}|([ATCG]*CG){3}|([ATCG]*CA){3}|([ATCG]*CT){3}|([ATCG]*GA){3}|([ATCG]*GT){3}|([ATCG]*GC){3}'\n",
    "        \n",
    "        p = re.compile(cinq_fois_même_lettre+deux_lettres_repetee)\n",
    "        m = p.match(clef)\n",
    "        \n",
    "        if not m:\n",
    "            validMotif[clef] = val\n",
    "            \n",
    "    return validMotif\n",
    "\n",
    "\n",
    "\n",
    "motifsFiltreData = removeLowComplexe(dico_motifs_sens)\n",
    "motifsFiltreReverse = removeLowComplexe(dico_motifs_antisens)\n",
    "\n",
    "print (\"\\nPosition de\",motifGcn4,\"dans le brin sens\")\n",
    "searchGivenMotif(motifsFiltreData, motifGcn4)    \n",
    "print (\"\\nPosition de\",motifGcn4,\"dans le brin reverse complément\")\n",
    "searchGivenMotif(motifsFiltreReverse, motifGcn4)   \n"
   ]
  },
  {
   "cell_type": "markdown",
   "metadata": {
    "id": "MrAPyMcPmarV"
   },
   "source": [
    "5\\. Le fichier \"Sequence_by_Peaks_G*.fasta\" contiens les regions de peak trouvé par ChipSeq, qui contient probablement le Facteur de Transcription que nous cherchons. Apliquer les fonctions précédents pour chercher les 3 motifs les plus fréquents dans les deux brins. Il faut bien evidemment enlever les motifs peu complexe."
   ]
  },
  {
   "cell_type": "code",
   "execution_count": 10,
   "metadata": {
    "id": "wIHGDtXDmarW"
   },
   "outputs": [
    {
     "name": "stdout",
     "output_type": "stream",
     "text": [
      "Searching fwd motifs...\n",
      "\n",
      "The 6 most abundant motifs are \n",
      "\n",
      "{'AAAAAAA': 42, 'AGCAAAA': 26, 'TATTATT': 23, 'GCAAAAA': 22, 'TTATTAT': 21, 'CAAAAAT': 21} \n",
      "\n",
      "The 6 most abundant reverse compl motifs are \n",
      "\n",
      "{'TTTTTTT': 42, 'TTTTGCT': 26, 'AATAATA': 23, 'TTTTTGC': 22, 'ATAATAA': 21, 'ATTTTTG': 21} \n",
      "\n",
      "The 6 most abundant no low-complexe motifs are \n",
      "\n",
      "{'ATTATTA': 20, 'CAGCAAA': 19, 'TTATCAT': 17, 'ATCATTT': 17, 'AAATATT': 17, 'AAAATTT': 16} \n",
      "\n",
      "The 6 most abundant no low-complexe motifs in reverse compl are \n",
      "\n",
      "{'TAATAAT': 20, 'TTTGCTG': 19, 'ATGATAA': 17, 'AAATGAT': 17, 'AATATTT': 17, 'AAATTTT': 16} \n",
      "\n",
      "The 6 most abundant no low-complexe motifs are \n",
      "\n",
      "{'TTTGCTG': 32, 'CAGCAAA': 32, 'AAAATTT': 27, 'AAATTTT': 27, 'ATTATTA': 24, 'ATATTTA': 24} \n",
      "\n"
     ]
    }
   ],
   "source": [
    "k = 7\n",
    "top = 6\n",
    "reLow = 5\n",
    "\n",
    "genome = \"../Sequence_by_Peaks_1.fasta\"\n",
    "\n",
    "sequences = readFasta(genome)\n",
    "\n",
    "print(\"Searching fwd motifs...\\n\")\n",
    "dico_motifs_sens_projet = searchMotifs(k, sequences)\n",
    "# On récupère une liste du reverse complément de chaque séquence\n",
    "sequences_rc = [reversecompl(sequence) for sequence in sequences]\n",
    "dico_motifs_antisens_projet = searchMotifs(k, sequences_rc)\n",
    "\n",
    "print(\"The\",top,\"most abundant motifs are \\n\")\n",
    "print(getTopMotifs(dico_motifs_sens_projet, top),\"\\n\")\n",
    "\n",
    "print(\"The\",top,\"most abundant reverse compl motifs are \\n\")\n",
    "print(getTopMotifs(dico_motifs_antisens_projet, top),\"\\n\")\n",
    "\n",
    "\n",
    "#On retire les motifs de faible complexité\n",
    "dico_motifs_sens_projet_filtre = removeLowComplexe(dico_motifs_sens_projet, reLow)\n",
    "dico_motifs_antisens_projet_filtre = removeLowComplexe(dico_motifs_antisens_projet, reLow)\n",
    "\n",
    "print(\"The\",top,\"most abundant no low-complexe motifs are \\n\")\n",
    "print(getTopMotifs(dico_motifs_sens_projet_filtre, top),\"\\n\")\n",
    "\n",
    "print(\"The\",top,\"most abundant no low-complexe motifs in reverse compl are \\n\")\n",
    "print(getTopMotifs(dico_motifs_antisens_projet_filtre, top),\"\\n\")\n",
    "\n",
    "# RECHERCHE DE MOTIFS DANS LE DICTIONNAIRE FUSIONNÉ\n",
    "\n",
    "#copie du dictionnaire des motifs trouvés dans le brins sens\n",
    "motifsData_projet_filtre = copy.deepcopy(dico_motifs_sens_projet_filtre)\n",
    "\n",
    "#ajout des valeurs du dictionnaire des motifs antisens dans la copie\n",
    "for clef, valeur in dico_motifs_antisens_projet_filtre.items():\n",
    "    if clef in motifsData_projet_filtre :\n",
    "        motifsData_projet_filtre[clef] += valeur\n",
    "    else : \n",
    "        motifsData_projet_filtre[clef] = valeur\n",
    "        \n",
    "print(\"The\",top,\"most abundant no low-complexe motifs are \\n\")\n",
    "print(getTopMotifs(motifsData_projet_filtre, top),\"\\n\")"
   ]
  },
  {
   "cell_type": "markdown",
   "metadata": {},
   "source": [
    "<font color = blue>\n",
    "1e motif le plus fréquent et son reverse complément : TATTGCTG et CAGCAATA\n",
    "   \n",
    "\"CAGCAA(TA)\" -> Amt1 \"CAGCAA(AA)\n",
    "  \n",
    "2e motif le plus fréquent et son reverse complément : ATTATTGC et GCAATAAT\n",
    "   \n",
    "On retrouve \"GCAA(TA)\"\n",
    "\n",
    "On remarque alors que le motif CAGCAAAA possède 5 fois la même lettre, il a alors été retiré de notre set de motif recherché. Nous réeffectuons l'opération avec reLow = 6 pour garder ce motif en cherchant des motifs de taille 8.\n",
    "\n",
    "</font>"
   ]
  },
  {
   "cell_type": "code",
   "execution_count": 11,
   "metadata": {},
   "outputs": [
    {
     "name": "stdout",
     "output_type": "stream",
     "text": [
      "Searching fwd motifs...\n",
      "\n",
      "The 6 most abundant motifs are \n",
      "\n",
      "{'AGCAAAAA': 20, 'AAAAAAAA': 19, 'CAGCAAAA': 18, 'TTATTATT': 15, 'TTTTGCTG': 11, 'TAAAAAAA': 11} \n",
      "\n",
      "The 6 most abundant reverse compl motifs are \n",
      "\n",
      "{'TTTTTGCT': 20, 'TTTTTTTT': 19, 'TTTTGCTG': 18, 'AATAATAA': 15, 'CAGCAAAA': 11, 'TTTTTTTA': 11} \n",
      "\n",
      "The 6 most abundant no low-complexe motifs are \n",
      "\n",
      "{'CAGCAAAA': 18, 'TTTTGCTG': 11, 'GCAAAAAT': 11, 'CAGCAATA': 10, 'AACAGCAA': 10, 'ATTTTCAT': 9} \n",
      "\n",
      "The 6 most abundant no low-complexe motifs in reverse compl are \n",
      "\n",
      "{'TTTTGCTG': 18, 'CAGCAAAA': 11, 'ATTTTTGC': 11, 'TATTGCTG': 10, 'TTGCTGTT': 10, 'ATGAAAAT': 9} \n",
      "\n",
      "The 6 most abundant no low-complexe motifs are \n",
      "\n",
      "{'TTTTGCTG': 29, 'CAGCAAAA': 29, 'ATTTTTGC': 16, 'GCAAAAAT': 16, 'TATTGCTG': 13, 'CAGCAATA': 13} \n",
      "\n"
     ]
    }
   ],
   "source": [
    "k = 8\n",
    "top = 6\n",
    "reLow = 6\n",
    "\n",
    "genome = \"../Sequence_by_Peaks_1.fasta\"\n",
    "\n",
    "sequences = readFasta(genome)\n",
    "\n",
    "print(\"Searching fwd motifs...\\n\")\n",
    "dico_motifs_sens_projet = searchMotifs(k, sequences)\n",
    "# On récupère une liste du reverse complément de chaque séquence\n",
    "sequences_rc = [reversecompl(sequence) for sequence in sequences]\n",
    "dico_motifs_antisens_projet = searchMotifs(k, sequences_rc)\n",
    "\n",
    "print(\"The\",top,\"most abundant motifs are \\n\")\n",
    "print(getTopMotifs(dico_motifs_sens_projet, top),\"\\n\")\n",
    "\n",
    "print(\"The\",top,\"most abundant reverse compl motifs are \\n\")\n",
    "print(getTopMotifs(dico_motifs_antisens_projet, top),\"\\n\")\n",
    "\n",
    "\n",
    "#On retire les motifs de faible complexité\n",
    "dico_motifs_sens_projet_filtre = removeLowComplexe(dico_motifs_sens_projet, reLow)\n",
    "dico_motifs_antisens_projet_filtre = removeLowComplexe(dico_motifs_antisens_projet, reLow)\n",
    "\n",
    "print(\"The\",top,\"most abundant no low-complexe motifs are \\n\")\n",
    "print(getTopMotifs(dico_motifs_sens_projet_filtre, top),\"\\n\")\n",
    "\n",
    "print(\"The\",top,\"most abundant no low-complexe motifs in reverse compl are \\n\")\n",
    "print(getTopMotifs(dico_motifs_antisens_projet_filtre, top),\"\\n\")\n",
    "\n",
    "# RECHERCHE DE MOTIFS DANS LE DICTIONNAIRE FUSIONNÉ\n",
    "\n",
    "#copie du dictionnaire des motifs trouvés dans le brins sens\n",
    "motifsData_projet_filtre = copy.deepcopy(dico_motifs_sens_projet_filtre)\n",
    "\n",
    "#ajout des valeurs du dictionnaire des motifs antisens dans la copie\n",
    "for clef, valeur in dico_motifs_antisens_projet_filtre.items():\n",
    "    if clef in motifsData_projet_filtre :\n",
    "        motifsData_projet_filtre[clef] += valeur\n",
    "    else : \n",
    "        motifsData_projet_filtre[clef] = valeur\n",
    "        \n",
    "print(\"The\",top,\"most abundant no low-complexe motifs are \\n\")\n",
    "print(getTopMotifs(motifsData_projet_filtre, top),\"\\n\")"
   ]
  },
  {
   "cell_type": "markdown",
   "metadata": {},
   "source": [
    "<font color = blue>\n",
    "    Le motif \"CAGCAAAA\" est le motif le plus fréquent (avec son reverse complément \"TTTTGCTG\"). Cela confirme notre hypothèse à propos du facteur de transcription Amt1. Le deuxième motif le plus fréquent avec 16 occurence est GCAAAAAT (avec son reverse complément : ATTTTTGC). On retrouve le motif GCAAAA qui fait partie de notre séquence consensus. Le troisième motif le plus fréquent est le motif CAGCAATA (avec son reverse complément CAGCAATA) qui correspond à notre motif avec une variation à la position 7 avec la substitution A -> T\n",
    "</font>"
   ]
  },
  {
   "cell_type": "markdown",
   "metadata": {
    "id": "MEBziFExmarX"
   },
   "source": [
    "6\\. Ulitser la base YEASTRACT : http://www.yeastract.com/formsearchbydnamotif.php pour chercher les motifs. \n",
    "Avez vous une indication pour le facteur de transcription impliqué ?\n"
   ]
  },
  {
   "cell_type": "markdown",
   "metadata": {
    "id": "Wjp5t7eiKj14"
   },
   "source": [
    "<font : color = 'blue'>\n",
    "Les motifs les plus abondants retrouvés dans le fichier \"Sequence_by_Peaks_1.fasta\" ont la plus grande probabilité de se raprocher exactement de motifs nucléotidiques présents dans le portion d'ADN responsable de la fixation du facteur de transcription étudié. En cherchant le motif le plus fréquent trouvé : CAGCAAAA, on ne trouve aucun facteur de transcription correspondant dans la base YEASTRACT.\n",
    "</font>"
   ]
  }
 ],
 "metadata": {
  "colab": {
   "collapsed_sections": [],
   "name": "TME4-project.ipynb",
   "provenance": []
  },
  "kernelspec": {
   "display_name": "Python 3 (ipykernel)",
   "language": "python",
   "name": "python3"
  },
  "language_info": {
   "codemirror_mode": {
    "name": "ipython",
    "version": 3
   },
   "file_extension": ".py",
   "mimetype": "text/x-python",
   "name": "python",
   "nbconvert_exporter": "python",
   "pygments_lexer": "ipython3",
   "version": "3.8.12"
  }
 },
 "nbformat": 4,
 "nbformat_minor": 1
}
