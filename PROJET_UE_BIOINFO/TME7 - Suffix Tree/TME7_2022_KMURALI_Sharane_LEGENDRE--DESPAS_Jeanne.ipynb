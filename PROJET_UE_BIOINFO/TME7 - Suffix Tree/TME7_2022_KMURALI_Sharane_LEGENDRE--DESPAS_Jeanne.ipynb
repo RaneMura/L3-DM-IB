{
 "cells": [
  {
   "cell_type": "markdown",
   "metadata": {
    "id": "lRIv7xNV0nf9"
   },
   "source": [
    "# TME 7 : Projet Detection de motifs\n",
    "\n",
    "\n",
    "## Recheche de pattern (motifs) en utilisant les suffix trees\n",
    "\n",
    "Nous allons utiliser l'algorithme suffix-tree pour la recherche rapide et efficace de motifs. Un suffix-tree est construit à partir d'un jeu de séquences, ensuite nous pouvons rechercher le motif en temps O(k) où k est la longueur du motif."
   ]
  },
  {
   "cell_type": "markdown",
   "metadata": {},
   "source": [
    "#### Binome 1 : K Murali Sharane"
   ]
  },
  {
   "cell_type": "markdown",
   "metadata": {},
   "source": [
    "#### Binome 2 : Legendre--Despas Jeanne"
   ]
  },
  {
   "cell_type": "markdown",
   "metadata": {
    "id": "p2zEyqSq0nf_"
   },
   "source": [
    "1\\. Nous allons réutiliser les fonctions du TME6 pour générer ``t`` séquences artificielles de taille ``n``, et implanter dans chaque séquence un motif de taille ``k`` à des positions aléatoires avec ``v`` substitutions choisies aléatoirement. Cependant, les ``t`` séquences artificielles initiales (sans implantation) ainsi que le motif initial (sans variation/mutation) doivent être générés une seule fois. Ensuite, selon chaque question, nous introduisons des différentes variations au motif initial et les implantons dans les séquences afin de générer des nouveau jeux de données. "
   ]
  },
  {
   "cell_type": "code",
   "execution_count": 28,
   "metadata": {
    "id": "VagWKovI0ngA"
   },
   "outputs": [],
   "source": [
    "import random\n",
    "import numpy as np\n",
    "\n",
    "nuc = ('A', 'C', 'G', 'T')\n",
    "\n",
    "k=8   # taille de motif\n",
    "v=0   # nb de positions variables dans le motif\n",
    "t=5   # nb de sequences\n",
    "n=100 # longueur des sequence\n"
   ]
  },
  {
   "cell_type": "markdown",
   "metadata": {
    "id": "N39jNZyt0ngC"
   },
   "source": [
    "1.1\\. Generer les séquences artificielles initiales et implanter un motif (sans variation, v=0)"
   ]
  },
  {
   "cell_type": "code",
   "execution_count": 29,
   "metadata": {
    "id": "3Vgz0SW71WtP"
   },
   "outputs": [
    {
     "name": "stdout",
     "output_type": "stream",
     "text": [
      "Les t = 5 séquence originale de longueur n-k = 92\n",
      "GTCGGTCTGGGCTTTACTAGGTAGGTGATTGTAAATGGGCGTACACACCGTGCGGTAGTTGAGACCGAGCGACAATAGTTCACATCGAGTAG\n",
      "CGCGTCAGGATTAATAATACAAGGTCTTGAAACCATTGAGAACGATCGCTACACTAGGACTCGTTCGTGCCGGATGTCTCGGTCTAGAGTTG\n",
      "GTCTCTGAGAAATTCGAGCATGCCCCCTTCGGTAGACCTTGTAGACGACGTTAATGCGGCTGCATTTACGAACCCGGACCCGAATTTTGGAA\n",
      "TAGCCACCTGCGGATTTCTGAAACAAATATCACTGGCTCTTCCGATTCACACTCCTGGGGGGCTAGGGAGGTAGGTCTTTTCGATTAGCACC\n",
      "GGTGACGATTATCTTTAGCAGTCAACGGCTCCTTCTTTGATCGCGGTCTAACCATCAAACCACGTGGCCCGCTCCATGTTGAGCTAGTGGCC\n",
      "\n",
      "Les t = 5 séquence longueur n = 100 implantées avec le motif CCCGACTT de longueur k = 8\n",
      "GTCGGTCTGGGCTTTACTAGGTAGGTGATTGTAAATGGGCGTACACACCGTGCGGTAGTTGAGACCGAcccgacttGCGACAATAGTTCACATCGAGTAG\n",
      "CGCGTCAGGATTAATAATACAAGGTCTTGAAACCATTGAGAACGATCGCcccgacttTACACTAGGACTCGTTCGTGCCGGATGTCTCGGTCTAGAGTTG\n",
      "GTCTCTGAGAAATTCGAGCATGCCCCCTTCcccgacttGGTAGACCTTGTAGACGACGTTAATGCGGCTGCATTTACGAACCCGGACCCGAATTTTGGAA\n",
      "TAGCCACCTGCGGATTTCTGAAACAAcccgacttATATCACTGGCTCTTCCGATTCACACTCCTGGGGGGCTAGGGAGGTAGGTCTTTTCGATTAGCACC\n",
      "GGTGACGATTATCTTTAGCAGTCAACGGCTCCTTCTTTGATCGCGGTCTAACCATCAAACcccgacttCACGTGGCCCGCTCCATGTTGAGCTAGTGGCC\n"
     ]
    }
   ],
   "source": [
    "def generateRandomSequence(n, upper=True):\n",
    "    \"\"\"\n",
    "    Génère une séquence nucléotidique aléatoire \n",
    "    entrée n : longueur de la sequence\n",
    "    entrée upper : bool, si True les nucléotides seront en majuscule, False minuscule\n",
    "    sortie sequence : une séquence nucléotidique aléatoire \n",
    "    \"\"\"\n",
    "    sequence = \"\"\n",
    "    \n",
    "    for i in range(n):\n",
    "        if (upper) : \n",
    "            sequence += random.choice(nuc).upper()\n",
    "        else : \n",
    "            sequence += random.choice(nuc).lower()\n",
    "    \n",
    "    return sequence\n",
    "\n",
    "def modifierMotif(motif, nbpos,  upper=True):\n",
    "    \"\"\"\n",
    "    Modifie nbpos positions d'un motif aléatoirement \n",
    "    entrée motif: motif à modifier\n",
    "    entrée nbpos: nombre de positions\n",
    "    entrée upper : bool, si True les nucléotides modifiés seront majuscule, False minuscule\n",
    "    sortie motifM: motif modifié\n",
    "    \"\"\"\n",
    "    motifM = list(motif)\n",
    "    positions = []\n",
    "    \n",
    "    for i in range(nbpos) : \n",
    "        pos = random.choice(range(len(motif)))\n",
    "        while (pos in positions) :\n",
    "            pos = random.choice(range(len(motif)))\n",
    "        positions.append(pos)\n",
    "    \n",
    "    \n",
    "    for pos in positions :\n",
    "        \n",
    "        nvNuc = random.choice(nuc)\n",
    "        while (nvNuc.upper() == motifM[pos].upper()) :\n",
    "            nvNuc = random.choice(nuc)\n",
    "        \n",
    "        if (upper) :\n",
    "            motifM[pos] = nvNuc.upper()\n",
    "        else : \n",
    "            motifM[pos] = nvNuc.lower()\n",
    "        \n",
    "    \n",
    "    return \"\".join(motifM)\n",
    "\n",
    "\n",
    "\n",
    "def implantMotif(sequences, motif, k, v, t, n):\n",
    "    \"\"\"\n",
    "    Génère des séquences aléatoires et implante des motifs (un motif par séquence)\n",
    "    entrée k: taille du motif\n",
    "    entrée v: nombre de variations (si v==0 implante un motif sans variations)\n",
    "    entrée t : nombre de séquences \n",
    "    entrée n : longueur des séquences\n",
    "    sortie DNAOrig : matrice de dimension t x n-k avec les sequences aléatoires\n",
    "    sortie DNAMot: matrice de dimension t x n avec les sequences aléatoires et les motifs implantés\n",
    "    sortie motifFix: motif sans variations\n",
    "    REMARQUE : La taille totale des séquences plus motif doit être égal à n, pensez à générer de séquence aléatoire de taille n-k pour pouvoir implanter un motif de taille k\n",
    "    Cette fonction permet de soit générer les séquences et le motif, soit juste implanter de motif (avec ou sans variations) à des séquences et motif existantes (passé en paramètre)\n",
    "    \"\"\"\n",
    "    #Génération des séquences aléatoires (matrice)\n",
    "    DNAOrig = [generateRandomSequence(n-k) for i in range(t)]\n",
    "    DNAMotif = []\n",
    "    \n",
    "    #Génération des differents motifs avec une variation à chaque motif\n",
    "    motifFix = generateRandomSequence(k, False)\n",
    "    motifsModif = [modifierMotif(motifFix,v) for i in range(t-1)] #Liste des motifs qui varient\n",
    "    \n",
    "    #Implantation des motifs à des position aléatoire\n",
    "    for i,seq in enumerate(DNAOrig):\n",
    "        \n",
    "        #On choisi une position au hasard\n",
    "        pos = random.choice(range( len(seq) + 1 ))\n",
    "        if (i==0):\n",
    "            DNAMotif.append(seq[:pos] + motifFix + seq[pos:])\n",
    "        else : \n",
    "             DNAMotif.append(seq[:pos] + motifsModif[i-1] + seq[pos:])\n",
    "\n",
    "    return DNAOrig, DNAMotif, motifFix.upper()\n",
    "\n",
    "\n",
    "adnOri, adn, fix_motif = implantMotif(None, '', k, 0, t, n) #générer les séquences et le motif sans variation\n",
    "\n",
    "print(\"Les t =\", t,\"séquence originale de longueur n-k =\", n-k)\n",
    "for i,seq in enumerate(adnOri): \n",
    "    print(seq)\n",
    "    \n",
    "print(\"\\nLes t =\", t,\"séquence longueur n =\", n, \"implantées avec le motif\", fix_motif ,\"de longueur k =\", k)\n",
    "for i,seq in enumerate(adn): \n",
    "    print(seq)\n",
    "\n",
    "adn  = [s.upper() for s in adn]\n",
    "#print (adn)"
   ]
  },
  {
   "cell_type": "markdown",
   "metadata": {
    "id": "u27bZ9zV0ngE"
   },
   "source": [
    "2\\. Définissez une fonction ``construct_tree`` pour construire un suffix tree à partir des séquences artificielles (après implantation) en utilisant le python package suffix-trees trouvable ici: https://pypi.org/project/suffix-trees/. Tester si votre fonction est capable de trouver le motif sans variation implanté."
   ]
  },
  {
   "cell_type": "code",
   "execution_count": 30,
   "metadata": {
    "id": "sDeaGF8V11ew"
   },
   "outputs": [
    {
     "name": "stdout",
     "output_type": "stream",
     "text": [
      "\u001b[33mDEPRECATION: Configuring installation scheme with distutils config files is deprecated and will no longer work in the near future. If you are using a Homebrew or Linuxbrew Python, please see discussion at https://github.com/Homebrew/homebrew-core/issues/76621\u001b[0m\n",
      "Requirement already satisfied: suffix_trees in /usr/local/lib/python3.8/site-packages (0.3.0)\n",
      "\u001b[33mDEPRECATION: Configuring installation scheme with distutils config files is deprecated and will no longer work in the near future. If you are using a Homebrew or Linuxbrew Python, please see discussion at https://github.com/Homebrew/homebrew-core/issues/76621\u001b[0m\n"
     ]
    }
   ],
   "source": [
    "!pip3 install suffix_trees"
   ]
  },
  {
   "cell_type": "code",
   "execution_count": 31,
   "metadata": {
    "id": "BDYzYIcY0ngF"
   },
   "outputs": [
    {
     "name": "stdout",
     "output_type": "stream",
     "text": [
      "Position de abc dans abcdefghab :\n",
      "0\n",
      "\n",
      "Position de ab dans abcdefghab :\n",
      "{0, 8}\n",
      "\n",
      "Les séquences implantées : \n",
      "GTCGGTCTGGGCTTTACTAGGTAGGTGATTGTAAATGGGCGTACACACCGTGCGGTAGTTGAGACCGACCCGACTTGCGACAATAGTTCACATCGAGTAG\n",
      "CGCGTCAGGATTAATAATACAAGGTCTTGAAACCATTGAGAACGATCGCCCCGACTTTACACTAGGACTCGTTCGTGCCGGATGTCTCGGTCTAGAGTTG\n",
      "GTCTCTGAGAAATTCGAGCATGCCCCCTTCCCCGACTTGGTAGACCTTGTAGACGACGTTAATGCGGCTGCATTTACGAACCCGGACCCGAATTTTGGAA\n",
      "TAGCCACCTGCGGATTTCTGAAACAACCCGACTTATATCACTGGCTCTTCCGATTCACACTCCTGGGGGGCTAGGGAGGTAGGTCTTTTCGATTAGCACC\n",
      "GGTGACGATTATCTTTAGCAGTCAACGGCTCCTTCTTTGATCGCGGTCTAACCATCAAACCCCGACTTCACGTGGCCCGCTCCATGTTGAGCTAGTGGCC\n",
      "\n",
      "Les positions du motif CCCGACTT implanté dans les séquences\n",
      "{68, 326, 230, 460, 149}\n"
     ]
    }
   ],
   "source": [
    "from suffix_trees import STree\n",
    "\n",
    "st = STree.STree(\"abcdefghab\")\n",
    "print(\"Position de abc dans abcdefghab :\")\n",
    "print(st.find(\"abc\")) # 0\n",
    "print(\"\\nPosition de ab dans abcdefghab :\")\n",
    "print(st.find_all(\"ab\")) # [0, 8]\n",
    "\n",
    "def construct_tree(sequences):\n",
    "    \"\"\"\n",
    "    construire un abre de suffixe\n",
    "    entrée1 sequences : matrice de dimension txn avec les sequences\n",
    "    sortie1 st : arbre de suffixe\n",
    "    REMARQUE: Vous devez concatener toutes les sequences de la matrice avant d'appeller la fonction STree\n",
    "    \"\"\"\n",
    "    seqConcat = \"\".join(sequences)\n",
    "    return STree.STree(seqConcat)\n",
    "\n",
    "print(\"\\nLes séquences implantées : \")\n",
    "for seq in adn :\n",
    "    print(seq)\n",
    "\n",
    "tree = construct_tree(adn)\n",
    "\n",
    "print(\"\\nLes positions du motif\", fix_motif, \"implanté dans les séquences\")\n",
    "print(tree.find_all(fix_motif))\n"
   ]
  },
  {
   "cell_type": "markdown",
   "metadata": {},
   "source": [
    "<font color = blue>\n",
    "    Nous retrouvons bien les positions des motifs (sans variations) implantés dans nos séquences\n",
    "</font>"
   ]
  },
  {
   "cell_type": "markdown",
   "metadata": {
    "id": "rdSlwIl00ngH"
   },
   "source": [
    "3\\. Avant de chercher les motifs, implémentez ou réutilisez les fonctions pour générer tous les motifs (k-mer) possibles de taille k, en éliminant les motifs peu complexe pour éviter les calculs inutiles."
   ]
  },
  {
   "cell_type": "code",
   "execution_count": 32,
   "metadata": {},
   "outputs": [],
   "source": [
    "import re"
   ]
  },
  {
   "cell_type": "code",
   "execution_count": 33,
   "metadata": {},
   "outputs": [],
   "source": [
    "#Fonction modifiée du TME précédent pour être utilisée avec des listes.\n",
    "def removeLowComplexe(motifs, reLow = 5):\n",
    "    \"\"\"\n",
    "    Eleve les motifs peu complexe \n",
    "    entrée motifs: list de motifs\n",
    "    sortie validMotif: liste de motifs filtré\n",
    "    \"\"\"\n",
    "    validMotif = []\n",
    "    \n",
    "    for motif in motifs : \n",
    "        \n",
    "        k = str(len(motif))\n",
    "        reLow_fois_même_lettre = '([ACTG]*A){'+ str(reLow) +'}|([ACTG]*C){'+ str(reLow) +'}|([ACTG]*T){'+ str(reLow) +'}|([ACTG]*G){'+ str(reLow) +'}|'\n",
    "        deux_lettres_repetee = '([ACTG]*AC){3}|([ATCG]*AT){3}|([ATCG]*AG){3}|([ATCG]*TA){3}|([ATCG]*TG){3}|([ATCG]*TC){3}|([ATCG]*CG){3}|([ATCG]*CA){3}|([ATCG]*CT){3}|([ATCG]*GA){3}|([ATCG]*GT){3}|([ATCG]*GC){3}|'\n",
    "        uniquement_deux_lettres = '[AC]{'+k+'}|[AT]{'+k+'}|[AG]{'+k+'}|[TG]{'+k+'}|[TC]{'+k+'}|[GC]{'+k+'}'\n",
    "        \n",
    "        p = re.compile(reLow_fois_même_lettre + deux_lettres_repetee + uniquement_deux_lettres)\n",
    "        m = p.match(motif.upper())\n",
    "        if not m:\n",
    "            validMotif.append(motif);\n",
    "            \n",
    "    return validMotif"
   ]
  },
  {
   "cell_type": "code",
   "execution_count": 34,
   "metadata": {},
   "outputs": [
    {
     "name": "stdout",
     "output_type": "stream",
     "text": [
      "Nombre de motifs de taille 8 : 65536\n",
      "Nombre de motifs de taille 8 'complexes' : 61944\n"
     ]
    }
   ],
   "source": [
    "from itertools import product\n",
    "\n",
    "#Genere tous les K-mers de taille K ayant de AAA... à TTT...\n",
    "allkmers = product(nuc, repeat=k)\n",
    "kmers = [\"\".join(k) for k in list(allkmers)] #Liste de tous les motifs de taille k possibles\n",
    "print(\"Nombre de motifs de taille\",k,\":\",len(kmers))\n",
    "\n",
    "#Enlever les motifs peu complexe\n",
    "#Tous les motifs avec trois fois deux lettres répétées, avec reLow fois la même lettre et avec uniquement deux lettres\n",
    "kmersValid = removeLowComplexe(kmers, 6)\n",
    "print(\"Nombre de motifs de taille\",k,\"'complexes' :\",len(kmersValid))"
   ]
  },
  {
   "cell_type": "markdown",
   "metadata": {
    "id": "AhKHuWkE0ngK"
   },
   "source": [
    "4\\. **Exact matching:** Définissez la fonction ``exact_match`` qui cherche dans le suffix tree tous les motifs possibles (k-mers), générés à la question precedent. La fonction renvoie un dictionnaire qui contient les motifs (clés) et leurs nombre d'occurrence (valeurs). Ce dictionnaire doit être trié par nombre d'occurrences. \n",
    "\n",
    "Ensuite, trouvez et affichez les 10 motifs plus fréquents dans notre jeu de données artificiels."
   ]
  },
  {
   "cell_type": "code",
   "execution_count": 35,
   "metadata": {},
   "outputs": [],
   "source": [
    "from collections import OrderedDict"
   ]
  },
  {
   "cell_type": "code",
   "execution_count": 36,
   "metadata": {
    "id": "pUmfblsq0ngL"
   },
   "outputs": [
    {
     "name": "stdout",
     "output_type": "stream",
     "text": [
      "Le motif implanté : CCCGACTT\n",
      "Les 10 meilleurs motifs trouvés :\n",
      "    CCCGACTT 5\n",
      "    CCCCGACT 3\n",
      "    ACCCGACT 2\n",
      "    AGGTAGGT 2\n",
      "    CCGACTTG 2\n",
      "    AAACCATT 1\n",
      "    AAACCCCG 1\n",
      "    AAATGGGC 1\n",
      "    AAATTCGA 1\n",
      "    AACCATCA 1\n",
      "    AACCATTG 1\n"
     ]
    }
   ],
   "source": [
    "def exact_match(kmersV, stree):\n",
    "    \"\"\"\n",
    "    Cherche dans le suffix tree tous les motifs possibles\n",
    "    entrée1 kmersV: Liste de Kmers à chercher\n",
    "    entrée2 stree: suffix tree\n",
    "    sortie1 motif_occur_sorted: dictionnaire qui contient les motifs (clés) et leurs nombre d'occurrences (values).\n",
    "    \"\"\"\n",
    "    motif_occur = {}\n",
    "    \n",
    "    for kmer in kmersV :\n",
    "        motif_occur[kmer] = len(stree.find_all(kmer))\n",
    "    \n",
    "    return dict(sorted(motif_occur.items(), key=lambda x: x[1], reverse = True))\n",
    "\n",
    "st = construct_tree(adn)\n",
    "motif_occur = exact_match(kmersValid, st)\n",
    "\n",
    "print(\"Le motif implanté :\",fix_motif)\n",
    "print(\"Les 10 meilleurs motifs trouvés :\")\n",
    "for i, (clef, valeur) in enumerate(motif_occur.items()):\n",
    "    print(\"   \",clef,valeur)\n",
    "    if i == 10 :\n",
    "        break"
   ]
  },
  {
   "cell_type": "markdown",
   "metadata": {
    "id": "GqpsNfaA0ngM"
   },
   "source": [
    "5\\. Avez-vous réussi à trouver votre motif initial implanté en séquences? l'algorithme était-il rapide? Faites attention aux valeurs élevées des variable k, t, et n par rapport aux TMEs précédants. Quelle est la complexité de chaque recherche de motif? "
   ]
  },
  {
   "cell_type": "markdown",
   "metadata": {
    "id": "cTWCNaA9jLFG"
   },
   "source": [
    "<font color = blue>\n",
    "    Oui, nous avons réussi à retrouver notre motif initial. Il arrive en première position des motifs les plus fréquent avec un score de 5. La compléxité pour construire le suffix Tree dans les modules fournis par python est linéaire soit 𝑂(|genome|). Soit k la taille des motifs recherchés et n le nombre de k-mer que l'on recherche. On effectue n tour de boucle avec à chaque fois au plus 4 comparaisons par noeud (pour les 4 nucléotides). Nous parcourons au maximum k noeuds pour la taille du motif. La complexité de la recherche est dont en 𝑂(n * 4 * |motif|) soit 𝑂(nk). C'est une compléxité linéaire par rapport à la taille des motifs et par rapport au nombre de motifs recherché. Pour chaque recherche de motif, la compléxité est en 𝑂(|motif|) Cet algorithme est rapide.\n",
    "</font>"
   ]
  },
  {
   "cell_type": "markdown",
   "metadata": {
    "id": "HrSnp3Q70ngM"
   },
   "source": [
    "6\\. Introduisez deux variation (v=2) au motif initial. Pour cela avant chaque implantation, créer d'abord un motif varié (avec v substitutions choisies aléatoirement) à partir du motif initial et puis implantez-le dans une séquence. Repetez pour chaque séquence dans le jeu de données. Il suffit de mettre ``v`` égal ``2`` et réutiliser les fonctions définies à la question 1."
   ]
  },
  {
   "cell_type": "code",
   "execution_count": 37,
   "metadata": {
    "id": "OqVEMgjW0ngN"
   },
   "outputs": [
    {
     "name": "stdout",
     "output_type": "stream",
     "text": [
      "Les t = 5 séquence originale de longueur n-k = 92\n",
      "CGTGAAATGTGTCGGAAACCGGCCCAGACCGTATCGTGTGGGAAAGAGGAGAACAGAGATTGTCGATTGTTGTGCGAACAGGCCATCTAGTT\n",
      "TATTGCCTTCGTTAAGTGATCCTGCAGCATCAAGAATTAAACAGTAGCTGTCCCGGGTCATCAGCCGCGGACTGAGGGTTTAGATAACCCCT\n",
      "TTGAACTCCATTCTTTGGTGCGAGGGCTATCCGTCATGAGTGTGATTGGTATGATAATGAACCTAGGCAGTTCGTGATGGACAGTCCCCTAC\n",
      "CGGTACATCAGGTCGAGGGCGCAGATCTCGGCAAGAGACACCATAATTTTCGCATTCATATGACGACTCACGCGCTCGGCTGGTAGCCTTGG\n",
      "TTACTCGTCCAACTCGATCCCCTTCAGTATACTGTCATGAAAGTTTCCCGCGGTACCTCACCATCGACCAACTACGCCACGCCCGTCGATCG\n",
      "\n",
      "Les t = 5 séquence longueur n = 100 implantées avec le motif ATGACTTA de longueur k = 8 présentant 2 variations.\n",
      "CGTGAAATGTGTCGGAAACCGGCCCAGACCGTATCGTGTGGGAAAGAGGAGAACAGAGATTGTCGATTGTTGTGCGAACAGGCCATCTAatgacttaGTT\n",
      "TATTGCCTTCGTTAAGTGATCCTGCAGCATatgaAttCCAAGAATTAAACAGTAGCTGTCCCGGGTCATCAGCCGCGGACTGAGGGTTTAGATAACCCCT\n",
      "TTGAACTCCATTCTTTGGTGCGAGGGCTATCCGTCATGAGTGTGATTGGTATGATAATGAACCTAGGCAGTTCGTGATGGAatAaTttaCAGTCCCCTAC\n",
      "CGGTACATCAGGTCGAGGGCGCAGATCTCGGCAAGAGACACCATAATTTTCGCATTCGtgaAttaATATGACGACTCACGCGCTCGGCTGGTAGCCTTGG\n",
      "TTACTCGTCCAACCtgacCtaTCGATCCCCTTCAGTATACTGTCATGAAAGTTTCCCGCGGTACCTCACCATCGACCAACTACGCCACGCCCGTCGATCG\n"
     ]
    }
   ],
   "source": [
    "v=2\n",
    "adnOri, adn,  fix_motif = implantMotif(adnOri, fix_motif, k, v, t, n)\n",
    "\n",
    "print(\"Les t =\", t,\"séquence originale de longueur n-k =\", n-k)\n",
    "for i,seq in enumerate(adnOri): \n",
    "    print(seq)\n",
    "\n",
    "print(\"\\nLes t =\", t,\"séquence longueur n =\", n, \"implantées avec le motif\", fix_motif ,\"de longueur k =\", k, \"présentant\", v, \"variations.\")\n",
    "for i,seq in enumerate(adn): \n",
    "    print(seq)\n",
    "    \n",
    "adn  = [s.upper() for s in adn]"
   ]
  },
  {
   "cell_type": "markdown",
   "metadata": {
    "id": "1RGyKcwP0ngN"
   },
   "source": [
    "7\\. Construisez le suffix tree à nouveau à partir des nouvelles séquences en utilisant le python package suffix-trees."
   ]
  },
  {
   "cell_type": "code",
   "execution_count": 38,
   "metadata": {
    "id": "xN70Hhtt0ngO"
   },
   "outputs": [],
   "source": [
    "st = construct_tree(adn)"
   ]
  },
  {
   "cell_type": "markdown",
   "metadata": {
    "id": "ZVbMQGFX0ngO"
   },
   "source": [
    "8\\. **Inexact matching:** \n",
    "\n",
    "Définissez fonction ``inexact_match`` qui cherche tous les motifs possibles (k-mers) générés à la question 2 dans le nouveau suffix tree donné (construit à partir des nouvelles séquences qui incluent le motif qui varie), et renvoie un dictionnaire qui contient les motifs (keys) et les listes de toutes leurs variations (values). Il faut que vous utilisiez la technique *seed* pour trouver le motif variable. \n",
    "\n",
    "Ensuite afficher les top motifs (les sequence consensus) de meilleurs scores.\n",
    "Pour calculer les scores utiliser les fonctions précédentes. Par exemple, le score d'une matrice de fréquence est la somme de max de chaque colonne."
   ]
  },
  {
   "cell_type": "code",
   "execution_count": 39,
   "metadata": {},
   "outputs": [],
   "source": [
    "def hamdist(str1, str2):\n",
    "    \"\"\"\n",
    "    Calcul la distance de hamming entre deux chaînes de caractères\n",
    "    entrée str1: chaîne de caractères\n",
    "    entrée str2: chaîne de caractères\n",
    "    sortie distance: distance de hamming\n",
    "    \"\"\"\n",
    "    distance = 0\n",
    "    \n",
    "    for i in range(len(str1)) :\n",
    "        if (str1[i].upper() != str2[i].upper()) :\n",
    "            distance += 1\n",
    "\n",
    "    return distance"
   ]
  },
  {
   "cell_type": "code",
   "execution_count": 40,
   "metadata": {},
   "outputs": [
    {
     "name": "stdout",
     "output_type": "stream",
     "text": [
      "{'banbna': {'banana': 1, 'banbna': 2}}\n"
     ]
    }
   ],
   "source": [
    "#Renvoie un dictionnaire au lieu d'une liste de motif\n",
    "\n",
    "def inexact_match_V2(kmersV, sequences, stree, v):\n",
    "    \"\"\"\n",
    "    cherche de motif variables dans un suffix tree\n",
    "    entrée1 kmersV: liste de motifs à chercher\n",
    "    entrée2 sequences: matrice de dimension txn avec les sequences\n",
    "    entrée3 stree: suffix Tree\n",
    "    entrée4 v: nombre de variations dans le motifs\n",
    "    sortie1 motif_match: dictionnaire clé=sequence consensus des motifs; value= dictionnaire avec le motif en clef et le nombre de d'occurence de chaque motif en value.\n",
    "    \"\"\"\n",
    "    seqConcat = \"\".join(sequences)\n",
    "    nbSeed = v + 1\n",
    "    k = len(kmersV[0])\n",
    "    lenSeed = k//nbSeed\n",
    "    motif_match = {}\n",
    "    \n",
    "    \n",
    "    for i, kmer in enumerate(kmersV) : \n",
    "        \n",
    "        listeIndices = []\n",
    "        allCandidates = {}\n",
    "    \n",
    "        for i in range(v): #i numero de la \"seed\", du sous-mot\n",
    "            \n",
    "            seed = kmer[i*lenSeed:i*lenSeed + lenSeed] #Sous-mot\n",
    "            \n",
    "            candidateIndex = stree.find_all(seed) #Toutes les occcurences du sous mots\n",
    "            \n",
    "            for index in candidateIndex : #On parcourt les occurences du sous mots\n",
    "                \n",
    "                #On extrait le mot candidat en fonction du numero de la \"seed\"\n",
    "                \n",
    "                candidateText = seqConcat[index-i*lenSeed : index+k-i*lenSeed]\n",
    "                \n",
    "                #Le mot candidat doit être de la bonne taille et avoir le bon nombre de variation\n",
    "                if (len(candidateText) == k and hamdist(kmer,candidateText)<=v) :\n",
    "                    \n",
    "                    if index-i*lenSeed not in listeIndices :\n",
    "                        \n",
    "                        #On met à jour la liste d'indice pour ne pas avoir de repetition\n",
    "                        listeIndices.append(index-i*lenSeed)\n",
    "                        \n",
    "                        #Le même mot a déjà été trouvé autre part\n",
    "                        if candidateText in allCandidates : \n",
    "                            allCandidates[candidateText] += 1\n",
    "                        else : \n",
    "                            allCandidates[candidateText] = 1\n",
    "                            \n",
    "        motif_match[kmer] = allCandidates\n",
    "\n",
    "   \n",
    "    return motif_match\n",
    "\n",
    "#Test\n",
    "seqTest = \"banananabanbnaabanbna\"\n",
    "st = construct_tree([seqTest])\n",
    "k=6\n",
    "motif_match = inexact_match_V2(['banbna'], [seqTest], st, 1)\n",
    "print(motif_match)"
   ]
  },
  {
   "cell_type": "code",
   "execution_count": 41,
   "metadata": {
    "id": "IJ1qE29o0ngP"
   },
   "outputs": [
    {
     "name": "stdout",
     "output_type": "stream",
     "text": [
      "0\n",
      "{'banbna': ['banana', 'banbna', 'banbna']}\n"
     ]
    }
   ],
   "source": [
    "def inexact_match(kmersV, sequences, stree, v):\n",
    "    \"\"\"\n",
    "    cherche de motif variables dans un suffix tree\n",
    "    entrée1 kmersV: liste de motifs à chercher\n",
    "    entrée2 sequences: matrice de dimension txn avec les sequences\n",
    "    entrée3 stree: suffix Tree\n",
    "    entrée4 v: nombre de variations dans le motifs\n",
    "    sortie1 motif_match: dictionnaire clé=sequence consensus des motifs; value= list de motifs.\n",
    "    \"\"\"\n",
    "    seqConcat = \"\".join(sequences)\n",
    "    nbSeed = v + 1\n",
    "    k = len(kmersV[0])\n",
    "    lenSeed = k//nbSeed\n",
    "    motif_match = {}\n",
    "    \n",
    "    \n",
    "    for i, kmer in enumerate(kmersV) : \n",
    "        if i%500 == 0 :\n",
    "            print(i)\n",
    "        listeIndices = []\n",
    "        allCandidates = []\n",
    "        \n",
    "        \n",
    "        for i in range(nbSeed): #i numero de la \"seed\", du sous-mot\n",
    "            seed = kmer[i*lenSeed:i*lenSeed + lenSeed] #Sous-mot\n",
    "            candidateIndex = stree.find_all(seed) #Toutes les occcurences du sous mots\n",
    "            \n",
    "            for index in candidateIndex : #On parcourt les occurences du sous mots\n",
    "                \n",
    "                #On extrait le mot candidat en fonction du numero de la \"seed\"\n",
    "                \n",
    "                candidateText = seqConcat[index-i*lenSeed : index+k-i*lenSeed]\n",
    "                \n",
    "                #Le mot candidat doit être de la bonne taille et avoir le bon nombre de variation\n",
    "                if (len(candidateText) == k and hamdist(kmer,candidateText)<=v) :\n",
    "                \n",
    "                    if index-i*lenSeed not in listeIndices :\n",
    "                        \n",
    "                        #On met à jour la liste d'indice pour ne pas avoir de repetition\n",
    "                        listeIndices.append(index-i*lenSeed)\n",
    "                        \n",
    "                        #Le même mot a déjà été trouvé autre part\n",
    "                        allCandidates.append(candidateText)\n",
    "                  \n",
    "        motif_match[kmer] = allCandidates\n",
    "\n",
    "   \n",
    "    return motif_match\n",
    "\n",
    "\n",
    "#Test\n",
    "seqTest = \"banananabanbnaabanbna\"\n",
    "st = construct_tree([seqTest])\n",
    "k=6\n",
    "motif_match = inexact_match(['banbna'], [seqTest], st, 1)\n",
    "print(motif_match)\n",
    "#{'banbna': ['banana', 'banbna', 'banbna']}"
   ]
  },
  {
   "cell_type": "code",
   "execution_count": 42,
   "metadata": {},
   "outputs": [],
   "source": [
    "#Construire matrice de fréquence\n",
    "def profile(motifs, k, nuc):\n",
    "    \"\"\"\n",
    "    Construire une matrice de fréquence\n",
    "    entrée motifs: liste de motifs\n",
    "    entrée k: taille du motif\n",
    "    entrée nuc: alphabet\n",
    "    sortie matriceFreq: le matrice de fréquence\n",
    "    \"\"\"\n",
    "    q = len(nuc) #Hauteur de la matrice\n",
    "    #Matruce de hauteur q (une ligne pour chaque nucléotide) et de longueur k (une colonne pour chaque position du motif)\n",
    "    matriceFreq = np.zeros((q, k))\n",
    "    \n",
    "    #On parcourt tous les motifs\n",
    "    for motif in motifs:\n",
    "        \n",
    "        #On parcourt tous les nucléotides du motif\n",
    "        for i,n in enumerate(motif):\n",
    "            for j in range(q) : #On test quel nucléotide à la position i\n",
    "                if (n == nuc[j].upper() or n == nuc[j].lower()) :\n",
    "                    matriceFreq[j][i] += 1 #On incrémente le compteur de nucléotide pour la position i\n",
    "                    break\n",
    "                    \n",
    "    return matriceFreq\n",
    "\n",
    "def getScore(MF, k):\n",
    "    \"\"\"\n",
    "    Renvoie le score de MF, la somme des max de chaque colonne\n",
    "    entrée P: matrice de fréquence\n",
    "    entrée k: taille du motif\n",
    "    sortie sc: score\n",
    "    \"\"\"\n",
    "    return np.sum(np.max(MF, axis = 0))"
   ]
  },
  {
   "cell_type": "code",
   "execution_count": 43,
   "metadata": {},
   "outputs": [],
   "source": [
    "def printTopMotifsScore(motif_match, top):\n",
    "    \"\"\"\n",
    "    Affiche les Top Motifs ayant les meilleurs scores \n",
    "    entrée motif_match : dictionnaire clé = sequence consensus des motifs et value = list de motifs\n",
    "    entrée top: la valeur à consider pour l'affichage\n",
    "    sortie None\n",
    "    \"\"\"\n",
    "    dico = {clef:len(valeur) for (clef, valeur) in motif_match.items()}\n",
    "    liste = sorted(dico.items(), key=lambda x: x[1], reverse = True)[:top*2]\n",
    "    \n",
    "    dicoScore = {}\n",
    "    for i, (seqCons, occ) in enumerate(liste):\n",
    "        #Calcul du score de la matrice de fréquence\n",
    "        MF = profile(motif_match[seqCons], len(seqCons), nuc)\n",
    "        score = getScore(MF, len(seqCons))\n",
    "        dicoScore[(seqCons, occ)] = score\n",
    "        \n",
    "    \n",
    "    #Affichage\n",
    "    listeScore = sorted(dicoScore.items(), key=lambda x: x[1], reverse = True)\n",
    "    for i,((seqCons, occ), score) in enumerate(listeScore) :\n",
    "        print(seqCons, \"avec\",occ,\"occurences et un score de\", score)\n",
    "        if i == top :\n",
    "            break\n",
    "    return"
   ]
  },
  {
   "cell_type": "code",
   "execution_count": 44,
   "metadata": {},
   "outputs": [
    {
     "name": "stdout",
     "output_type": "stream",
     "text": [
      "0\n",
      "500\n",
      "1000\n",
      "1500\n",
      "2000\n",
      "2500\n",
      "3000\n",
      "3500\n",
      "4000\n"
     ]
    },
    {
     "ename": "KeyboardInterrupt",
     "evalue": "",
     "output_type": "error",
     "traceback": [
      "\u001b[0;31m---------------------------------------------------------------------------\u001b[0m",
      "\u001b[0;31mKeyboardInterrupt\u001b[0m                         Traceback (most recent call last)",
      "\u001b[0;32m/var/folders/9x/tgxvxl7n3sq8f2hj7d_x_qtw0000gn/T/ipykernel_2945/644206965.py\u001b[0m in \u001b[0;36m<module>\u001b[0;34m\u001b[0m\n\u001b[1;32m      1\u001b[0m \u001b[0mst\u001b[0m \u001b[0;34m=\u001b[0m \u001b[0mconstruct_tree\u001b[0m\u001b[0;34m(\u001b[0m\u001b[0madn\u001b[0m\u001b[0;34m)\u001b[0m\u001b[0;34m\u001b[0m\u001b[0;34m\u001b[0m\u001b[0m\n\u001b[0;32m----> 2\u001b[0;31m \u001b[0mmotif_match\u001b[0m \u001b[0;34m=\u001b[0m \u001b[0minexact_match\u001b[0m\u001b[0;34m(\u001b[0m\u001b[0mkmersValid\u001b[0m\u001b[0;34m,\u001b[0m \u001b[0madn\u001b[0m\u001b[0;34m,\u001b[0m \u001b[0mst\u001b[0m\u001b[0;34m,\u001b[0m \u001b[0mv\u001b[0m\u001b[0;34m)\u001b[0m\u001b[0;34m\u001b[0m\u001b[0;34m\u001b[0m\u001b[0m\n\u001b[0m\u001b[1;32m      3\u001b[0m \u001b[0mtop\u001b[0m \u001b[0;34m=\u001b[0m \u001b[0;36m30\u001b[0m\u001b[0;34m\u001b[0m\u001b[0;34m\u001b[0m\u001b[0m\n\u001b[1;32m      4\u001b[0m \u001b[0mprint\u001b[0m\u001b[0;34m(\u001b[0m\u001b[0;34m\"Motif implanté :\"\u001b[0m\u001b[0;34m,\u001b[0m \u001b[0mfix_motif\u001b[0m\u001b[0;34m)\u001b[0m\u001b[0;34m\u001b[0m\u001b[0;34m\u001b[0m\u001b[0m\n\u001b[1;32m      5\u001b[0m \u001b[0mprintTopMotifsScore\u001b[0m\u001b[0;34m(\u001b[0m\u001b[0mmotif_match\u001b[0m\u001b[0;34m,\u001b[0m \u001b[0mtop\u001b[0m\u001b[0;34m)\u001b[0m\u001b[0;34m\u001b[0m\u001b[0;34m\u001b[0m\u001b[0m\n",
      "\u001b[0;32m/var/folders/9x/tgxvxl7n3sq8f2hj7d_x_qtw0000gn/T/ipykernel_2945/3745748035.py\u001b[0m in \u001b[0;36minexact_match\u001b[0;34m(kmersV, sequences, stree, v)\u001b[0m\n\u001b[1;32m     24\u001b[0m         \u001b[0;32mfor\u001b[0m \u001b[0mi\u001b[0m \u001b[0;32min\u001b[0m \u001b[0mrange\u001b[0m\u001b[0;34m(\u001b[0m\u001b[0mnbSeed\u001b[0m\u001b[0;34m)\u001b[0m\u001b[0;34m:\u001b[0m \u001b[0;31m#i numero de la \"seed\", du sous-mot\u001b[0m\u001b[0;34m\u001b[0m\u001b[0;34m\u001b[0m\u001b[0m\n\u001b[1;32m     25\u001b[0m             \u001b[0mseed\u001b[0m \u001b[0;34m=\u001b[0m \u001b[0mkmer\u001b[0m\u001b[0;34m[\u001b[0m\u001b[0mi\u001b[0m\u001b[0;34m*\u001b[0m\u001b[0mlenSeed\u001b[0m\u001b[0;34m:\u001b[0m\u001b[0mi\u001b[0m\u001b[0;34m*\u001b[0m\u001b[0mlenSeed\u001b[0m \u001b[0;34m+\u001b[0m \u001b[0mlenSeed\u001b[0m\u001b[0;34m]\u001b[0m \u001b[0;31m#Sous-mot\u001b[0m\u001b[0;34m\u001b[0m\u001b[0;34m\u001b[0m\u001b[0m\n\u001b[0;32m---> 26\u001b[0;31m             \u001b[0mcandidateIndex\u001b[0m \u001b[0;34m=\u001b[0m \u001b[0mstree\u001b[0m\u001b[0;34m.\u001b[0m\u001b[0mfind_all\u001b[0m\u001b[0;34m(\u001b[0m\u001b[0mseed\u001b[0m\u001b[0;34m)\u001b[0m \u001b[0;31m#Toutes les occcurences du sous mots\u001b[0m\u001b[0;34m\u001b[0m\u001b[0;34m\u001b[0m\u001b[0m\n\u001b[0m\u001b[1;32m     27\u001b[0m \u001b[0;34m\u001b[0m\u001b[0m\n\u001b[1;32m     28\u001b[0m             \u001b[0;32mfor\u001b[0m \u001b[0mindex\u001b[0m \u001b[0;32min\u001b[0m \u001b[0mcandidateIndex\u001b[0m \u001b[0;34m:\u001b[0m \u001b[0;31m#On parcourt les occurences du sous mots\u001b[0m\u001b[0;34m\u001b[0m\u001b[0;34m\u001b[0m\u001b[0m\n",
      "\u001b[0;32m/usr/local/lib/python3.8/site-packages/suffix_trees/STree.py\u001b[0m in \u001b[0;36mfind_all\u001b[0;34m(self, y)\u001b[0m\n\u001b[1;32m    226\u001b[0m                 \u001b[0;32mreturn\u001b[0m \u001b[0;34m{\u001b[0m\u001b[0;34m}\u001b[0m\u001b[0;34m\u001b[0m\u001b[0;34m\u001b[0m\u001b[0m\n\u001b[1;32m    227\u001b[0m \u001b[0;34m\u001b[0m\u001b[0m\n\u001b[0;32m--> 228\u001b[0;31m         \u001b[0mleaves\u001b[0m \u001b[0;34m=\u001b[0m \u001b[0mnode\u001b[0m\u001b[0;34m.\u001b[0m\u001b[0m_get_leaves\u001b[0m\u001b[0;34m(\u001b[0m\u001b[0;34m)\u001b[0m\u001b[0;34m\u001b[0m\u001b[0;34m\u001b[0m\u001b[0m\n\u001b[0m\u001b[1;32m    229\u001b[0m         \u001b[0;32mreturn\u001b[0m \u001b[0;34m{\u001b[0m\u001b[0mn\u001b[0m\u001b[0;34m.\u001b[0m\u001b[0midx\u001b[0m \u001b[0;32mfor\u001b[0m \u001b[0mn\u001b[0m \u001b[0;32min\u001b[0m \u001b[0mleaves\u001b[0m\u001b[0;34m}\u001b[0m\u001b[0;34m\u001b[0m\u001b[0;34m\u001b[0m\u001b[0m\n\u001b[1;32m    230\u001b[0m \u001b[0;34m\u001b[0m\u001b[0m\n",
      "\u001b[0;32m/usr/local/lib/python3.8/site-packages/suffix_trees/STree.py\u001b[0m in \u001b[0;36m_get_leaves\u001b[0;34m(self)\u001b[0m\n\u001b[1;32m    298\u001b[0m             \u001b[0;32mreturn\u001b[0m \u001b[0;34m{\u001b[0m\u001b[0mself\u001b[0m\u001b[0;34m}\u001b[0m\u001b[0;34m\u001b[0m\u001b[0;34m\u001b[0m\u001b[0m\n\u001b[1;32m    299\u001b[0m         \u001b[0;32melse\u001b[0m\u001b[0;34m:\u001b[0m\u001b[0;34m\u001b[0m\u001b[0;34m\u001b[0m\u001b[0m\n\u001b[0;32m--> 300\u001b[0;31m             \u001b[0;32mreturn\u001b[0m \u001b[0;34m{\u001b[0m\u001b[0mx\u001b[0m \u001b[0;32mfor\u001b[0m \u001b[0mn\u001b[0m \u001b[0;32min\u001b[0m \u001b[0mself\u001b[0m\u001b[0;34m.\u001b[0m\u001b[0mtransition_links\u001b[0m\u001b[0;34m.\u001b[0m\u001b[0mvalues\u001b[0m\u001b[0;34m(\u001b[0m\u001b[0;34m)\u001b[0m \u001b[0;32mfor\u001b[0m \u001b[0mx\u001b[0m \u001b[0;32min\u001b[0m \u001b[0mn\u001b[0m\u001b[0;34m.\u001b[0m\u001b[0m_get_leaves\u001b[0m\u001b[0;34m(\u001b[0m\u001b[0;34m)\u001b[0m\u001b[0;34m}\u001b[0m\u001b[0;34m\u001b[0m\u001b[0;34m\u001b[0m\u001b[0m\n\u001b[0m",
      "\u001b[0;32m/usr/local/lib/python3.8/site-packages/suffix_trees/STree.py\u001b[0m in \u001b[0;36m<setcomp>\u001b[0;34m(.0)\u001b[0m\n\u001b[1;32m    298\u001b[0m             \u001b[0;32mreturn\u001b[0m \u001b[0;34m{\u001b[0m\u001b[0mself\u001b[0m\u001b[0;34m}\u001b[0m\u001b[0;34m\u001b[0m\u001b[0;34m\u001b[0m\u001b[0m\n\u001b[1;32m    299\u001b[0m         \u001b[0;32melse\u001b[0m\u001b[0;34m:\u001b[0m\u001b[0;34m\u001b[0m\u001b[0;34m\u001b[0m\u001b[0m\n\u001b[0;32m--> 300\u001b[0;31m             \u001b[0;32mreturn\u001b[0m \u001b[0;34m{\u001b[0m\u001b[0mx\u001b[0m \u001b[0;32mfor\u001b[0m \u001b[0mn\u001b[0m \u001b[0;32min\u001b[0m \u001b[0mself\u001b[0m\u001b[0;34m.\u001b[0m\u001b[0mtransition_links\u001b[0m\u001b[0;34m.\u001b[0m\u001b[0mvalues\u001b[0m\u001b[0;34m(\u001b[0m\u001b[0;34m)\u001b[0m \u001b[0;32mfor\u001b[0m \u001b[0mx\u001b[0m \u001b[0;32min\u001b[0m \u001b[0mn\u001b[0m\u001b[0;34m.\u001b[0m\u001b[0m_get_leaves\u001b[0m\u001b[0;34m(\u001b[0m\u001b[0;34m)\u001b[0m\u001b[0;34m}\u001b[0m\u001b[0;34m\u001b[0m\u001b[0;34m\u001b[0m\u001b[0m\n\u001b[0m",
      "\u001b[0;32m/usr/local/lib/python3.8/site-packages/suffix_trees/STree.py\u001b[0m in \u001b[0;36m_get_leaves\u001b[0;34m(self)\u001b[0m\n\u001b[1;32m    298\u001b[0m             \u001b[0;32mreturn\u001b[0m \u001b[0;34m{\u001b[0m\u001b[0mself\u001b[0m\u001b[0;34m}\u001b[0m\u001b[0;34m\u001b[0m\u001b[0;34m\u001b[0m\u001b[0m\n\u001b[1;32m    299\u001b[0m         \u001b[0;32melse\u001b[0m\u001b[0;34m:\u001b[0m\u001b[0;34m\u001b[0m\u001b[0;34m\u001b[0m\u001b[0m\n\u001b[0;32m--> 300\u001b[0;31m             \u001b[0;32mreturn\u001b[0m \u001b[0;34m{\u001b[0m\u001b[0mx\u001b[0m \u001b[0;32mfor\u001b[0m \u001b[0mn\u001b[0m \u001b[0;32min\u001b[0m \u001b[0mself\u001b[0m\u001b[0;34m.\u001b[0m\u001b[0mtransition_links\u001b[0m\u001b[0;34m.\u001b[0m\u001b[0mvalues\u001b[0m\u001b[0;34m(\u001b[0m\u001b[0;34m)\u001b[0m \u001b[0;32mfor\u001b[0m \u001b[0mx\u001b[0m \u001b[0;32min\u001b[0m \u001b[0mn\u001b[0m\u001b[0;34m.\u001b[0m\u001b[0m_get_leaves\u001b[0m\u001b[0;34m(\u001b[0m\u001b[0;34m)\u001b[0m\u001b[0;34m}\u001b[0m\u001b[0;34m\u001b[0m\u001b[0;34m\u001b[0m\u001b[0m\n\u001b[0m",
      "\u001b[0;32m/usr/local/lib/python3.8/site-packages/suffix_trees/STree.py\u001b[0m in \u001b[0;36m<setcomp>\u001b[0;34m(.0)\u001b[0m\n\u001b[1;32m    298\u001b[0m             \u001b[0;32mreturn\u001b[0m \u001b[0;34m{\u001b[0m\u001b[0mself\u001b[0m\u001b[0;34m}\u001b[0m\u001b[0;34m\u001b[0m\u001b[0;34m\u001b[0m\u001b[0m\n\u001b[1;32m    299\u001b[0m         \u001b[0;32melse\u001b[0m\u001b[0;34m:\u001b[0m\u001b[0;34m\u001b[0m\u001b[0;34m\u001b[0m\u001b[0m\n\u001b[0;32m--> 300\u001b[0;31m             \u001b[0;32mreturn\u001b[0m \u001b[0;34m{\u001b[0m\u001b[0mx\u001b[0m \u001b[0;32mfor\u001b[0m \u001b[0mn\u001b[0m \u001b[0;32min\u001b[0m \u001b[0mself\u001b[0m\u001b[0;34m.\u001b[0m\u001b[0mtransition_links\u001b[0m\u001b[0;34m.\u001b[0m\u001b[0mvalues\u001b[0m\u001b[0;34m(\u001b[0m\u001b[0;34m)\u001b[0m \u001b[0;32mfor\u001b[0m \u001b[0mx\u001b[0m \u001b[0;32min\u001b[0m \u001b[0mn\u001b[0m\u001b[0;34m.\u001b[0m\u001b[0m_get_leaves\u001b[0m\u001b[0;34m(\u001b[0m\u001b[0;34m)\u001b[0m\u001b[0;34m}\u001b[0m\u001b[0;34m\u001b[0m\u001b[0;34m\u001b[0m\u001b[0m\n\u001b[0m",
      "\u001b[0;31mKeyboardInterrupt\u001b[0m: "
     ]
    }
   ],
   "source": [
    "st = construct_tree(adn)\n",
    "motif_match = inexact_match(kmersValid, adn, st, v)\n",
    "top = 30\n",
    "print(\"Motif implanté :\", fix_motif)\n",
    "printTopMotifsScore(motif_match, top)"
   ]
  },
  {
   "cell_type": "code",
   "execution_count": 20,
   "metadata": {},
   "outputs": [
    {
     "name": "stdout",
     "output_type": "stream",
     "text": [
      "Motif implanté : AGTTTTTA\n",
      "ATGAAACG avec 12 occurences et un score de 73.0\n",
      "CGCTTTTA avec 12 occurences et un score de 73.0\n",
      "CTTATAAA avec 11 occurences et un score de 68.0\n",
      "TTATAAAG avec 11 occurences et un score de 68.0\n",
      "CGCATATA avec 11 occurences et un score de 67.0\n",
      "AAGCTACG avec 11 occurences et un score de 66.0\n",
      "AATGAAAC avec 10 occurences et un score de 62.0\n",
      "ATATAGAG avec 10 occurences et un score de 62.0\n",
      "TATAAAGC avec 10 occurences et un score de 62.0\n",
      "ACTATGTA avec 10 occurences et un score de 61.0\n",
      "CGAAACTA avec 10 occurences et un score de 61.0\n"
     ]
    }
   ],
   "source": [
    "print(\"Motif implanté :\", fix_motif)\n",
    "printTopMotifsScore(motif_match, 10)"
   ]
  },
  {
   "cell_type": "code",
   "execution_count": 21,
   "metadata": {},
   "outputs": [
    {
     "data": {
      "text/plain": [
       "['AGGCAAAG', 'AGGCAACG']"
      ]
     },
     "execution_count": 21,
     "metadata": {},
     "output_type": "execute_result"
    }
   ],
   "source": [
    "motif_match[\"AGGCAAAC\"]#La meilleure séquence consensus trouvé pour ces séquences aléatoires"
   ]
  },
  {
   "cell_type": "markdown",
   "metadata": {
    "id": "5ABb0l6D0ngQ"
   },
   "source": [
    "9\\. Créez le motif logo à partir des séquences du meilleur motif variable que vous venez de trouver. Vous pouvez utilizer ce site: https://weblogo.berkeley.edu/logo.cgi. Affichez votre logo ci-dessous."
   ]
  },
  {
   "cell_type": "markdown",
   "metadata": {
    "id": "tXYeF8IY0ngQ"
   },
   "source": [
    "Motif LOGO:\n",
    "<img src=\"logo_1.png\">"
   ]
  },
  {
   "cell_type": "markdown",
   "metadata": {
    "id": "acxgFV6b0ngQ"
   },
   "source": [
    "10\\. Avez-vous réussi à trouver votre motif initial implanté en séquences? l'algorithme était-il rapide? Quelle est la complexité de l'algorithme?"
   ]
  },
  {
   "cell_type": "markdown",
   "metadata": {},
   "source": [
    "\n",
    "    - Le motif sans variations implanté est retrouvé dans la liste des motifs de la 8e séquence consensus. Cependant on retrouve beaucoup de positions en commun avec notre motif dans les autres séquences consensus trouvées. \n",
    "\n",
    "    - La complexité de la construction de l'arbre est toujours en 𝑂(|genome|). \n",
    "\n",
    "    - Soit un motif de taille k avec v variations. On obtiendra v+1 seed de longueur k/(v+1). On fait un tour de boucle pour rechercher chaque seed, soit v+1 tour de boucle.  \n",
    "    - Pour chaque tour de boucle, on cherche alors toutes les occurences de la seed dans notre génome. On parcourt au maxiumum autant de noeud que le longueur de sous mot (soit k/v+1) avec au pire 4 comparaisons par noeud (pour chacun de nucléotides). Cela nous donne une complexité de 𝑂(4 * k/(v+1)) pour la recherche de chaque seed dans l'arbre. On parcourt ensuite tous les motifs correspondant trouvés pour tester leur longueur et leur correspondance avec notre motif initial.  Le nombre d’occurence de notre seed est au maximum de |genome|/nombre de seed soit |genome| / (v + 1). On a donc une complexité de 𝑂( 4 * k/(v+1) * |genome| / (v + 1) ) pour une seed. Soit 𝑂((k * |genome|) / (v + 1)). \n",
    "    - Sachant qu'on a v+1 seed pour un motif, donc v + 1 tours de boucle. On arrive à un compléxité de 𝑂(k * |genome|) avec k la longueur de motif pour le recherche d'un motif avec v variations. Cependant le compléxité moyenne est inférieur car il est rare que le seed que l'on recherche se répéte tous le long du génome à l'indentique.\n",
    "    - Enfin on, si on recherche n motifs, on arrive à une compléxité de 𝑂( n * k * genome ). C'est une relation linéaire entre le nombre de motif à chercher, la taille du génome et la longueur de motifs.\n"
   ]
  },
  {
   "cell_type": "markdown",
   "metadata": {
    "id": "NAygy1d00ngR"
   },
   "source": [
    "11\\. Tester l'algorithme  suffix tree sur vos données de chipSeq. N'oubliez pas de chercher les motifs dans le brin complémentaire et faire un merge de résultats. Puis générér le LOGO du motif trouvé."
   ]
  },
  {
   "cell_type": "code",
   "execution_count": 45,
   "metadata": {
    "id": "kPIHUtnb0ngR"
   },
   "outputs": [],
   "source": [
    "def readFasta(genome):\n",
    "    sequence = []\n",
    "    file = open(genome, \"r\")\n",
    "    sequences = []\n",
    "    seq = \"\"\n",
    "    for s in file:\n",
    "        if s[0] != \">\":\n",
    "            seq += s.strip().upper()\n",
    "        else:\n",
    "            sequences.append(seq)\n",
    "            seq = \"\"\n",
    "    return sequences[1:]"
   ]
  },
  {
   "cell_type": "code",
   "execution_count": 46,
   "metadata": {},
   "outputs": [],
   "source": [
    "def reversecompl(seq):\n",
    "    \"\"\"Renvoie le brin complémentaire d’une séquence.\n",
    "    entrée : sequence de nucléotides (brin sens)\n",
    "    sortie : sequence de nucléotides (brin complementaire)\n",
    "    >>> reversecompl('AACGTGGCA')\n",
    "    'TGCCACGTT'\n",
    "    \"\"\"\n",
    "    compl = {'A': 'T', 'C': 'G', 'G': 'C', 'T':'A', 'a': 't', 'c': 'g', 'g': 'c', 't':'a'}\n",
    "    nvSeq = \"\"\n",
    "    for i in range(len(seq)-1,-1,-1) :\n",
    "        nvSeq = nvSeq + compl[seq[i]]\n",
    "    \n",
    "    return nvSeq"
   ]
  },
  {
   "cell_type": "code",
   "execution_count": 47,
   "metadata": {},
   "outputs": [],
   "source": [
    "genome = \"../Sequence_by_Peaks_1.fasta\"\n",
    "sequences = readFasta(genome)\n",
    "sequencesCompl = [reversecompl(seq) for seq in sequences]\n",
    "st_fasta = construct_tree(sequences + sequencesCompl)"
   ]
  },
  {
   "cell_type": "code",
   "execution_count": 48,
   "metadata": {},
   "outputs": [],
   "source": [
    "# Test de l'agorithme suffix tree avec exact-match\n",
    "motif_exact_match_fasta = exact_match(kmersValid, st_fasta)"
   ]
  },
  {
   "cell_type": "code",
   "execution_count": 49,
   "metadata": {},
   "outputs": [
    {
     "name": "stdout",
     "output_type": "stream",
     "text": [
      "Les 10 meilleurs motifs trouvés :\n",
      "    CAGCAAAA 29\n",
      "    TTTTGCTG 29\n",
      "    ATTTTTGC 16\n",
      "    GCAAAAAT 16\n",
      "    CAGCAATA 15\n",
      "    TATTGCTG 15\n",
      "    AGCAATAA 13\n",
      "    ATTATTGC 13\n",
      "    GCAATAAT 13\n",
      "    TTATTGCT 13\n",
      "    AATGATAA 12\n"
     ]
    }
   ],
   "source": [
    "print(\"Les 10 meilleurs motifs trouvés :\")\n",
    "for i, (clef, valeur) in enumerate(motif_exact_match_fasta.items()):\n",
    "    print(\"   \",clef,valeur)\n",
    "    if i == 10 :\n",
    "        break"
   ]
  },
  {
   "cell_type": "markdown",
   "metadata": {},
   "source": [
    "<font color = blue>\n",
    "    Le meilleur motif exact trouvé est CAGCAAAA (et sont reverse complément TTTTGCTG), il correspond exactement à la séquence consensus qui fixe le facteur de transcription Amt1. Avec deux fois moins d'occurence, il est suivit de la séquence GCAAAAAT (et son reverse complément ATTTTTGC) qui correspond à notre séquence décallé de deux nucléotides. En troisième position, on retrouve la séquence CAGCAATA (et son reverse complément TATTGCTG) qui correspond à la séquence consensus CAGCAAAA avec une variation au nucléotides n°7. Les séquences (et leur reverse complément) en qui suivent correspondent aux même motif avec une variation mais décaller de 1 ou deux nucléotides.\n",
    "</font>"
   ]
  },
  {
   "cell_type": "code",
   "execution_count": 53,
   "metadata": {},
   "outputs": [
    {
     "name": "stdout",
     "output_type": "stream",
     "text": [
      "0\n",
      "500\n",
      "1000\n",
      "1500\n",
      "2000\n",
      "2500\n",
      "3000\n",
      "3500\n",
      "4000\n",
      "4500\n",
      "5000\n",
      "5500\n",
      "6000\n",
      "6500\n",
      "7000\n",
      "7500\n",
      "8000\n",
      "8500\n",
      "9000\n",
      "9500\n",
      "10000\n",
      "10500\n",
      "11000\n",
      "11500\n",
      "12000\n",
      "12500\n",
      "13000\n",
      "13500\n",
      "14000\n",
      "14500\n",
      "15000\n",
      "15500\n",
      "16000\n",
      "16500\n",
      "17000\n",
      "17500\n",
      "18000\n",
      "18500\n",
      "19000\n",
      "19500\n",
      "20000\n",
      "20500\n",
      "21000\n",
      "21500\n",
      "22000\n",
      "22500\n",
      "23000\n",
      "23500\n",
      "24000\n",
      "24500\n",
      "25000\n",
      "25500\n",
      "26000\n",
      "26500\n",
      "27000\n",
      "27500\n",
      "28000\n",
      "28500\n",
      "29000\n",
      "29500\n",
      "30000\n",
      "30500\n",
      "31000\n",
      "31500\n",
      "32000\n",
      "32500\n",
      "33000\n",
      "33500\n",
      "34000\n",
      "34500\n",
      "35000\n",
      "35500\n",
      "36000\n",
      "36500\n",
      "37000\n",
      "37500\n",
      "38000\n",
      "38500\n",
      "39000\n",
      "39500\n",
      "40000\n",
      "40500\n",
      "41000\n",
      "41500\n",
      "42000\n",
      "42500\n",
      "43000\n",
      "43500\n",
      "44000\n",
      "44500\n",
      "45000\n",
      "45500\n",
      "46000\n",
      "46500\n",
      "47000\n",
      "47500\n",
      "48000\n",
      "48500\n",
      "49000\n",
      "49500\n",
      "50000\n",
      "50500\n",
      "51000\n",
      "51500\n",
      "52000\n",
      "52500\n",
      "53000\n",
      "53500\n",
      "54000\n",
      "54500\n",
      "55000\n",
      "55500\n",
      "56000\n",
      "56500\n",
      "57000\n",
      "57500\n",
      "58000\n",
      "58500\n",
      "59000\n",
      "59500\n",
      "60000\n",
      "60500\n",
      "61000\n",
      "61500\n"
     ]
    }
   ],
   "source": [
    "# Test de l'algorithme suffix tree avec inexact-match\n",
    "# Nous trouvons des variations de 1 nucléotide dans les résultats précédent.\n",
    "# Nous testons donc notre algorithme inexact-match avec 1 variation\n",
    "motif_inexact_match_fasta = inexact_match(kmersValid, sequences + sequencesCompl, st_fasta, 1)"
   ]
  },
  {
   "cell_type": "code",
   "execution_count": 54,
   "metadata": {},
   "outputs": [
    {
     "name": "stdout",
     "output_type": "stream",
     "text": [
      "Les 20 meilleures séquences consensus\n",
      "AATGATAA avec 117 occurences et un score de 831.0\n",
      "ATTTCATT avec 117 occurences et un score de 828.0\n",
      "TTATCATT avec 116 occurences et un score de 824.0\n",
      "AATGAAAT avec 116 occurences et un score de 821.0\n",
      "ATTTTTGC avec 115 occurences et un score de 821.0\n",
      "CAATTTTT avec 115 occurences et un score de 811.0\n",
      "AAAAATTG avec 114 occurences et un score de 804.0\n",
      "GCAAAAAT avec 112 occurences et un score de 800.0\n",
      "AATTTTTG avec 111 occurences et un score de 784.0\n",
      "CAGCAAAA avec 107 occurences et un score de 778.0\n",
      "TTTTGCTG avec 107 occurences et un score de 778.0\n",
      "AGCAATAA avec 109 occurences et un score de 776.0\n",
      "CAAAAATT avec 109 occurences et un score de 770.0\n",
      "TTATTGCT avec 108 occurences et un score de 769.0\n",
      "ATTTTGCT avec 108 occurences et un score de 768.0\n",
      "AGCAAAAT avec 107 occurences et un score de 761.0\n",
      "ATATTTTG avec 108 occurences et un score de 760.0\n",
      "TAATGATA avec 107 occurences et un score de 758.0\n",
      "CAAAATAT avec 107 occurences et un score de 753.0\n",
      "TATCATTA avec 106 occurences et un score de 751.0\n",
      "TTTTTGAA avec 106 occurences et un score de 750.0\n"
     ]
    }
   ],
   "source": [
    "top = 20\n",
    "print(\"Les\", top,\"meilleures séquences consensus\")\n",
    "printTopMotifsScore(motif_inexact_match_fasta, top)"
   ]
  },
  {
   "cell_type": "markdown",
   "metadata": {},
   "source": [
    "<font color = blue>\n",
    "    La séquence consensus trouvé en 10ème position (soit 5ème position lorsqu'on groupe les séquences avec leur complémentaire) correspond à notre motif avec 107 occurences et un scrore de 778 pour une variation de 1 nucléotide. On retrouve également notre motif en 8e position décallé de 2 nucléotides (GCAAAAAT).\n",
    "</font>"
   ]
  },
  {
   "cell_type": "code",
   "execution_count": 56,
   "metadata": {},
   "outputs": [
    {
     "name": "stdout",
     "output_type": "stream",
     "text": [
      "{'CAGCACAA': 7, 'CAGCAAAA': 29, 'CAGCCAAA': 4, 'CAGCAATA': 15, 'CAGCAAAC': 2, 'CAGCATAA': 3, 'CAGCTAAA': 9, 'CAGCAACA': 2, 'CAGCAGAA': 1, 'CAGCGAAA': 1, 'GAGCAAAA': 2, 'CACCAAAA': 5, 'TAGCAAAA': 3, 'CAGAAAAA': 2, 'AAGCAAAA': 6, 'CAACAAAA': 7, 'CGGCAAAA': 1, 'CATCAAAA': 3, 'CAGTAAAA': 1, 'CTGCAAAA': 2, 'CCGCAAAA': 1, 'CAGGAAAA': 1}\n"
     ]
    }
   ],
   "source": [
    "liste = motif_inexact_match_fasta[\"CAGCAAAA\"]\n",
    "dicoMotifOcc = {}\n",
    "\n",
    "for mot in liste :\n",
    "    if mot in dicoMotifOcc :\n",
    "        dicoMotifOcc[mot] += 1\n",
    "    else :\n",
    "        dicoMotifOcc[mot] = 1\n",
    "\n",
    "print(dicoMotifOcc)"
   ]
  },
  {
   "cell_type": "markdown",
   "metadata": {
    "id": "POgmVAqT0ngS"
   },
   "source": [
    "Motif LOGO:\n",
    "<img src=\"logo_2.png\">"
   ]
  },
  {
   "cell_type": "markdown",
   "metadata": {},
   "source": [
    "<font color = blue>\n",
    "    On remarque sur le logo que les positions 2, 4 et 8 sont les plus conservé avec respectivement les nucléotides A, C et A.  \n",
    "    Les positions les moins conservés sont les position 3, 5 et 7 avec respectivement plutôt un A à la place du G et deux T à la place des A.\n",
    "</font>"
   ]
  }
 ],
 "metadata": {
  "celltoolbar": "Raw Cell Format",
  "colab": {
   "collapsed_sections": [],
   "name": "TME7_2022.ipynb",
   "provenance": []
  },
  "kernelspec": {
   "display_name": "Python 3 (ipykernel)",
   "language": "python",
   "name": "python3"
  },
  "language_info": {
   "codemirror_mode": {
    "name": "ipython",
    "version": 3
   },
   "file_extension": ".py",
   "mimetype": "text/x-python",
   "name": "python",
   "nbconvert_exporter": "python",
   "pygments_lexer": "ipython3",
   "version": "3.8.12"
  }
 },
 "nbformat": 4,
 "nbformat_minor": 1
}
