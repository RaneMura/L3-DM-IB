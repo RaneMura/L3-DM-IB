{
 "cells": [
  {
   "cell_type": "markdown",
   "metadata": {
    "id": "981-NdKA_huf"
   },
   "source": [
    "# TME 6 : Projet Detection de motifs\n",
    "\n",
    "\n",
    "## Recheche de pattern (motifs) en utilisant les algoritmes randomisés\n",
    "\n",
    "Les algorithmes randomisés prendre des décisions aléatoire plutôt que déterministes.\n",
    "l'algorithme s'exécute différemment à chaque fois. Ils sont couramment utilisés dans des situations où aucun algorithme exact et rapide est connu. Nous allons implémenter deux algorithmes randomisés pour la recherche de motifs : Greedy Profile Motif Search et random Projections.\n"
   ]
  },
  {
   "cell_type": "markdown",
   "metadata": {},
   "source": [
    "#### K Murali Sharane et Legendre--Despas Jeanne"
   ]
  },
  {
   "cell_type": "markdown",
   "metadata": {
    "id": "5z3a_1W0_huk"
   },
   "source": [
    "1\\. Nous allons réutiliser les fonctions du TME5 pour générer `t` séquences artificielles de taille `n`, et implanter dans chaque séquence un motif de taille `k` à des positions aléatoires avec `v` substitutions choisies aléatoirement."
   ]
  },
  {
   "cell_type": "code",
   "execution_count": 21,
   "metadata": {
    "id": "6UbcF5N2_hul"
   },
   "outputs": [],
   "source": [
    "import random\n",
    "import numpy as np\n",
    "\n",
    "nuc = ('A', 'C', 'G', 'T')\n",
    "\n",
    "k=5 #taille de motif\n",
    "v=1 #nb de positions variable dans le motif\n",
    "t=3 #nb de sequences\n",
    "n=10 #longuer des sequence"
   ]
  },
  {
   "cell_type": "code",
   "execution_count": 22,
   "metadata": {
    "id": "IplKLaGL_hun"
   },
   "outputs": [
    {
     "name": "stdout",
     "output_type": "stream",
     "text": [
      "Les 3 séquence(s) de longueur 10 implantée(s) avec avec un motif de longueur 5 comportant 1 variation(s) :\n",
      "\n",
      "Séquence 1 : tgattAGGCT\n",
      "Séquence 2 : ACCGtgaAtG\n",
      "Séquence 3 : CAAtTattTT\n"
     ]
    }
   ],
   "source": [
    "def generateRandomSequence(n, upper=True):\n",
    "    \"\"\"\n",
    "    Génère une séquence nucléotidique aléatoire \n",
    "    entrée n : longueur de la sequence\n",
    "    entrée upper : bool, si True les nucléotides seront en majuscule, False minuscule\n",
    "    sortie sequence : une séquence nucléotidique aléatoire \n",
    "    \"\"\"\n",
    "    sequence = \"\"\n",
    "    \n",
    "    for i in range(n):\n",
    "        if (upper) : \n",
    "            sequence += random.choice(nuc).upper()\n",
    "        else : \n",
    "            sequence += random.choice(nuc).lower()\n",
    "    \n",
    "    return sequence\n",
    "\n",
    "def modifierMotif(motif, nbpos,  upper=True):\n",
    "    \"\"\"\n",
    "    Modifie nbpos positions d'un motif aléatoirement \n",
    "    entrée motif : motif à modifier\n",
    "    entrée nbpos : nombre de positions\n",
    "    entrée upper : bool, si True les nucléotides modifiés seront majuscule, False minuscule\n",
    "    sortie motifM : motif modifié\n",
    "    \"\"\"\n",
    "    \n",
    "    #Cas erreur : bpos trop important par rapport à la taille du motif\n",
    "    if (nbpos > len(motif)) : \n",
    "        return;\n",
    "    \n",
    "    motifM = list(motif)\n",
    "    \n",
    "    #On génère une liste de positions différentes aléatoirement\n",
    "    positions = []\n",
    "    for i in range(nbpos) : \n",
    "        pos = random.choice(range(len(motif)))\n",
    "        while (pos in positions) :\n",
    "            pos = random.choice(range(len(motif)))\n",
    "        positions.append(pos)\n",
    "    \n",
    "    #On modifie les positions\n",
    "    for pos in positions :\n",
    "        nvNuc = random.choice(nuc)\n",
    "        while (nvNuc.upper() == motifM[pos].upper()) :\n",
    "            nvNuc = random.choice(nuc)\n",
    "        \n",
    "        if (upper) :\n",
    "            motifM[pos] = nvNuc.upper()\n",
    "        else : \n",
    "            motifM[pos] = nvNuc.lower()\n",
    "        \n",
    "    \n",
    "    return \"\".join(motifM)\n",
    "\n",
    "\n",
    "\n",
    "def implantMotifVar(k, v, t, n):\n",
    "    \"\"\"\n",
    "    Génère des séquences aléatoires et les implante des motifs variables (un motif par séquence)\n",
    "    entrée k : taille du motif\n",
    "    entrée v : nombre de variations\n",
    "    entrée t : nombre de séquences \n",
    "    entrée n : longueur des séquences\n",
    "    sortie DNA : matrice de dimension txn avec les motifs implantés\n",
    "    REMARQUE : La taille totale des séquences plus motif doit être égale à n, pensez à générer de séquence aléatoire de taille n-k pour pouvoir implanter un motif de taille k\n",
    "    \"\"\"\n",
    "\n",
    "    #Génération des t séquences aléatoires de taille n-k\n",
    "    sequences = [generateRandomSequence(n-k) for i in range(t)]\n",
    "    \n",
    "    #Génération des differents motifs avec une variation à chaque motif\n",
    "    motif = generateRandomSequence(k, False) #Le premier motif est le motif original\n",
    "    motifsModif = [modifierMotif(motif,v) for i in range(t-1)] #Liste des t-1 motifs avec v variations\n",
    "    \n",
    "    #Implantation des motifs à des positions aléatoires\n",
    "    for i,seq in enumerate(sequences):\n",
    "        \n",
    "        #On choisi une position au hasard\n",
    "        pos = random.choice(range( len(seq) + 1 ))\n",
    "        if (i==0):\n",
    "            sequences[i] = seq[:pos] + motif + seq[pos:]\n",
    "        else : \n",
    "            sequences[i] = seq[:pos] + motifsModif[i-1] + seq[pos:]\n",
    "            \n",
    "    return sequences\n",
    "\n",
    "adn = implantMotifVar(k, v, t, n)\n",
    "print(\"Les\",t,\"séquence(s) de longueur\",n,\"implantée(s) avec avec un motif de longueur\",k,\"comportant\",v,\"variation(s) :\\n\")\n",
    "for i,seq in enumerate(adn) :\n",
    "    print(\"Séquence\",i+1,\":\",seq)"
   ]
  },
  {
   "cell_type": "markdown",
   "metadata": {
    "id": "NoPjFWpM_huq"
   },
   "source": [
    "2\\. Faire une fonction pour sélectionner des positions de départ aléatoirement `s = (s1, …,st)`.\n"
   ]
  },
  {
   "cell_type": "code",
   "execution_count": 23,
   "metadata": {
    "colab": {
     "base_uri": "https://localhost:8080/"
    },
    "id": "WwUeYNeJ_hur",
    "outputId": "b0d6c2c1-ae10-461e-e9c5-68ba7c6da5be"
   },
   "outputs": [
    {
     "name": "stdout",
     "output_type": "stream",
     "text": [
      "Génération d'un vecteur de positions aléatoire pour les motif de taille 5 dans la matrice de séquences : \n",
      "Séquence 1 : tgattAGGCT\n",
      "Séquence 2 : ACCGtgaAtG\n",
      "Séquence 3 : CAAtTattTT\n",
      "Le vecteur de positions aléatoires : [2, 3, 5]\n"
     ]
    }
   ],
   "source": [
    "#creating vector s\n",
    "#Get t random positions from 0 to n - k\n",
    "def generateRandomS(sequences, k):\n",
    "    \"\"\"\n",
    "    Génère un vecteur de position aléatoires\n",
    "    entrée sequences: matrice de dimension txn contenant les sequences\n",
    "    entrée k: taille du motif\n",
    "    sortie s: vecteur de position aléatoires, une position par séquence\n",
    "    REMARQUE les positions doivent être inférieur à n-k\n",
    "    \"\"\"\n",
    "    return [random.randint(0,len(seq)-k) for seq in sequences]\n",
    "    \n",
    "\n",
    "s = generateRandomS(adn, k)\n",
    "print(\"Génération d'un vecteur de positions aléatoire pour les motif de taille\",k,\"dans la matrice de séquences : \")\n",
    "for i,seq in enumerate(adn) :\n",
    "    print(\"Séquence\",i+1,\":\",seq)\n",
    "print(\"Le vecteur de positions aléatoires :\",s)"
   ]
  },
  {
   "cell_type": "markdown",
   "metadata": {
    "id": "vwTv0oVD_hut"
   },
   "source": [
    "3\\. Extraire les motifs en utilisant le vecteur `s`, et construire un profil (matrice de fréquence). Attention, utiliser les pseudocount 1 pour éviter les plus tard les probabilités à zéro.\n"
   ]
  },
  {
   "cell_type": "code",
   "execution_count": 24,
   "metadata": {
    "id": "GMC6y17y_hut"
   },
   "outputs": [
    {
     "name": "stdout",
     "output_type": "stream",
     "text": [
      "La matrice de séquence :\n",
      "   Séquence 1 : tgattAGGCT\n",
      "   Séquence 2 : ACCGtgaAtG\n",
      "   Séquence 3 : CAAtTattTT\n",
      "\n",
      "Le vecteur de positions aléatoires : [2, 3, 5]\n",
      "\n",
      "Les motifs extraits des positions du vecteur de positions aléatoires: ['attAG', 'GtgaA', 'attTT']\n",
      "\n",
      "Matrice de fréquence (ACGT) construite à partir des motifs extraits\n",
      " [[3. 1. 1. 3. 2.]\n",
      " [1. 1. 1. 1. 1.]\n",
      " [2. 1. 2. 1. 2.]\n",
      " [1. 4. 3. 2. 2.]]\n"
     ]
    }
   ],
   "source": [
    "def extractSeqs(s, seqs, k):\n",
    "    \"\"\"\n",
    "    Extraire les motifs des séquences à l'aide de positions s\n",
    "    entrée s: vecteur contenant les positions de départs\n",
    "    entrée seqs: matrice de dimension txn contenant les séquences\n",
    "    entrée k: taille du motif\n",
    "    sortie motifs: liste de motifs de taille k extrait des séquences\n",
    "    \"\"\"\n",
    "    #Liste des sequences extraites à l'aide de la positions de départ correpondante dans s\n",
    "    return [seq[s[i]:s[i]+k] for i,seq in enumerate(seqs)]\n",
    "        \n",
    "\n",
    "#Construire matrice de fréquence\n",
    "def profile(motifs, k, nuc):\n",
    "    \"\"\"\n",
    "    Construire une matrice de fréquence\n",
    "    entrée motifs: liste de motifs\n",
    "    entrée k: taille du motif\n",
    "    entrée nuc: alphabet\n",
    "    sortie matriceFreq: le matrice de fréquence\n",
    "    \"\"\"\n",
    "    q = len(nuc) #Hauteur de la matrice\n",
    "    #Matruce de hauteur q (une ligne pour chaque nucléotide) et de longueur k (une colonne pour chaque position du motif)\n",
    "    matriceFreq = np.zeros((q, k))\n",
    "    \n",
    "    #On parcourt tous les motifs\n",
    "    for motif in motifs:\n",
    "        #On parcourt tous les nucléotides du motif\n",
    "        for i,n in enumerate(motif):\n",
    "            for j in range(q) : #On test quel nucléotide à la position i\n",
    "                if (n == nuc[j].upper() or n == nuc[j].lower()) :\n",
    "                    matriceFreq[j][i] += 1 #On incrémente le compteur de nucléotide pour la position i\n",
    "                    break\n",
    "                    \n",
    "    return matriceFreq + 1 #On utilise le pseudo-count 1\n",
    "\n",
    "print(\"La matrice de séquence :\")\n",
    "for i,seq in enumerate(adn) :\n",
    "    print(\"   Séquence\",i+1,\":\",seq)\n",
    "    \n",
    "print(\"\\nLe vecteur de positions aléatoires :\",s)\n",
    "\n",
    "motifs = extractSeqs(s, adn, k) #On extrait les motifs de taille k au positions données\n",
    "print(\"\\nLes motifs extraits des positions du vecteur de positions aléatoires:\",motifs)\n",
    "\n",
    "MF = profile(motifs, k, nuc) #On construit la matrice de fréquence\n",
    "\n",
    "print(\"\\nMatrice de fréquence (ACGT) construite à partir des motifs extraits\\n\",MF)\n"
   ]
  },
  {
   "cell_type": "markdown",
   "metadata": {
    "id": "zIw6koU2_huu"
   },
   "source": [
    "4\\. Transformer la matrice de fréquence en PWM. Il faut diviser chaque élément par la somme de ses colonnes. Faire aussi une fonction pour calculer la sequence consensus d'une matrice de frequence."
   ]
  },
  {
   "cell_type": "code",
   "execution_count": 25,
   "metadata": {
    "id": "wOH5mbkA_huv"
   },
   "outputs": [
    {
     "name": "stdout",
     "output_type": "stream",
     "text": [
      "La matrice de fréquence :\n",
      "[[3. 1. 1. 3. 2.]\n",
      " [1. 1. 1. 1. 1.]\n",
      " [2. 1. 2. 1. 2.]\n",
      " [1. 4. 3. 2. 2.]]\n",
      "\n",
      "La matrice de poids positions associée à notre matrice de fréquence\n",
      "[[0.42857143 0.14285714 0.14285714 0.42857143 0.28571429]\n",
      " [0.14285714 0.14285714 0.14285714 0.14285714 0.14285714]\n",
      " [0.28571429 0.14285714 0.28571429 0.14285714 0.28571429]\n",
      " [0.14285714 0.57142857 0.42857143 0.28571429 0.28571429]]\n"
     ]
    }
   ],
   "source": [
    "motifs = [motif.upper() for motif in motifs] #On s'assure que tous les motifs soit en majuscule\n",
    "\n",
    "def generatePWM(MF):\n",
    "    \"\"\"\n",
    "    Transforme la matrice de fréquence en PWM\n",
    "    entrée MF: matrice de fréquence\n",
    "    sortie PWM: matrice de probabilité (poids positions)\n",
    "    \"\"\"\n",
    "    #On divise chaque case par la somme des colonnes\n",
    "    return MF/np.sum(MF, axis = 0)[0]\n",
    "\n",
    "PWM = generatePWM(MF)\n",
    "print(\"La matrice de fréquence :\")\n",
    "print(MF)\n",
    "print(\"\\nLa matrice de poids positions associée à notre matrice de fréquence\")\n",
    "print(PWM)"
   ]
  },
  {
   "cell_type": "code",
   "execution_count": 26,
   "metadata": {
    "id": "lx1tEoWFjOPn"
   },
   "outputs": [
    {
     "name": "stdout",
     "output_type": "stream",
     "text": [
      "Matrice de fréquence :\n",
      "[[3. 1. 1. 3. 2.]\n",
      " [1. 1. 1. 1. 1.]\n",
      " [2. 1. 2. 1. 2.]\n",
      " [1. 4. 3. 2. 2.]]\n",
      "\n",
      "La séquence consensus de notre matrice de fréquence est ATTAA\n"
     ]
    }
   ],
   "source": [
    "def getConsensus(MF, k, nuc):\n",
    "    \"\"\"\n",
    "    Renvoie la sequence consensus d'une matrice de fréquence\n",
    "    entrée MF: matrice de fréquence\n",
    "    entrée k: taille du motif\n",
    "    entrée nuc: alphabet\n",
    "    sortie seqCons: sequence consensus\n",
    "    \"\"\"\n",
    "    seqCons = \"\"\n",
    "    #On parcourt chaque colonne (position) de la matrice de fréquence\n",
    "    for freq in np.transpose(MF):\n",
    "        vMax = np.max(freq) #On récupère la fréquence max\n",
    "        indice = np.where(freq==vMax)[0][0] #On récupère le premier idice de ligne (nucléotide) avec cette fréquence\n",
    "        seqCons += nuc[indice] #On ajoute le nucléotides correspondant à la séquence consensus\n",
    "   \n",
    "    return seqCons\n",
    "\n",
    "#On calcule la séquence consensus de notre matrice de fréquence\n",
    "seqCons = getConsensus(MF, k, nuc)\n",
    "print(\"Matrice de fréquence :\")\n",
    "print(MF)\n",
    "print(\"\\nLa séquence consensus de notre matrice de fréquence est\", seqCons)"
   ]
  },
  {
   "cell_type": "markdown",
   "metadata": {
    "id": "ThOfxUGq_huw"
   },
   "source": [
    "5\\. Faire une fonction pour calculer la probabilité d'un motif de taille `k` selon une PWM.\n"
   ]
  },
  {
   "cell_type": "code",
   "execution_count": 27,
   "metadata": {
    "id": "ZUNbTtum_huw"
   },
   "outputs": [
    {
     "name": "stdout",
     "output_type": "stream",
     "text": [
      "La probabilité de la séquence consensus ATTAA est 0.012851787945498894\n"
     ]
    }
   ],
   "source": [
    "def probability(PWM, motif):\n",
    "    \"\"\"\n",
    "    Calcul la probalité d'un motif selon PWM\n",
    "    entrée PWM: matrice de probabilité (poids positions)\n",
    "    entrée motif: motif\n",
    "    sortie prob: probalité Prob(motif|PWM)\n",
    "    \"\"\"\n",
    "    pos = 0; prob = 1\n",
    "    #print (PWM)\n",
    "    for n in motif: #On parcourt le motif\n",
    "        i = nuc.index(n)\n",
    "        #print (i, pos)\n",
    "        prob *=PWM[i, pos] #On calcule la probabilité de chacune des positions du motifs\n",
    "        pos +=1\n",
    "    return prob\n",
    "\n",
    "prob = probability(PWM, seqCons)\n",
    "print(\"La probabilité de la séquence consensus\", seqCons, \"est\", prob)"
   ]
  },
  {
   "cell_type": "markdown",
   "metadata": {
    "id": "aqLjmxrx_hux"
   },
   "source": [
    "6\\. Faire une fonction pour calculer le pMostProbkmer d'une séquence, voir un exemple dans les slides de cours."
   ]
  },
  {
   "cell_type": "code",
   "execution_count": 28,
   "metadata": {},
   "outputs": [],
   "source": [
    "import re\n",
    "#Repère les kmer peu complexe pour éliminer le bruit de fond\n",
    "def isComplexe(kmer, reLow):\n",
    "    \"\"\"\n",
    "    entrée kmer : kmer à évaluer\n",
    "    entrée reLow : niveau de répétition à éliminer  \n",
    "    sortie : true si le kmer est peu complexe, false sinon\n",
    "    \"\"\"\n",
    "    k = str(len(kmer))\n",
    "    reLow_fois_même_lettre = '([ACTG]*A){'+ str(reLow) +'}|([ACTG]*C){'+ str(reLow) +'}|([ACTG]*T){'+ str(reLow) +'}|([ACTG]*G){'+ str(reLow) +'}'\n",
    "    deux_lettres_repetee = '([ACTG]*AC){3}|([ATCG]*AT){3}|([ATCG]*AG){3}|([ATCG]*TA){3}|([ATCG]*TG){3}|([ATCG]*TC){3}|([ATCG]*CG){3}|([ATCG]*CA){3}|([ATCG]*CT){3}|([ATCG]*GA){3}|([ATCG]*GT){3}|([ATCG]*GC){3}'\n",
    "    #uniquement_deux_lettres = '[AC]{'+k+'}|[AT]{'+k+'}|[AG]{'+k+'}|[TG]{'+k+'}|[TC]{'+k+'}|[GC]{'+k+'}'\n",
    "    \n",
    "    p = re.compile(reLow_fois_même_lettre + deux_lettres_repetee)\n",
    "    return not p.match(kmer)\n",
    "\n"
   ]
  },
  {
   "cell_type": "code",
   "execution_count": 29,
   "metadata": {
    "colab": {
     "base_uri": "https://localhost:8080/"
    },
    "id": "-_GDK4mQ_huy",
    "outputId": "fd27df91-a730-4e20-d1c4-1bfff3505910"
   },
   "outputs": [
    {
     "name": "stdout",
     "output_type": "stream",
     "text": [
      "Séquence : GCCATTAAGGATACT\n",
      "La position du kmer le plus probable par raport à notre matrice de fréquence est : 3\n"
     ]
    }
   ],
   "source": [
    "\n",
    "def pMostProbkmer(PWM, k, sequence, reLow):\n",
    "    \"\"\"\n",
    "    calcul la position du k-mer de haute complexité le plus probable dans la séquence\n",
    "    entrée PWM: matrice de probabilité (poids positions)\n",
    "    entrée k: taille du motif\n",
    "    entrée sequence: séquence nucleotidique\n",
    "    entrée relow : niveau de répétition dans les kmer à éliminer\n",
    "    sortie s: la position du k-mer le plus probable dans la sequence\n",
    "    \"\"\"\n",
    "    \n",
    "    #Initialisation\n",
    "    \n",
    "    s = 0 # position\n",
    "    kmer = sequence[s:s+k]\n",
    "    \n",
    "    #On cherche le premier complexe de haute complexité\n",
    "    while not isComplexe(kmer, reLow) : \n",
    "        s += 1\n",
    "        kmer = sequence[s:s+k]\n",
    "        if s >= len(sequence)-k : \n",
    "            break\n",
    "            \n",
    "    #On calcule la probabilité du kmer en fonction de la matrice de fréquence\n",
    "    proba = probability(PWM, sequence[s:s+k])\n",
    "    \n",
    "    i = s + 1\n",
    "    #On cherche le kmer complexe avec la meilleure probabilité\n",
    "    for pos in range(i, len(sequence)-k+1): #On parcourt toutes les positions\n",
    "\n",
    "        kmer = sequence[pos:pos+k]\n",
    "        if (isComplexe(kmer, reLow) and probability(PWM, kmer) > proba):\n",
    "        #if (probability(PWM, kmer) > proba):\n",
    "            s = pos\n",
    "            proba = probability(PWM, kmer)\n",
    "    \n",
    "    return s\n",
    "\n",
    "#Test avec notre sequence concensus\n",
    "seqTest = \"GCC\" + seqCons + \"GGATACT\"\n",
    "print(\"Séquence :\", seqTest)\n",
    "posSeqCons = pMostProbkmer(PWM, k, seqTest, 5)\n",
    "print (\"La position du kmer le plus probable par raport à notre matrice de fréquence est :\", posSeqCons)"
   ]
  },
  {
   "cell_type": "markdown",
   "metadata": {},
   "source": [
    "<font color = blue>\n",
    "    On retrouve bien notre séquence consensus à la position 3.\n",
    "</font>"
   ]
  },
  {
   "cell_type": "markdown",
   "metadata": {
    "id": "QwXuMhNn_huy"
   },
   "source": [
    "7\\. Faire une fonction pour obtenir les nouvelles positions de départ `s = (s1, …,st)`, c’était à dire les positions qui contiennent les k-mer le plus probables."
   ]
  },
  {
   "cell_type": "code",
   "execution_count": 30,
   "metadata": {
    "id": "G3neuRM9_huz"
   },
   "outputs": [
    {
     "name": "stdout",
     "output_type": "stream",
     "text": [
      "Les sequences :\n",
      "  Séquence 1 : tgattAGGCT\n",
      "  Séquence 2 : ACCGtgaAtG\n",
      "  Séquence 3 : CAAtTattTT\n",
      "Les premières positions alétoires : [2, 3, 5]\n",
      "La séquence consensus issue de ces positions : ATTAA\n",
      "Les nouvelles positions des kmer les plus probables selon la première matrice de fréquence : [2, 3, 2]\n",
      "Les kmer associés : ['attAG', 'GtgaA', 'AtTat']\n"
     ]
    }
   ],
   "source": [
    "def getNewS(PWM, k, sequences, relow):\n",
    "    \"\"\"\n",
    "    Trouve les nouvelles positions des k-mer le plus probables\n",
    "    entrée PWM: matrice de probabilité (poids positions)\n",
    "    entrée k: taille du motif\n",
    "    entrée sequence: séquence nucleotidique\n",
    "    entrée reLow: seuil de répétitions des lettres de kmer\n",
    "    sortie s: vecteur avec les positions les plus problables\n",
    "    \"\"\"\n",
    "    return [pMostProbkmer(PWM, k, sequence.upper(), relow) for sequence in sequences]\n",
    "\n",
    "#On calcule la position du kmer le plus probable au niveau de chaque séquence\n",
    "newS = getNewS(PWM, k, adn, 5)\n",
    "\n",
    "print(\"Les sequences :\")\n",
    "for i,seq in enumerate(adn) :\n",
    "    print(\"  Séquence\",i+1,\":\",seq)\n",
    "    \n",
    "print(\"Les premières positions alétoires :\", s)\n",
    "print(\"La séquence consensus issue de ces positions :\",seqCons)\n",
    "print(\"Les nouvelles positions des kmer les plus probables selon la première matrice de fréquence :\",newS)\n",
    "print(\"Les kmer associés :\",extractSeqs(newS, adn, k))"
   ]
  },
  {
   "cell_type": "markdown",
   "metadata": {
    "id": "WoETBPxq_huz"
   },
   "source": [
    "8\\. La condition d’arrêt de l'algorithme est le non changement de la matrice de fréquence d'une itération à l'autre. Faire une fonction pour comparer deux matrices et détecter le changement. \n",
    "Faire aussi une fonction pour obtenir le score d'une matrice de fréquence : la somme de max de chaque colonne"
   ]
  },
  {
   "cell_type": "code",
   "execution_count": 31,
   "metadata": {
    "id": "NUDOYB6A_hu0"
   },
   "outputs": [
    {
     "name": "stdout",
     "output_type": "stream",
     "text": [
      "Les premières positions aléatoires : [2, 3, 5]\n",
      "La matrice de poids positions associée:\n",
      "[[3. 1. 1. 3. 2.]\n",
      " [1. 1. 1. 1. 1.]\n",
      " [2. 1. 2. 1. 2.]\n",
      " [1. 4. 3. 2. 2.]]\n",
      "Le score de la matrice de poids position est de 15.0\n",
      "\n",
      "Les positions des k-mer les plus probables selon la matrice de poids positions : [2, 3, 2]\n",
      "La nouvelle matrice de poids positions :\n",
      "[[3. 1. 1. 4. 2.]\n",
      " [1. 1. 1. 1. 1.]\n",
      " [2. 1. 2. 1. 2.]\n",
      " [1. 4. 3. 1. 2.]]\n",
      "La nouvelle matrice de fréquence est différente.\n",
      "Le score de la nouvelle matrice de poids position est 15.0\n"
     ]
    }
   ],
   "source": [
    "def changeProfile(P1, P2):\n",
    "    \"\"\"\n",
    "    Compare deux matrice\n",
    "    entrée P1: matrice de fréqueince\n",
    "    entrée P2: matrice de fréquence\n",
    "    sortie: True si les matrices sont différents, False au contraire\n",
    "    \"\"\"\n",
    "    return (P1 != P2).any()\n",
    "\n",
    "\n",
    "def getScore(MF, k):\n",
    "    \"\"\"\n",
    "    Renvoie le score de MF, la somme des max de chaque colonne\n",
    "    entrée P: matrice de fréquence\n",
    "    entrée k: taille du motif\n",
    "    sortie sc: score\n",
    "    \"\"\"\n",
    "    return np.sum(np.max(MF, axis = 0))\n",
    "\n",
    "#Anciennew positions\n",
    "print(\"Les premières positions aléatoires :\", s)\n",
    "print(\"La matrice de poids positions associée:\")\n",
    "print(MF)\n",
    "sc = getScore(MF, k)\n",
    "print(\"Le score de la matrice de poids position est de\",sc)\n",
    "\n",
    "#Nouvellew positions\n",
    "newS = getNewS(PWM, k, adn, 5)\n",
    "print(\"\\nLes positions des k-mer les plus probables selon la matrice de poids positions :\", newS)\n",
    "newMF = profile(extractSeqs(newS, adn, k), k, nuc)\n",
    "print(\"La nouvelle matrice de poids positions :\")\n",
    "print(newMF)\n",
    "if (changeProfile(MF, newMF)) : \n",
    "    print(\"La nouvelle matrice de fréquence est différente.\")\n",
    "else :\n",
    "    print(\"La nouvelle matrice de fréquence est identique à la précédente\")\n",
    "newsc = getScore(MF, k)\n",
    "print(\"Le score de la nouvelle matrice de poids position est\",sc)\n"
   ]
  },
  {
   "cell_type": "markdown",
   "metadata": {
    "id": "QhO7GPfn_hu0"
   },
   "source": [
    "9\\. Implementer l'algorithme ``GreedyProfileMotifSearch`` en utilisant les fonctions precedentes. \n"
   ]
  },
  {
   "cell_type": "code",
   "execution_count": 32,
   "metadata": {
    "id": "s3wvHQUp_hu0"
   },
   "outputs": [
    {
     "name": "stdout",
     "output_type": "stream",
     "text": [
      "Les sequences implantées : \n",
      "  Séquence 1 : tgattAGGCT\n",
      "  Séquence 2 : ACCGtgaAtG\n",
      "  Séquence 3 : CAAtTattTT\n",
      "\n",
      "Les meilleurs positions trouvées sont [0, 3, 3] associées à un score de 15.0\n",
      "\n",
      "Les motifs correspondants sont ['tgatt', 'GtgaA', 'tTatt']\n"
     ]
    }
   ],
   "source": [
    "def GreedyProfileMotifSearch(sequences, t, n, k, reLow):\n",
    "    \"\"\"\n",
    "    Implémente l'algorithme GreedyProfileMotifSearch \n",
    "    entrée sequences: matrice de dimension txn contenant les séquences \n",
    "    entrée t : nombre de séquences \n",
    "    entrée n : longueur des séquences \n",
    "    entrée k : taille du motif \n",
    "    sortie s : vecteur de positions de départ ayant le meilleur motif \n",
    "    sortie bestScore : le score associé à s\n",
    "    \"\"\"\n",
    "    \n",
    "    #Génère un premier n-upplet de positions aléatoire\n",
    "    s = generateRandomS(sequences, k)\n",
    "    \n",
    "    bestScore = 0\n",
    "    \n",
    "    #Créer un profil Pr à partir des séquences des positions de départ\n",
    "    Pr = profile(extractSeqs(s, sequences, k), k, nuc)\n",
    "    PWM = generatePWM(Pr)\n",
    "    \n",
    "    while (getScore(Pr, k) > bestScore) :\n",
    "        \n",
    "        bestScore = getScore(Pr, k)\n",
    "        \n",
    "        #Touver de P-most-probable-k-mer pour chaque sequence\n",
    "        s = [pMostProbkmer(PWM, k, sequence.upper(), reLow) for sequence in sequences]\n",
    "        \n",
    "        #Nouveau profil\n",
    "        Pr = profile(extractSeqs(s, sequences, k), k, nuc)\n",
    "        PMW = generatePWM(Pr)\n",
    "    \n",
    "    return s, bestScore\n",
    "\n",
    "\n",
    "s, bestScore = GreedyProfileMotifSearch(adn, t, n, k, 5)\n",
    "\n",
    "print(\"Les sequences implantées : \")\n",
    "for i,seq in enumerate(adn) :\n",
    "    print(\"  Séquence\",i+1,\":\",seq)\n",
    "\n",
    "print(\"\\nLes meilleurs positions trouvées sont\", s, \"associées à un score de\", bestScore)\n",
    "print(\"\\nLes motifs correspondants sont\", extractSeqs(s, adn, k))\n",
    "        "
   ]
  },
  {
   "cell_type": "markdown",
   "metadata": {
    "id": "xvo0wA0R_hu1"
   },
   "source": [
    "10\\. Avez vous trouvez le motif implanté? Réexécuter l’algorithme plusieurs fois pour le trouver. "
   ]
  },
  {
   "cell_type": "markdown",
   "metadata": {
    "id": "tQw_6g6I_hu1"
   },
   "source": [
    "<font color = blue>\n",
    "Oui, nous retrouvons le motif implanté.\n",
    "</font>"
   ]
  },
  {
   "cell_type": "markdown",
   "metadata": {
    "id": "hFC52cFb_hu1"
   },
   "source": [
    "11\\. Vous avez certainement observer que l’algorithme ne produire pas toujours la même sortie et que les résultats dépendent de la sélection aléatoire des positions de départ `s`. Pour augmenter nous chances de retrouvez les bons motifs, nous allons implémenter une version itérative ``GreedyProfileMotifSearchIte`` \n",
    "qui a chaque fois sauvegarde `s` et le score du profile associé à `s`, après `I` itération, l’algorithme renvoie le vecteur `s` ayant le plus grand score."
   ]
  },
  {
   "cell_type": "code",
   "execution_count": 33,
   "metadata": {
    "id": "RN4HsjUX_hu2"
   },
   "outputs": [
    {
     "name": "stdout",
     "output_type": "stream",
     "text": [
      "Les sequences implantées : \n",
      "  Séquence 1 : tgattAGGCT\n",
      "  Séquence 2 : ACCGtgaAtG\n",
      "  Séquence 3 : CAAtTattTT\n",
      "\n",
      "Les positions des séquences :\n",
      "{16.0: [2, 3, 2], 18.0: [0, 4, 3], 13.0: [5, 0, 0], 14.0: [0, 0, 0], 17.0: [0, 4, 4], 15.0: [5, 3, 2], 11.0: [4, 1, 2]}\n",
      "\n",
      "Les séquences consensus :\n",
      "{16.0: 'ATTAA', 18.0: 'TGATT', 13.0: 'AAACT', 14.0: 'AAATT', 17.0: 'TGATT', 15.0: 'ATGAT', 11.0: 'AAGAC'}\n"
     ]
    }
   ],
   "source": [
    "def GreedyProfileMotifSearchIte(sequences, t, n, k, It, reLow):\n",
    "    \"\"\"\n",
    "    Implémente l'algorithme GreedyProfileMotifSearch iteratif\n",
    "    entrée séquences: matrice de dimension txn contenant les séquences \n",
    "    entrée t : nombre de séquences \n",
    "    entrée n : longueur des séquences \n",
    "    entrée k: taille du motif \n",
    "    entrée It: nombre d'iterations\n",
    "    sortie positions: dictionnaire clé=score, valeur= vecteur s \n",
    "    sortie consensus: dictionnaire clé=score, valeur= consensus sequence du motif\n",
    "    \"\"\"\n",
    "    #Dictionnaire avec les scores associés aux positions des séquences\n",
    "    pos = {}\n",
    "    #Dictionnaire avec les scores associés à la séquence consensus des motifs les plus probables\n",
    "    consensus = {}\n",
    "    \n",
    "    for i in range(It):\n",
    "        s, bestScore = GreedyProfileMotifSearch(sequences, t, n, k, reLow)\n",
    "        seqCons = getConsensus(profile(extractSeqs(s, sequences, k), k, nuc), k, nuc)\n",
    "        #print(extractSeqs(s, sequences, k))\n",
    "        if (isComplexe(seqCons, reLow)) :\n",
    "            pos[bestScore] = s\n",
    "            consensus[bestScore] = seqCons\n",
    "    \n",
    "    return pos, consensus\n",
    "\n",
    "\n",
    "pos, consensus = GreedyProfileMotifSearchIte(adn, t, n, k, 50, 5)\n",
    "\n",
    "print(\"Les sequences implantées : \")\n",
    "for i,seq in enumerate(adn) :\n",
    "    print(\"  Séquence\",i+1,\":\",seq)\n",
    "    \n",
    "print(\"\\nLes positions des séquences :\")\n",
    "print(pos)\n",
    "print(\"\\nLes séquences consensus :\")\n",
    "print(consensus)\n"
   ]
  },
  {
   "cell_type": "markdown",
   "metadata": {
    "id": "js7TuAsB_hu2"
   },
   "source": [
    "12\\. Tester algorithme  ``GreedyProfileMotifSearchIte`` sur vos données de chipSeq. N'oubliez pas de chercher les motifs dans le brin complémentaire et faire un merge de résultats."
   ]
  },
  {
   "cell_type": "code",
   "execution_count": 34,
   "metadata": {
    "id": "-M8y_sOS_hu3"
   },
   "outputs": [],
   "source": [
    "k=7; reLow=5\n",
    "n = 100\n",
    "def readFasta(genome, n):\n",
    "    sequence = []\n",
    "    file = open(genome, \"r\")\n",
    "    sequence = []\n",
    "    for s in file:\n",
    "        if s[0] != \">\":\n",
    "            sequence.append(s.strip().upper())\n",
    "    sequenceStr = \"\".join(sequence)\n",
    "    sequence = [sequenceStr[i:i+n] for i in range(0, len(sequenceStr), n)]\n",
    "    sequenceRet = [x for x in sequence if x]\n",
    "    return sequenceRet\n",
    "\n",
    "genome = \"../Sequence_by_Peaks_1.fasta\" #Remplacer par votre fichier\n",
    "\n",
    "sequencesFasta = readFasta(genome, n)\n",
    "t = len(sequencesFasta)"
   ]
  },
  {
   "cell_type": "code",
   "execution_count": 35,
   "metadata": {},
   "outputs": [],
   "source": [
    "def reversecompl(seq):\n",
    "    \"\"\"Renvoie le brin complémentaire d’une séquence.\n",
    "    entrée : sequence de nucléotides (brin sens)\n",
    "    sortie : sequence de nucléotides (brin complementaire)\n",
    "    >>> reversecompl('AACGTGGCA')\n",
    "    'TGCCACGTT'\n",
    "    \"\"\"\n",
    "    compl = {'A': 'T', 'C': 'G', 'G': 'C', 'T':'A', 'a': 't', 'c': 'g', 'g': 'c', 't':'a'}\n",
    "    nvSeq = \"\"\n",
    "    for i in range(len(seq)-1,-1,-1) :\n",
    "        nvSeq = nvSeq + compl[seq[i]]\n",
    "    \n",
    "    return nvSeq"
   ]
  },
  {
   "cell_type": "code",
   "execution_count": 36,
   "metadata": {},
   "outputs": [],
   "source": [
    "def mergeMotifs(consensus, consensusRevComp):\n",
    "    ''' \n",
    "    Merge motifs trouvés dans les brins sens et complementaire\n",
    "    entrée motifs : un dictionnaire contenant les motifs du brin sens et leurs distances\n",
    "    entrée motifsRevComp : un dictionnaire contenant les motifs du brin complementaire et leurs distances\n",
    "    sortie allMotif: merge de motifs et motifsRevComp\n",
    "    '''\n",
    "    return {score: consensus for dico in (consensus, consensusRevComp) for score, consensus in dico.items()}"
   ]
  },
  {
   "cell_type": "markdown",
   "metadata": {},
   "source": [
    "<font color = blue>\n",
    "Nous testons d'abord avec le premier algorithme de tri : on supprime les motifs avec 5 occurences du même nucléotides ou plus et les motifs comportant 3 doublets.\n",
    "</font>"
   ]
  },
  {
   "cell_type": "code",
   "execution_count": 38,
   "metadata": {},
   "outputs": [
    {
     "name": "stdout",
     "output_type": "stream",
     "text": [
      "5\n",
      "Recherche des motifs dans le brin sens...\n",
      "\n",
      "\n",
      "Recherche des motifs dans le brin reverse complément...\n",
      "\n",
      "\n",
      "Recherche des motifs dans les deux brins...\n",
      "\n",
      "\n",
      "Recherche des motifs terminée\n",
      "\n"
     ]
    }
   ],
   "source": [
    "t = len(sequencesFasta)\n",
    "n = len(sequencesFasta[0])\n",
    "print(reLow)\n",
    "\n",
    "#RECHERCHE DES MOTIFS DANS LE BRIN SENS\n",
    "print(\"Recherche des motifs dans le brin sens...\\n\")\n",
    "posFastaSens, consensusFastaSens = GreedyProfileMotifSearchIte(sequencesFasta, t, n, k, 100, reLow)\n",
    "\n",
    "#RECHERCHE DES MOTIFS DANS LE REVERSE COMPLÉMENT\n",
    "print(\"\\nRecherche des motifs dans le brin reverse complément...\\n\")\n",
    "sequencesFastaCompl = [reversecompl(sequence) for sequence in sequencesFasta]\n",
    "posFastaCompl, consensusFastaCompl = GreedyProfileMotifSearchIte(sequencesFastaCompl, t, n, k, 100, reLow)\n",
    "\n",
    "#RECHERCHE DANS LES DEUX BRINS\n",
    "print(\"\\nRecherche des motifs dans les deux brins...\\n\")\n",
    "consensusFasta = mergeMotifs(consensusFastaSens, consensusFastaCompl)\n",
    "print(\"\\nRecherche des motifs terminée\\n\")"
   ]
  },
  {
   "cell_type": "markdown",
   "metadata": {
    "id": "WNn2FXzf5UzK"
   },
   "source": [
    "Afficher les top motifs (leurs sequence consensus) de meilleurs scores."
   ]
  },
  {
   "cell_type": "code",
   "execution_count": 39,
   "metadata": {
    "id": "S7DtjmxjCyQ-"
   },
   "outputs": [
    {
     "name": "stdout",
     "output_type": "stream",
     "text": [
      "Meilleures sequences consensus sens\n",
      "1356.0 AAATATT\n",
      "1348.0 AATTATA\n",
      "1343.0 ATATTTA\n",
      "\n",
      "Meilleures seéquences consensus reverse complément\n",
      "1380.0 TTAATTA\n",
      "1362.0 TAATTAT\n",
      "1341.0 ATAATTA\n",
      "\n",
      "Meilleures séquences consensus\n",
      "1380.0 TTAATTA\n",
      "1362.0 TAATTAT\n",
      "1356.0 AAATATT\n"
     ]
    }
   ],
   "source": [
    "def printTopFMotifsScore(consensus, top):\n",
    "\n",
    "    motifsSort = sorted(consensus.keys())\n",
    "    motifsSort.reverse()\n",
    "    for i in range(min(top, len(consensus))):\n",
    "        print(motifsSort[i], consensus[motifsSort[i]])\n",
    "\n",
    "print(\"Meilleures sequences consensus sens\")\n",
    "printTopFMotifsScore(consensusFastaSens, 3)\n",
    "print(\"\\nMeilleures seéquences consensus reverse complément\")\n",
    "printTopFMotifsScore(consensusFastaCompl, 3)\n",
    "print(\"\\nMeilleures séquences consensus\")\n",
    "printTopFMotifsScore(consensusFasta, 3)\n"
   ]
  },
  {
   "cell_type": "markdown",
   "metadata": {},
   "source": [
    "<font color = blue>\n",
    "    On peut lire beaucoup de bruit de fond avec des motifs comportant uniquement deux lettres répétées. On test un nouvel algorithme de tri qui va supprimer les motifs qui ne contiennent uniquement deux lettres. \n",
    "</font>"
   ]
  },
  {
   "cell_type": "code",
   "execution_count": 40,
   "metadata": {},
   "outputs": [],
   "source": [
    "def isComplexe(kmer, reLow):\n",
    "    \"\"\"\n",
    "    entrée kmer : kmer à évaluer\n",
    "    entrée reLow : niveau de répétition à éliminer  \n",
    "    sortie : true si le kmer est peu complexe, false sinon\n",
    "    \"\"\"\n",
    "    k = str(len(kmer))\n",
    "    reLow_fois_même_lettre = '([ACTG]*A){'+ str(reLow) +'}|([ACTG]*C){'+ str(reLow) +'}|([ACTG]*T){'+ str(reLow) +'}|([ACTG]*G){'+ str(reLow) +'}|'\n",
    "    deux_lettres_repetee = '([ACTG]*AC){3}|([ATCG]*AT){3}|([ATCG]*AG){3}|([ATCG]*TA){3}|([ATCG]*TG){3}|([ATCG]*TC){3}|([ATCG]*CG){3}|([ATCG]*CA){3}|([ATCG]*CT){3}|([ATCG]*GA){3}|([ATCG]*GT){3}|([ATCG]*GC){3}|'\n",
    "    uniquement_deux_lettres = '[AC]{'+k+'}|[AT]{'+k+'}|[AG]{'+k+'}|[TG]{'+k+'}|[TC]{'+k+'}|[GC]{'+k+'}'\n",
    "        \n",
    "    p = re.compile(reLow_fois_même_lettre + deux_lettres_repetee + uniquement_deux_lettres)\n",
    "\n",
    "    return not p.match(kmer)"
   ]
  },
  {
   "cell_type": "code",
   "execution_count": 41,
   "metadata": {},
   "outputs": [
    {
     "name": "stdout",
     "output_type": "stream",
     "text": [
      "Recherche des motifs dans le brin sens...\n",
      "\n",
      "\n",
      "Recherche des motifs dans le brin reverse complément...\n",
      "\n",
      "\n",
      "Recherche des motifs dans les deux brins...\n",
      "\n",
      "\n",
      "Recherche des motifs terminée\n",
      "\n"
     ]
    }
   ],
   "source": [
    "reLow = 5\n",
    "#RECHERCHE DES MOTIFS DANS LE BRIN SENS\n",
    "print(\"Recherche des motifs dans le brin sens...\\n\")\n",
    "posFastaSens, consensusFastaSens = GreedyProfileMotifSearchIte(sequencesFasta, t, n, k, 100, reLow)\n",
    "\n",
    "\n",
    "#RECHERCHE DES MOTIFS DANS LE REVERSE COMPLÉMENT\n",
    "print(\"\\nRecherche des motifs dans le brin reverse complément...\\n\")\n",
    "sequencesFastaCompl = [reversecompl(sequence) for sequence in sequencesFasta]\n",
    "posFastaCompl, consensusFastaCompl = GreedyProfileMotifSearchIte(sequencesFastaCompl, t, n, k, 100, reLow)\n",
    "\n",
    "\n",
    "#RECHERCHE DANS LES DEUX BRINS\n",
    "print(\"\\nRecherche des motifs dans les deux brins...\\n\")\n",
    "consensusFasta = mergeMotifs(consensusFastaSens, consensusFastaCompl)\n",
    "\n",
    "print(\"\\nRecherche des motifs terminée\\n\")"
   ]
  },
  {
   "cell_type": "code",
   "execution_count": 42,
   "metadata": {},
   "outputs": [
    {
     "name": "stdout",
     "output_type": "stream",
     "text": [
      "Meilleures sequences consensus sens\n",
      "1287.0 TTCAATA\n",
      "1258.0 TGAAATT\n",
      "1250.0 ATCTAAT\n",
      "\n",
      "Meilleures seéquences consensus reverse complément\n",
      "1273.0 TTATGAT\n",
      "1231.0 TTATGAA\n",
      "1217.0 AATTACA\n",
      "\n",
      "Meilleures séquences consensus\n",
      "1287.0 TTCAATA\n",
      "1273.0 TTATGAT\n",
      "1258.0 TGAAATT\n"
     ]
    }
   ],
   "source": [
    "print(\"Meilleures sequences consensus sens\")\n",
    "printTopFMotifsScore(consensusFastaSens, 3)\n",
    "print(\"\\nMeilleures seéquences consensus reverse complément\")\n",
    "printTopFMotifsScore(consensusFastaCompl, 3)\n",
    "print(\"\\nMeilleures séquences consensus\")\n",
    "printTopFMotifsScore(consensusFasta, 3)\n"
   ]
  },
  {
   "cell_type": "markdown",
   "metadata": {},
   "source": [
    "<font color = blue>\n",
    "Nous n'avons pas réussi à retrouver notre motif.\n",
    "</font>"
   ]
  },
  {
   "cell_type": "markdown",
   "metadata": {
    "id": "UO-2rHmt_hu3"
   },
   "source": [
    "13\\. Nous allons implémenter l'algorithme ``randomProjection``. D'abord, faites la fonction `getRandomFixePositions` pour générer une projection de l à k, voir un exemple dans les slides de cours. Faire aussi la fonction `generateKey` qui extrait les caractères du motif puis génère une cle qui représente la projection."
   ]
  },
  {
   "cell_type": "code",
   "execution_count": 43,
   "metadata": {
    "id": "72rT-OkS_hu3"
   },
   "outputs": [
    {
     "name": "stdout",
     "output_type": "stream",
     "text": [
      "Positions aléatoires : [0, 2, 3, 5]\n",
      "Clef générée à partie de 01234567 : 0235\n"
     ]
    }
   ],
   "source": [
    "def getRandomFixePositions(k, n):\n",
    "    \"\"\"\n",
    "    Genere une projection de k vers n\n",
    "    entrée k: nombre de positions du motif original\n",
    "    entrée n: nombre de positions choisi pour la projection \n",
    "    sortie projection: liste de positions choisi aléatoirement\n",
    "    \"\"\"\n",
    "    if (n > k) :\n",
    "        return;\n",
    "    \n",
    "    #La liste des position choisies pour la projection\n",
    "    projection = []\n",
    "    \n",
    "    #On choisi n position\n",
    "    for i in range(n):\n",
    "        pos = random.randint(0,k-1)\n",
    "        while (pos in projection) : #Verfication que la position n'a pas déjà été choisie\n",
    "            pos = random.randint(0,k-1)\n",
    "        projection.append(pos)\n",
    "    projection.sort()\n",
    "    return projection\n",
    "\n",
    "lR = getRandomFixePositions(7, 4)\n",
    "print(\"Positions aléatoires :\",lR)\n",
    "\n",
    "def generateKey(positions, motif):\n",
    "    \"\"\"\n",
    "    extrait les caractères du motif et génère la cle de la projection\n",
    "    entrée positions : liste de positions qui represent la projection\n",
    "    entrée motif : motif de taille k\n",
    "    sortie cle : cle de la projection\n",
    "    \"\"\"\n",
    "    return \"\".join([list(motif)[pos] for pos in positions])\n",
    "\n",
    "print(\"Clef générée à partie de 01234567 :\",generateKey(lR, \"01234567\"))\n"
   ]
  },
  {
   "cell_type": "markdown",
   "metadata": {
    "id": "NK0BhSs1_hu3"
   },
   "source": [
    "14\\. Implémenter l'algorithme ``randomProjection``."
   ]
  },
  {
   "cell_type": "code",
   "execution_count": 44,
   "metadata": {
    "id": "yaDXNosb_hu3"
   },
   "outputs": [
    {
     "name": "stdout",
     "output_type": "stream",
     "text": [
      "['ATGagacaGA', 'AGCgacaGCC', 'CgacaCGGGT']\n",
      "Bucket 1 : gaa ['agaca', 'Cgaca', 'Cgaca']\n",
      "Bucket 2 : acG ['gacaG', 'gacaG']\n",
      "Bucket 3 : Cgc ['GCgac', 'CCgac']\n"
     ]
    }
   ],
   "source": [
    "def randomProjection(k, n, sequences, relow):\n",
    "    \"\"\"\n",
    "    Implémente l'algorithme randomProjection\n",
    "    entrée k : nombre de positions du motif\n",
    "    entrée n : nombre de positions de la projection \n",
    "    entrée sequences : matrice de dimension txn contenant les séquences \n",
    "    sortie motifs : dictionaire, cle = projection, valeur= frequence\n",
    "    sortie motifsSeq:  dictionaire, cle = projection, valeur= original motif\n",
    "    \"\"\"\n",
    "    motifs  = {}; motifsSeq  = {}\n",
    "    \n",
    "    \n",
    "    #On selectionne k positions aléatoirement parmis les l nucléotides du motif\n",
    "    fixPos = getRandomFixePositions(k, n)\n",
    "    \n",
    "    dna = \"\".join(sequences)\n",
    "    #Pour chaque k-tuple dans les sequences, on trouve son bucket de taille n\n",
    "    for pos in range(len(dna)-k+1) :\n",
    "        motif = dna[pos:pos+k]\n",
    "        if isComplexe(motif, reLow) : \n",
    "            #On calcule la projection du k-tuple avec nos positions fixes\n",
    "            projection = generateKey(fixPos, motif)\n",
    "\n",
    "            if projection not in motifs : #nv bucket \n",
    "                motifs[projection] = 1\n",
    "                motifsSeq[projection] = [motif]\n",
    "            else : #ajout au bucket\n",
    "                motifs[projection] += 1\n",
    "                motifsSeq[projection].append(motif)\n",
    "\n",
    "    return motifs, motifsSeq\n",
    "\n",
    "\n",
    "\n",
    "#adnTest = ['TTAACGGCAC', 'GCTCACGCCA', 'TACCGGCCGT']\n",
    "\n",
    "k=5 #taille de motif\n",
    "v=1 #nb de positions variable dans le motif\n",
    "t=3 #nb de sequences\n",
    "n=10 #longuer des sequences\n",
    "\n",
    "adnTest = implantMotifVar(k, v, t, n)\n",
    "print(adnTest)\n",
    "motifsProj, motifsSeq = randomProjection(5, 3, adnTest, 5)\n",
    "\n",
    "motifsProjSort = sorted(motifsProj.items(), key=lambda x: x[1], reverse=True)\n",
    "\n",
    "for i in range(3):\n",
    "    print(\"Bucket\", i+1, \":\", motifsProjSort[i][0], motifsSeq[motifsProjSort[i][0]])\n"
   ]
  },
  {
   "cell_type": "markdown",
   "metadata": {
    "id": "RWMsME8t_hu3"
   },
   "source": [
    "15\\. Avez vous trouvez le motif implanté? Rexécuter l’algorithme plusieurs fois pour augmenter les chances de le trouver. "
   ]
  },
  {
   "cell_type": "markdown",
   "metadata": {
    "id": "Zs7rapz3_hu5"
   },
   "source": [
    "<font color = blue>\n",
    "    Nous trouvons le motif implanté dans le bucket le plus fréquent.\n",
    "</font>"
   ]
  },
  {
   "cell_type": "markdown",
   "metadata": {
    "id": "1DHZjpi4_hu6"
   },
   "source": [
    "16\\. Implémenter la version itérative de l’algorithme ``randomProjection``. "
   ]
  },
  {
   "cell_type": "code",
   "execution_count": 45,
   "metadata": {
    "id": "WkfqvtsT_hu6"
   },
   "outputs": [
    {
     "name": "stdout",
     "output_type": "stream",
     "text": [
      "0\n",
      "1\n",
      "2\n",
      "3\n",
      "4\n",
      "5\n",
      "6\n",
      "7\n",
      "8\n",
      "9\n",
      "10\n",
      "11\n",
      "12\n",
      "13\n",
      "14\n",
      "15\n",
      "16\n",
      "17\n",
      "18\n",
      "19\n",
      "20\n",
      "21\n",
      "22\n",
      "23\n",
      "24\n",
      "25\n",
      "26\n",
      "27\n",
      "28\n",
      "29\n",
      "30\n",
      "31\n",
      "32\n",
      "33\n",
      "34\n",
      "35\n",
      "36\n",
      "37\n",
      "38\n",
      "39\n",
      "40\n",
      "41\n",
      "42\n",
      "43\n",
      "44\n",
      "45\n",
      "46\n",
      "47\n",
      "48\n",
      "49\n",
      "50\n",
      "51\n",
      "52\n",
      "53\n",
      "54\n",
      "55\n",
      "56\n",
      "57\n",
      "58\n",
      "59\n",
      "60\n",
      "61\n",
      "62\n",
      "63\n",
      "64\n",
      "65\n",
      "66\n",
      "67\n",
      "68\n",
      "69\n",
      "70\n",
      "71\n",
      "72\n",
      "73\n",
      "74\n",
      "75\n",
      "76\n",
      "77\n",
      "78\n",
      "79\n",
      "80\n",
      "81\n",
      "82\n",
      "83\n",
      "84\n",
      "85\n",
      "86\n",
      "87\n",
      "88\n",
      "89\n",
      "90\n",
      "91\n",
      "92\n",
      "93\n",
      "94\n",
      "95\n",
      "96\n",
      "97\n",
      "98\n",
      "99\n",
      "2 ['tgattAG', 'tTattTT']\n"
     ]
    }
   ],
   "source": [
    "def randomProjIt(sequences, k, v, nuc, It, reLow):\n",
    "    \"\"\"\n",
    "    Implémente l'algorithme randomProjection version iteractive\n",
    "    entrée sequences : matrice de dimension txn contenant les séquences \n",
    "    entrée k : nombre de positions du motif\n",
    "    entrée v : nombre de positions de la projection \n",
    "    entrée nuc : alphabet\n",
    "    entrée It: nombre d'iterations\n",
    "    sortie score : meilleur score\n",
    "    sortie motifs :  liste de motifs associés au meilleur score\n",
    "    \"\"\"\n",
    "    \n",
    "    motifs = []; scores = []\n",
    "    \n",
    "    for i in range(It):\n",
    "        print(i)\n",
    "        \n",
    "        motifsProj, motifsSeq = randomProjection(k, v, sequences, reLow)\n",
    "        \n",
    "\n",
    "        #Tri des motifs selon la taille des buckets\n",
    "        motifsProjSort = sorted(motifsProj.items(), key=lambda x: x[1], reverse=True)\n",
    "     \n",
    "        #ajout du meilleur motif\n",
    "        motifs.append(motifsSeq[motifsProjSort[0][0]])\n",
    "        scores.append(motifsProjSort[0][1])\n",
    "    \n",
    "    return max(scores), motifs[scores.index(max(scores))] \n",
    "\n",
    "score, seqsMotif = randomProjIt(adn, 7, 4, nuc, 100, 6)\n",
    "\n",
    "print (score, seqsMotif)\n"
   ]
  },
  {
   "cell_type": "markdown",
   "metadata": {
    "id": "JeBaa7f1_hu6"
   },
   "source": [
    "17\\. Tester l'algorithme  ``randomProjection`` sur vos données de chipSeq. N'oubliez pas de chercher les motifs dans le brin complémentaire et faire un merge de résultats. Puis générér le LOGO du motif trouvé."
   ]
  },
  {
   "cell_type": "markdown",
   "metadata": {},
   "source": [
    "<font color = blue>\n",
    "    On test d'abord l'algorithme randomProjection avec deux positions variables\n",
    "</font>"
   ]
  },
  {
   "cell_type": "code",
   "execution_count": 49,
   "metadata": {
    "id": "_jcWAluO_hu7"
   },
   "outputs": [
    {
     "name": "stdout",
     "output_type": "stream",
     "text": [
      "0\n",
      "1\n",
      "2\n",
      "3\n",
      "4\n",
      "5\n",
      "6\n",
      "7\n",
      "8\n",
      "9\n",
      "10\n",
      "11\n",
      "12\n",
      "13\n",
      "14\n",
      "15\n",
      "16\n",
      "17\n",
      "18\n",
      "19\n",
      "20\n",
      "21\n",
      "22\n",
      "23\n",
      "24\n",
      "25\n",
      "26\n",
      "27\n",
      "28\n",
      "29\n",
      "30\n",
      "31\n",
      "32\n",
      "33\n",
      "34\n",
      "35\n",
      "36\n",
      "37\n",
      "38\n",
      "39\n",
      "40\n",
      "41\n",
      "42\n",
      "43\n",
      "44\n",
      "45\n",
      "46\n",
      "47\n",
      "48\n",
      "49\n",
      "50\n",
      "51\n",
      "52\n",
      "53\n",
      "54\n",
      "55\n",
      "56\n",
      "57\n",
      "58\n",
      "59\n",
      "60\n",
      "61\n",
      "62\n",
      "63\n",
      "64\n",
      "65\n",
      "66\n",
      "67\n",
      "68\n",
      "69\n",
      "70\n",
      "71\n",
      "72\n",
      "73\n",
      "74\n",
      "75\n",
      "76\n",
      "77\n",
      "78\n",
      "79\n",
      "80\n",
      "81\n",
      "82\n",
      "83\n",
      "84\n",
      "85\n",
      "86\n",
      "87\n",
      "88\n",
      "89\n",
      "90\n",
      "91\n",
      "92\n",
      "93\n",
      "94\n",
      "95\n",
      "96\n",
      "97\n",
      "98\n",
      "99\n",
      "72 ['AAGCAACA', 'CAGCAATA', 'CAGCAATA', 'TAGCAACA', 'CAGCAAAA', 'TAGCAACA', 'CAGCAATA', 'CAGCAAAA', 'CAGCAATA', 'CAGCAAAA', 'AAGCAACA', 'CAGCAAAA', 'TAGCAAGA', 'CAGCAAAA', 'CAGCAAAA', 'GAGCAAGA', 'CAGCAAAA', 'CAGCAAAA', 'CAGCAAAA', 'TAGCAAAA', 'CAGCAAAA', 'AAGCAATA', 'CAGCAAAA', 'TAGCAAGA', 'TAGCAATA', 'CAGCAATA', 'GAGCAAAA', 'CAGCAAAA', 'AAGCAAGA', 'CAGCAATA', 'CAGCAATA', 'CAGCAATA', 'CAGCAATA', 'TAGCAACA', 'CAGCAATA', 'CAGCAAAA', 'CAGCAAAA', 'CAGCAAAA', 'CAGCAAAA', 'GAGCAAGA', 'AAGCAACA', 'CAGCAAAA', 'CAGCAAAA', 'CAGCAATA', 'TAGCAATA', 'TAGCAATA', 'TAGCAATA', 'TAGCAATA', 'CAGCAAAA', 'CAGCAAAA', 'TAGCAATA', 'AAGCAAGA', 'CAGCAAAA', 'CAGCAAAA', 'CAGCAAAA', 'CAGCAAAA', 'AAGCAAGA', 'CAGCAAAA', 'AAGCAATA', 'AAGCAACA', 'GAGCAATA', 'CAGCAATA', 'GAGCAAAA', 'CAGCAAAA', 'AAGCAAGA', 'TAGCAAAA', 'CAGCAATA', 'CAGCAAAA', 'CAGCAATA', 'CAGCAAAA', 'CAGCAAAA', 'CAGCAATA']\n"
     ]
    }
   ],
   "source": [
    "k = 8\n",
    "v = 6 #nombre de positions fixes\n",
    "it = 100\n",
    "reLow = 6\n",
    "\n",
    "score, seqsMotif = randomProjIt(sequencesFasta+sequencesFastaCompl, k, v, nuc, it, reLow)\n",
    "\n",
    "print(score, seqsMotif)"
   ]
  },
  {
   "cell_type": "code",
   "execution_count": 47,
   "metadata": {},
   "outputs": [
    {
     "name": "stdout",
     "output_type": "stream",
     "text": [
      "Le meilleur bucket trouvé est : \n",
      "{'TATTGCTG': 15, 'TATGGCTG': 1, 'TTTTGCTG': 29, 'TTTAGCTG': 9, 'TTTGGCTG': 4, 'TATCGCTG': 7, 'TCTAGCTG': 2, 'TTTCGCTG': 1, 'TCTCGCTG': 1, 'TGTCGCTG': 1, 'TGTAGCTG': 2}\n"
     ]
    }
   ],
   "source": [
    "dicoMotifOcc = {}\n",
    "\n",
    "for mot in seqsMotif :\n",
    "    if mot in dicoMotifOcc :\n",
    "        dicoMotifOcc[mot] += 1\n",
    "    else :\n",
    "        dicoMotifOcc[mot] = 1\n",
    "print(\"Le meilleur bucket trouvé est : \")\n",
    "print(dicoMotifOcc)"
   ]
  },
  {
   "cell_type": "markdown",
   "metadata": {},
   "source": [
    "Motif LOGO:\n",
    "<img src=\"motif_randomProj_deuxVar.png\">"
   ]
  },
  {
   "cell_type": "markdown",
   "metadata": {},
   "source": [
    "<font color = blue>\n",
    "    Le meilleur bucket trouvé pour cette itération avec deux variations : {'CAGCAATA': 15, 'CAGCAAAA': 29, 'CAGCGAAA': 1, 'CAGCGACA': 1, 'CAGCGAGA': 1, 'CAGCTAAA': 8, 'CAGCTACA': 2, 'CAGCGATA': 8, 'CAGCCAAA': 4, 'CAGCCATA': 1, 'CAGCTAGA': 2}. On retrouve le motif CAGCAAAA comme séquence consensus de ce bucket.\n",
    "</font>"
   ]
  },
  {
   "cell_type": "markdown",
   "metadata": {},
   "source": [
    "<font color = blue>\n",
    "Nous testons maintenat l'algorithme RandomProjection avec une seule variation\n",
    "</font>"
   ]
  },
  {
   "cell_type": "code",
   "execution_count": 48,
   "metadata": {},
   "outputs": [
    {
     "name": "stdout",
     "output_type": "stream",
     "text": [
      "0\n",
      "1\n",
      "2\n",
      "3\n",
      "4\n",
      "5\n",
      "6\n",
      "7\n",
      "8\n",
      "9\n",
      "10\n",
      "11\n",
      "12\n",
      "13\n",
      "14\n",
      "15\n",
      "16\n",
      "17\n",
      "18\n",
      "19\n",
      "20\n",
      "21\n",
      "22\n",
      "23\n",
      "24\n",
      "25\n",
      "26\n",
      "27\n",
      "28\n",
      "29\n",
      "30\n",
      "31\n",
      "32\n",
      "33\n",
      "34\n",
      "35\n",
      "36\n",
      "37\n",
      "38\n",
      "39\n",
      "40\n",
      "41\n",
      "42\n",
      "43\n",
      "44\n",
      "45\n",
      "46\n",
      "47\n",
      "48\n",
      "49\n",
      "50\n",
      "51\n",
      "52\n",
      "53\n",
      "54\n",
      "55\n",
      "56\n",
      "57\n",
      "58\n",
      "59\n",
      "60\n",
      "61\n",
      "62\n",
      "63\n",
      "64\n",
      "65\n",
      "66\n",
      "67\n",
      "68\n",
      "69\n",
      "70\n",
      "71\n",
      "72\n",
      "73\n",
      "74\n",
      "75\n",
      "76\n",
      "77\n",
      "78\n",
      "79\n",
      "80\n",
      "81\n",
      "82\n",
      "83\n",
      "84\n",
      "85\n",
      "86\n",
      "87\n",
      "88\n",
      "89\n",
      "90\n",
      "91\n",
      "92\n",
      "93\n",
      "94\n",
      "95\n",
      "96\n",
      "97\n",
      "98\n",
      "99\n",
      "44 ['CAGCAATA', 'CAGCAATA', 'CAGCAAAA', 'CAGCAATA', 'CAGCAAAA', 'CAGCAATA', 'CAGCAAAA', 'CAGCAAAA', 'CAGCAAAA', 'CAGCAAAA', 'CAGCAAAA', 'CAGCAAAA', 'CAGCAAAA', 'CAGCAAAA', 'CAGCAAAA', 'CAGCAATA', 'CAGCAAAA', 'CAGCAATA', 'CAGCAATA', 'CAGCAATA', 'CAGCAATA', 'CAGCAATA', 'CAGCAAAA', 'CAGCAAAA', 'CAGCAAAA', 'CAGCAAAA', 'CAGCAAAA', 'CAGCAAAA', 'CAGCAATA', 'CAGCAAAA', 'CAGCAAAA', 'CAGCAAAA', 'CAGCAAAA', 'CAGCAAAA', 'CAGCAAAA', 'CAGCAAAA', 'CAGCAATA', 'CAGCAAAA', 'CAGCAATA', 'CAGCAAAA', 'CAGCAATA', 'CAGCAAAA', 'CAGCAAAA', 'CAGCAATA']\n",
      "{'CAGCAATA': 15, 'CAGCAAAA': 29}\n"
     ]
    }
   ],
   "source": [
    "k = 8\n",
    "v = 7 #nombre de positions fixes\n",
    "it = 100\n",
    "reLow = 6\n",
    "\n",
    "score, seqsMotif = randomProjIt(sequencesFasta+sequencesFastaCompl, k, v, nuc, it, reLow)\n",
    "\n",
    "print(score, seqsMotif)\n",
    "\n",
    "dicoMotifOcc = {}\n",
    "\n",
    "for mot in seqsMotif :\n",
    "    if mot in dicoMotifOcc :\n",
    "        dicoMotifOcc[mot] += 1\n",
    "    else :\n",
    "        dicoMotifOcc[mot] = 1\n",
    "        \n",
    "print(dicoMotifOcc)"
   ]
  },
  {
   "cell_type": "markdown",
   "metadata": {},
   "source": [
    "<font color = blue>\n",
    "    Le meilleur bucket trouvé pour cette itération avec une variations : {'CAGCAATA': 15, 'CAGCAAAA': 29}. On retrouve le motif CAGCAAAA\n",
    "</font>"
   ]
  },
  {
   "cell_type": "markdown",
   "metadata": {},
   "source": [
    "Motif LOGO:\n",
    "<img src=\"motif_randomProj_uneVar.png\">"
   ]
  },
  {
   "cell_type": "markdown",
   "metadata": {
    "id": "KTvZuyFe9FoM"
   },
   "source": [
    "18\\. Vous avez sans doute remarqué que les algos implémentés trouvent, suivant des motifs peu complexes, réviser les implémentations pour régler/diminuer ce problème."
   ]
  },
  {
   "cell_type": "markdown",
   "metadata": {
    "id": "u__Up1UU-IYZ"
   },
   "source": [
    "<font color = blue>\n",
    "    Nous avons fait une fonction isComplexe(kmer, reLow) qui retire les motifs peu complexe. Nous utilisons cette fonction dans pMostProbkmer(PWM, k, sequence, reLow) pour trouver directement les k-mer les plus probable de haute compléxité ainsi que dans GreedyProfileMotifSearchIte(sequences, t, n, k, It, reLow) pour trier les séquences consensus. Nous avons également utiliser cette fonction pour n'ajouter aux bucket que des motifs de haute compléxité dans la fonction randomProjection(k, n, sequences, relow).\n",
    "</font>"
   ]
  }
 ],
 "metadata": {
  "celltoolbar": "Raw Cell Format",
  "colab": {
   "collapsed_sections": [],
   "name": "TME6_2022.ipynb",
   "provenance": []
  },
  "kernelspec": {
   "display_name": "Python 3 (ipykernel)",
   "language": "python",
   "name": "python3"
  },
  "language_info": {
   "codemirror_mode": {
    "name": "ipython",
    "version": 3
   },
   "file_extension": ".py",
   "mimetype": "text/x-python",
   "name": "python",
   "nbconvert_exporter": "python",
   "pygments_lexer": "ipython3",
   "version": "3.8.12"
  }
 },
 "nbformat": 4,
 "nbformat_minor": 1
}
