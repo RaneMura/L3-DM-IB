{
 "cells": [
  {
   "cell_type": "markdown",
   "metadata": {
    "id": "H-ZmDjzwYF9d"
   },
   "source": [
    "# TME 3 :  Evaluation des résultats de  méthode de Prédiction de gènes\n",
    "\n"
   ]
  },
  {
   "cell_type": "markdown",
   "metadata": {
    "id": "ROoa6jTYYv0w"
   },
   "source": [
    "**Nom etudiant 1 : K Murali Sharane**\n",
    "\n",
    "**Nom etudiant 2 : Legendre--Despas Jeanne**"
   ]
  },
  {
   "cell_type": "markdown",
   "metadata": {
    "id": "-DRSKEw0YF9r"
   },
   "source": [
    "### A) Matrice de confusion et mesures de performance \n",
    "\n",
    "Il est nécessaire d’avoir une méthode pour évaluer la qualité des prédictions obtenues pour les coordonnées des gènes. Est ce que certains gènes sont ratés par la prédiction, ou est-ce qu’au contraire certains des gènes sont systématiquement surannotés alors qu’il s’agit d’une région intergénique (entre les gènes) ? Toute l’information peut être résumée en construisant le tableau de valeurs suivante, appelée matrice de confusion. Pour cela nous attribuons à chaque nucléotide d’un génome donné la valeur 0 ou 1, 0 si le nucléotide ne fait pas partie d’un gène et 1 si il en fait partie. La matrice de confusion est calculée comme ce tableau. \n",
    "\n",
    "![](matriceconfusion.png \"\")\n",
    "\n",
    "On résume ensuite la qualité de l’annotation avec les métriques suivantes : \n",
    "\n",
    "   + La sensibilité  (= ``11/(11+10)``) <br>\n",
    "Sen = (le nombre de vrais positifs) / (le nombre de vrais positifs + le nombre de faux négatifs)\n",
    "\n",
    "   + La spécificité (= ``00 / (00+01)``) <br>\n",
    "Spe = (le nombre de vrais négatifs) / (le nombre de vrais négatifs + le nombre de faux positifs)\n",
    "\n",
    "   + La valeur prédictive VP (= ``11 / (11+01)``) est le taux de vrais positifs parmi ceux prédits comme positifs <br>\n",
    "VP = (le nombre de vrais positifs) / (le nombre de vrais positifs + le nombre de faux positifs)\n",
    "\n",
    "\n",
    "**Nous allons d'abord coder plusieurs fonctions qui seront utilisées plus tard.**\n",
    "\n",
    "\n"
   ]
  },
  {
   "cell_type": "markdown",
   "metadata": {
    "id": "9xpcTpSXYF9t"
   },
   "source": [
    "<b>Question 1)</b> Ecrivez une fonction ``eval_res`` qui calcule la **Sen**, la **Spe** et **VP** (la valeur prédictive) à partir d’une matrice de confusion et renvoie un tuple à trois dimensions. La matrice de confusion sera codée comme un tableau à deux dimension, _e.g._ une liste de listes ou une matrice de numpy.\n"
   ]
  },
  {
   "cell_type": "code",
   "execution_count": 4,
   "metadata": {
    "id": "viL_iYvbYF9o"
   },
   "outputs": [],
   "source": [
    "import doctest # Pour pouvoir utiliser doctest.testmod()\n",
    "import numpy as np"
   ]
  },
  {
   "cell_type": "code",
   "execution_count": 5,
   "metadata": {
    "id": "lU5fe2L8YF9u"
   },
   "outputs": [
    {
     "data": {
      "text/plain": [
       "TestResults(failed=0, attempted=2)"
      ]
     },
     "execution_count": 5,
     "metadata": {},
     "output_type": "execute_result"
    }
   ],
   "source": [
    "# Question 1\n",
    "def eval_res(matconf):\n",
    "    \"\"\"Renvoi un tuple avec la sensibilité, la spécificité et la valeur prédictivindices_off = [i.start() for i in re.finditer(fauxNegOff, str_intervalle_off)]\n",
    "indices_tme2 = [i.start() for i in re.finditer(fauxNegTme, str_intervalle_tme2)]e.\n",
    "    entrée1 matconf : matrice de confusion (les positions contient VP, FP, FN, VN) \n",
    "    sortie1 sen: sensibilité \n",
    "    sortie2 spe: spécificité \n",
    "    sortie3 vp: sensibi valeur prédictive \n",
    "    >>> eval_res([[4, 1], [1, 3]])\n",
    "    (0.75, 0.8, 0.75)\n",
    "    \"\"\"\n",
    "    \n",
    "    sen = matconf[1][1]/(matconf[1][1] + matconf[1][0])\n",
    "    spe = matconf[0][0]/(matconf[0][0] + matconf[0][1])\n",
    "    vp = matconf[1][1]/(matconf[1][1] + matconf[0][1])\n",
    "    return (sen, spe, vp)\n",
    "doctest.testmod()"
   ]
  },
  {
   "cell_type": "code",
   "execution_count": 6,
   "metadata": {
    "id": "koe-K87FYF9w"
   },
   "outputs": [],
   "source": [
    "assert eval_res([[50, 10], [5, 100]]) == (100 / 105, 50 / 60, 100 / 110)\n",
    "\n"
   ]
  },
  {
   "cell_type": "markdown",
   "metadata": {
    "id": "UD2AEgTmYF9x"
   },
   "source": [
    "<b>Question 2)</b> Ecrivez une fonction ``ecrit_intervalle`` qui, à partir des deux listes des positions de début et de fin des gènes sur le brin sens et de la longueur du génome, recode une grande liste avec la valeur 1 pour les positions qui sont des gènes et 0 sinon. Attention, il faut tenir compte des cas possibles où des gènes se chevauchent. Vous pourrez par exemple initialiser une liste avec ``lg`` valeurs à ``0`` et traiter ensuite les intervalles séquentiellement.\n"
   ]
  },
  {
   "cell_type": "code",
   "execution_count": 7,
   "metadata": {
    "id": "FOUZtaJ6YF9y"
   },
   "outputs": [
    {
     "data": {
      "text/plain": [
       "TestResults(failed=0, attempted=2)"
      ]
     },
     "execution_count": 7,
     "metadata": {},
     "output_type": "execute_result"
    }
   ],
   "source": [
    "# Question 2\n",
    "def ecrit_intervalle(positions_debut, positions_fin, len_genome):\n",
    "    \"\"\"\n",
    "    Renvoie une liste binaire avec un élément par base du génome.\n",
    "    1 indique la présence d'un gène.\n",
    "    entrée1 positions_debut : liste contenant les positions de debut des genes\n",
    "    entrée2 positions_fin : liste contenant les positions de fin des genes\n",
    "    entrée3 len_genome : taille du genome\n",
    "    sortie1 genome_list : Liste binaire avec un élément par base du génome\n",
    "    \n",
    "\n",
    "    >>> ecrit_intervalle([2, 10, 15], [7, 12, 20], 22)\n",
    "    [0, 0, 1, 1, 1, 1, 1, 1, 0, 0, 1, 1, 1, 0, 0, 1, 1, 1, 1, 1, 1, 0]\n",
    "    \"\"\"\n",
    "    genome_list = [0 for _ in range(len_genome)] #initialise tous les positions à zero\n",
    "    \n",
    "    for i in range(len(positions_debut)) : \n",
    "        for j in range(positions_debut[i], positions_fin[i]+1) :\n",
    "            genome_list[j] = 1\n",
    "   \n",
    "    return genome_list\n",
    "\n",
    "\n",
    "doctest.testmod()"
   ]
  },
  {
   "cell_type": "markdown",
   "metadata": {
    "id": "vUNDBy_iYF90"
   },
   "source": [
    "**Question 3)** Ecrivez la fonction ``compare_intervalles`` qui compare deux listes produites par la fonction ``ecrit_intervalle``, et renvoie la matrice de confusion.  \n",
    "    Par exemple, si les deux listes données en paramètre sont  \n",
    "    ``génome =[0,0,1,1,1,1,1,1,0,0,1,1,1,0,0,1,1,1,1,1,1,0]`` et  \n",
    "    ``ORFs   =[0,0,0,1,1,1,1,0,0,0,1,1,1,0,0,0,0,1,1,1,1,0]``, on a :  \n",
    "\n",
    "| Genome / ORF | 0 | 1 |\n",
    "|---|---|---| \n",
    "| **0** | 7 | 0  |\n",
    "| **1** | 4 | 11 |\n"
   ]
  },
  {
   "cell_type": "code",
   "execution_count": 8,
   "metadata": {
    "id": "uoHEYNeYYF91"
   },
   "outputs": [],
   "source": [
    "# Question 3\n",
    "def compare_intervalles(intervalle_1, intervalle_2):\n",
    "    \"\"\"Renvoi la matrice de confusion.\n",
    "    entrée1 intervalle_1: Liste binaire representant un genome de reference\n",
    "    entrée2 intervalle_2: Liste binaire representant les predictions de genes\n",
    "    sortie1 matrix: matrice de confusion\n",
    "    >>> compare_intervalles([0, 0, 1, 1, 1, 1, 1, 1, 0, 0, 1, 1, 1, 0, 0, 1, 1, 1, 1, 1, 1, 0], [0, 0, 0, 1, 1, 1, 1, 0, 0, 0, 1, 1, 1, 0, 0, 0, 0, 1, 1, 1, 1, 0])\n",
    "    [[7, 0], [4, 11]]\n",
    "    \"\"\"\n",
    "    matrix = [[0, 0], [0, 0]]\n",
    "    \n",
    "    for i in range(len(intervalle_1)) : \n",
    "        if (intervalle_1[i] and intervalle_2[i]) :\n",
    "            matrix[1][1] += 1\n",
    "        if (intervalle_1[i] and not intervalle_2[i]) :\n",
    "            matrix[1][0] += 1\n",
    "        if (not intervalle_1[i] and intervalle_2[i]) :\n",
    "            matrix[0][1] += 1\n",
    "        if (not intervalle_1[i] and not intervalle_2[i]) :\n",
    "            matrix[0][0] += 1\n",
    "\n",
    "    return matrix"
   ]
  },
  {
   "cell_type": "code",
   "execution_count": 9,
   "metadata": {
    "colab": {
     "base_uri": "https://localhost:8080/"
    },
    "id": "jLFdSWhVYF93",
    "outputId": "190d9d81-be7d-4dc2-f6cb-b52e943bb7b9"
   },
   "outputs": [
    {
     "data": {
      "text/plain": [
       "[[7, 0], [4, 11]]"
      ]
     },
     "execution_count": 9,
     "metadata": {},
     "output_type": "execute_result"
    }
   ],
   "source": [
    "compare_intervalles(\n",
    "    [0, 0, 1, 1, 1, 1, 1, 1, 0, 0, 1, 1, 1, 0, 0, 1, 1, 1, 1, 1, 1, 0],\n",
    "    [0, 0, 0, 1, 1, 1, 1, 0, 0, 0, 1, 1, 1, 0, 0, 0, 0, 1, 1, 1, 1, 0])"
   ]
  },
  {
   "cell_type": "markdown",
   "metadata": {
    "id": "isfF0PVHYF93"
   },
   "source": [
    "### B) Evaluation sur _E. coli_\n",
    "Nous allons comparer l’annotation des gènes de E. coli disponible au NCBI avec la prédiction par les ORFs realisé au TME precedent.\n",
    "**Attention, certains gènes définit dans les fichiers .tab sont non-codant (rRNA transfer, rRNA ribosomal). Ces gènes ne commencent pas par un codon START et nous allons les ignorer dans notre comparaison**. Nous allons donc travailler seulement avec les lignes \"protein_coding\" et le strand \"+\". \n",
    "\n",
    "\n",
    "\n",
    "\n"
   ]
  },
  {
   "cell_type": "markdown",
   "metadata": {
    "id": "ooXXMrjTsiFv"
   },
   "source": [
    "Nous allons utiliser pandas, une structuré de données puissante qui va simplifier nos analyses.\n",
    "\n",
    "Pour apprendre les bases on vous conseil les tutoriaux et vidéos suivant\n",
    "\n",
    "*   https://eric.univ-lyon2.fr/~ricco/tanagra/fichiers/fr_Tanagra_Data_Manipulation_Pandas.pdf\n",
    "*   https://pandas.pydata.org/pandas-docs/stable/reference/api/pandas.DataFrame.html (doc en anglais)\n",
    "*   https://www.youtube.com/watch?v=zZkNOdBWgFQ&t=187s (video en français)\n",
    "\n"
   ]
  },
  {
   "cell_type": "code",
   "execution_count": 11,
   "metadata": {
    "id": "L96kVi9SYF95"
   },
   "outputs": [],
   "source": [
    "import pandas as pd\n",
    "import gzip\n",
    "import shutil\n",
    "import urllib.request\n"
   ]
  },
  {
   "cell_type": "markdown",
   "metadata": {
    "id": "yYGEHYwpxW9H"
   },
   "source": [
    "<b>Preparation :</b> Telecharger le fichier feature_table de E. coli qui contient l'annotation de son genome"
   ]
  },
  {
   "cell_type": "code",
   "execution_count": 112,
   "metadata": {
    "colab": {
     "base_uri": "https://localhost:8080/"
    },
    "id": "ZLEdjbg2YF95",
    "outputId": "2efd3530-6905-4bda-c3f4-806ca887304c"
   },
   "outputs": [
    {
     "ename": "KeyboardInterrupt",
     "evalue": "",
     "output_type": "error",
     "traceback": [
      "\u001b[0;31m---------------------------------------------------------------------------\u001b[0m",
      "\u001b[0;31mKeyboardInterrupt\u001b[0m                         Traceback (most recent call last)",
      "\u001b[0;32m<ipython-input-112-c1eca37c2237>\u001b[0m in \u001b[0;36m<module>\u001b[0;34m()\u001b[0m\n\u001b[1;32m      1\u001b[0m \u001b[0;31m#Telecharger le fichier feature_table de E. coli qui contient l'annotation de son genome\u001b[0m\u001b[0;34m\u001b[0m\u001b[0;34m\u001b[0m\u001b[0;34m\u001b[0m\u001b[0m\n\u001b[1;32m      2\u001b[0m urllib.request.urlretrieve('ftp://ftp.ncbi.nlm.nih.gov/genomes/all/GCF/000/026/345/GCF_000026345.1_ASM2634v1/GCF_000026345.1_ASM2634v1_feature_table.txt.gz',\n\u001b[0;32m----> 3\u001b[0;31m     'GCF_000026345.1_ASM2634v1_feature_table.txt.gz')\n\u001b[0m",
      "\u001b[0;32m/usr/lib/python3.7/urllib/request.py\u001b[0m in \u001b[0;36murlretrieve\u001b[0;34m(url, filename, reporthook, data)\u001b[0m\n\u001b[1;32m    245\u001b[0m     \u001b[0murl_type\u001b[0m\u001b[0;34m,\u001b[0m \u001b[0mpath\u001b[0m \u001b[0;34m=\u001b[0m \u001b[0msplittype\u001b[0m\u001b[0;34m(\u001b[0m\u001b[0murl\u001b[0m\u001b[0;34m)\u001b[0m\u001b[0;34m\u001b[0m\u001b[0;34m\u001b[0m\u001b[0m\n\u001b[1;32m    246\u001b[0m \u001b[0;34m\u001b[0m\u001b[0m\n\u001b[0;32m--> 247\u001b[0;31m     \u001b[0;32mwith\u001b[0m \u001b[0mcontextlib\u001b[0m\u001b[0;34m.\u001b[0m\u001b[0mclosing\u001b[0m\u001b[0;34m(\u001b[0m\u001b[0murlopen\u001b[0m\u001b[0;34m(\u001b[0m\u001b[0murl\u001b[0m\u001b[0;34m,\u001b[0m \u001b[0mdata\u001b[0m\u001b[0;34m)\u001b[0m\u001b[0;34m)\u001b[0m \u001b[0;32mas\u001b[0m \u001b[0mfp\u001b[0m\u001b[0;34m:\u001b[0m\u001b[0;34m\u001b[0m\u001b[0;34m\u001b[0m\u001b[0m\n\u001b[0m\u001b[1;32m    248\u001b[0m         \u001b[0mheaders\u001b[0m \u001b[0;34m=\u001b[0m \u001b[0mfp\u001b[0m\u001b[0;34m.\u001b[0m\u001b[0minfo\u001b[0m\u001b[0;34m(\u001b[0m\u001b[0;34m)\u001b[0m\u001b[0;34m\u001b[0m\u001b[0;34m\u001b[0m\u001b[0m\n\u001b[1;32m    249\u001b[0m \u001b[0;34m\u001b[0m\u001b[0m\n",
      "\u001b[0;32m/usr/lib/python3.7/urllib/request.py\u001b[0m in \u001b[0;36murlopen\u001b[0;34m(url, data, timeout, cafile, capath, cadefault, context)\u001b[0m\n\u001b[1;32m    220\u001b[0m     \u001b[0;32melse\u001b[0m\u001b[0;34m:\u001b[0m\u001b[0;34m\u001b[0m\u001b[0;34m\u001b[0m\u001b[0m\n\u001b[1;32m    221\u001b[0m         \u001b[0mopener\u001b[0m \u001b[0;34m=\u001b[0m \u001b[0m_opener\u001b[0m\u001b[0;34m\u001b[0m\u001b[0;34m\u001b[0m\u001b[0m\n\u001b[0;32m--> 222\u001b[0;31m     \u001b[0;32mreturn\u001b[0m \u001b[0mopener\u001b[0m\u001b[0;34m.\u001b[0m\u001b[0mopen\u001b[0m\u001b[0;34m(\u001b[0m\u001b[0murl\u001b[0m\u001b[0;34m,\u001b[0m \u001b[0mdata\u001b[0m\u001b[0;34m,\u001b[0m \u001b[0mtimeout\u001b[0m\u001b[0;34m)\u001b[0m\u001b[0;34m\u001b[0m\u001b[0;34m\u001b[0m\u001b[0m\n\u001b[0m\u001b[1;32m    223\u001b[0m \u001b[0;34m\u001b[0m\u001b[0m\n\u001b[1;32m    224\u001b[0m \u001b[0;32mdef\u001b[0m \u001b[0minstall_opener\u001b[0m\u001b[0;34m(\u001b[0m\u001b[0mopener\u001b[0m\u001b[0;34m)\u001b[0m\u001b[0;34m:\u001b[0m\u001b[0;34m\u001b[0m\u001b[0;34m\u001b[0m\u001b[0m\n",
      "\u001b[0;32m/usr/lib/python3.7/urllib/request.py\u001b[0m in \u001b[0;36mopen\u001b[0;34m(self, fullurl, data, timeout)\u001b[0m\n\u001b[1;32m    523\u001b[0m             \u001b[0mreq\u001b[0m \u001b[0;34m=\u001b[0m \u001b[0mmeth\u001b[0m\u001b[0;34m(\u001b[0m\u001b[0mreq\u001b[0m\u001b[0;34m)\u001b[0m\u001b[0;34m\u001b[0m\u001b[0;34m\u001b[0m\u001b[0m\n\u001b[1;32m    524\u001b[0m \u001b[0;34m\u001b[0m\u001b[0m\n\u001b[0;32m--> 525\u001b[0;31m         \u001b[0mresponse\u001b[0m \u001b[0;34m=\u001b[0m \u001b[0mself\u001b[0m\u001b[0;34m.\u001b[0m\u001b[0m_open\u001b[0m\u001b[0;34m(\u001b[0m\u001b[0mreq\u001b[0m\u001b[0;34m,\u001b[0m \u001b[0mdata\u001b[0m\u001b[0;34m)\u001b[0m\u001b[0;34m\u001b[0m\u001b[0;34m\u001b[0m\u001b[0m\n\u001b[0m\u001b[1;32m    526\u001b[0m \u001b[0;34m\u001b[0m\u001b[0m\n\u001b[1;32m    527\u001b[0m         \u001b[0;31m# post-process response\u001b[0m\u001b[0;34m\u001b[0m\u001b[0;34m\u001b[0m\u001b[0;34m\u001b[0m\u001b[0m\n",
      "\u001b[0;32m/usr/lib/python3.7/urllib/request.py\u001b[0m in \u001b[0;36m_open\u001b[0;34m(self, req, data)\u001b[0m\n\u001b[1;32m    541\u001b[0m         \u001b[0mprotocol\u001b[0m \u001b[0;34m=\u001b[0m \u001b[0mreq\u001b[0m\u001b[0;34m.\u001b[0m\u001b[0mtype\u001b[0m\u001b[0;34m\u001b[0m\u001b[0;34m\u001b[0m\u001b[0m\n\u001b[1;32m    542\u001b[0m         result = self._call_chain(self.handle_open, protocol, protocol +\n\u001b[0;32m--> 543\u001b[0;31m                                   '_open', req)\n\u001b[0m\u001b[1;32m    544\u001b[0m         \u001b[0;32mif\u001b[0m \u001b[0mresult\u001b[0m\u001b[0;34m:\u001b[0m\u001b[0;34m\u001b[0m\u001b[0;34m\u001b[0m\u001b[0m\n\u001b[1;32m    545\u001b[0m             \u001b[0;32mreturn\u001b[0m \u001b[0mresult\u001b[0m\u001b[0;34m\u001b[0m\u001b[0;34m\u001b[0m\u001b[0m\n",
      "\u001b[0;32m/usr/lib/python3.7/urllib/request.py\u001b[0m in \u001b[0;36m_call_chain\u001b[0;34m(self, chain, kind, meth_name, *args)\u001b[0m\n\u001b[1;32m    501\u001b[0m         \u001b[0;32mfor\u001b[0m \u001b[0mhandler\u001b[0m \u001b[0;32min\u001b[0m \u001b[0mhandlers\u001b[0m\u001b[0;34m:\u001b[0m\u001b[0;34m\u001b[0m\u001b[0;34m\u001b[0m\u001b[0m\n\u001b[1;32m    502\u001b[0m             \u001b[0mfunc\u001b[0m \u001b[0;34m=\u001b[0m \u001b[0mgetattr\u001b[0m\u001b[0;34m(\u001b[0m\u001b[0mhandler\u001b[0m\u001b[0;34m,\u001b[0m \u001b[0mmeth_name\u001b[0m\u001b[0;34m)\u001b[0m\u001b[0;34m\u001b[0m\u001b[0;34m\u001b[0m\u001b[0m\n\u001b[0;32m--> 503\u001b[0;31m             \u001b[0mresult\u001b[0m \u001b[0;34m=\u001b[0m \u001b[0mfunc\u001b[0m\u001b[0;34m(\u001b[0m\u001b[0;34m*\u001b[0m\u001b[0margs\u001b[0m\u001b[0;34m)\u001b[0m\u001b[0;34m\u001b[0m\u001b[0;34m\u001b[0m\u001b[0m\n\u001b[0m\u001b[1;32m    504\u001b[0m             \u001b[0;32mif\u001b[0m \u001b[0mresult\u001b[0m \u001b[0;32mis\u001b[0m \u001b[0;32mnot\u001b[0m \u001b[0;32mNone\u001b[0m\u001b[0;34m:\u001b[0m\u001b[0;34m\u001b[0m\u001b[0;34m\u001b[0m\u001b[0m\n\u001b[1;32m    505\u001b[0m                 \u001b[0;32mreturn\u001b[0m \u001b[0mresult\u001b[0m\u001b[0;34m\u001b[0m\u001b[0;34m\u001b[0m\u001b[0m\n",
      "\u001b[0;32m/usr/lib/python3.7/urllib/request.py\u001b[0m in \u001b[0;36mftp_open\u001b[0;34m(self, req)\u001b[0m\n\u001b[1;32m   1538\u001b[0m             \u001b[0mdirs\u001b[0m \u001b[0;34m=\u001b[0m \u001b[0mdirs\u001b[0m\u001b[0;34m[\u001b[0m\u001b[0;36m1\u001b[0m\u001b[0;34m:\u001b[0m\u001b[0;34m]\u001b[0m\u001b[0;34m\u001b[0m\u001b[0;34m\u001b[0m\u001b[0m\n\u001b[1;32m   1539\u001b[0m         \u001b[0;32mtry\u001b[0m\u001b[0;34m:\u001b[0m\u001b[0;34m\u001b[0m\u001b[0;34m\u001b[0m\u001b[0m\n\u001b[0;32m-> 1540\u001b[0;31m             \u001b[0mfw\u001b[0m \u001b[0;34m=\u001b[0m \u001b[0mself\u001b[0m\u001b[0;34m.\u001b[0m\u001b[0mconnect_ftp\u001b[0m\u001b[0;34m(\u001b[0m\u001b[0muser\u001b[0m\u001b[0;34m,\u001b[0m \u001b[0mpasswd\u001b[0m\u001b[0;34m,\u001b[0m \u001b[0mhost\u001b[0m\u001b[0;34m,\u001b[0m \u001b[0mport\u001b[0m\u001b[0;34m,\u001b[0m \u001b[0mdirs\u001b[0m\u001b[0;34m,\u001b[0m \u001b[0mreq\u001b[0m\u001b[0;34m.\u001b[0m\u001b[0mtimeout\u001b[0m\u001b[0;34m)\u001b[0m\u001b[0;34m\u001b[0m\u001b[0;34m\u001b[0m\u001b[0m\n\u001b[0m\u001b[1;32m   1541\u001b[0m             \u001b[0mtype\u001b[0m \u001b[0;34m=\u001b[0m \u001b[0mfile\u001b[0m \u001b[0;32mand\u001b[0m \u001b[0;34m'I'\u001b[0m \u001b[0;32mor\u001b[0m \u001b[0;34m'D'\u001b[0m\u001b[0;34m\u001b[0m\u001b[0;34m\u001b[0m\u001b[0m\n\u001b[1;32m   1542\u001b[0m             \u001b[0;32mfor\u001b[0m \u001b[0mattr\u001b[0m \u001b[0;32min\u001b[0m \u001b[0mattrs\u001b[0m\u001b[0;34m:\u001b[0m\u001b[0;34m\u001b[0m\u001b[0;34m\u001b[0m\u001b[0m\n",
      "\u001b[0;32m/usr/lib/python3.7/urllib/request.py\u001b[0m in \u001b[0;36mconnect_ftp\u001b[0;34m(self, user, passwd, host, port, dirs, timeout)\u001b[0m\n\u001b[1;32m   1560\u001b[0m     \u001b[0;32mdef\u001b[0m \u001b[0mconnect_ftp\u001b[0m\u001b[0;34m(\u001b[0m\u001b[0mself\u001b[0m\u001b[0;34m,\u001b[0m \u001b[0muser\u001b[0m\u001b[0;34m,\u001b[0m \u001b[0mpasswd\u001b[0m\u001b[0;34m,\u001b[0m \u001b[0mhost\u001b[0m\u001b[0;34m,\u001b[0m \u001b[0mport\u001b[0m\u001b[0;34m,\u001b[0m \u001b[0mdirs\u001b[0m\u001b[0;34m,\u001b[0m \u001b[0mtimeout\u001b[0m\u001b[0;34m)\u001b[0m\u001b[0;34m:\u001b[0m\u001b[0;34m\u001b[0m\u001b[0;34m\u001b[0m\u001b[0m\n\u001b[1;32m   1561\u001b[0m         return ftpwrapper(user, passwd, host, port, dirs, timeout,\n\u001b[0;32m-> 1562\u001b[0;31m                           persistent=False)\n\u001b[0m\u001b[1;32m   1563\u001b[0m \u001b[0;34m\u001b[0m\u001b[0m\n\u001b[1;32m   1564\u001b[0m \u001b[0;32mclass\u001b[0m \u001b[0mCacheFTPHandler\u001b[0m\u001b[0;34m(\u001b[0m\u001b[0mFTPHandler\u001b[0m\u001b[0;34m)\u001b[0m\u001b[0;34m:\u001b[0m\u001b[0;34m\u001b[0m\u001b[0;34m\u001b[0m\u001b[0m\n",
      "\u001b[0;32m/usr/lib/python3.7/urllib/request.py\u001b[0m in \u001b[0;36m__init__\u001b[0;34m(self, user, passwd, host, port, dirs, timeout, persistent)\u001b[0m\n\u001b[1;32m   2380\u001b[0m         \u001b[0mself\u001b[0m\u001b[0;34m.\u001b[0m\u001b[0mkeepalive\u001b[0m \u001b[0;34m=\u001b[0m \u001b[0mpersistent\u001b[0m\u001b[0;34m\u001b[0m\u001b[0;34m\u001b[0m\u001b[0m\n\u001b[1;32m   2381\u001b[0m         \u001b[0;32mtry\u001b[0m\u001b[0;34m:\u001b[0m\u001b[0;34m\u001b[0m\u001b[0;34m\u001b[0m\u001b[0m\n\u001b[0;32m-> 2382\u001b[0;31m             \u001b[0mself\u001b[0m\u001b[0;34m.\u001b[0m\u001b[0minit\u001b[0m\u001b[0;34m(\u001b[0m\u001b[0;34m)\u001b[0m\u001b[0;34m\u001b[0m\u001b[0;34m\u001b[0m\u001b[0m\n\u001b[0m\u001b[1;32m   2383\u001b[0m         \u001b[0;32mexcept\u001b[0m\u001b[0;34m:\u001b[0m\u001b[0;34m\u001b[0m\u001b[0;34m\u001b[0m\u001b[0m\n\u001b[1;32m   2384\u001b[0m             \u001b[0mself\u001b[0m\u001b[0;34m.\u001b[0m\u001b[0mclose\u001b[0m\u001b[0;34m(\u001b[0m\u001b[0;34m)\u001b[0m\u001b[0;34m\u001b[0m\u001b[0;34m\u001b[0m\u001b[0m\n",
      "\u001b[0;32m/usr/lib/python3.7/urllib/request.py\u001b[0m in \u001b[0;36minit\u001b[0;34m(self)\u001b[0m\n\u001b[1;32m   2389\u001b[0m         \u001b[0mself\u001b[0m\u001b[0;34m.\u001b[0m\u001b[0mbusy\u001b[0m \u001b[0;34m=\u001b[0m \u001b[0;36m0\u001b[0m\u001b[0;34m\u001b[0m\u001b[0;34m\u001b[0m\u001b[0m\n\u001b[1;32m   2390\u001b[0m         \u001b[0mself\u001b[0m\u001b[0;34m.\u001b[0m\u001b[0mftp\u001b[0m \u001b[0;34m=\u001b[0m \u001b[0mftplib\u001b[0m\u001b[0;34m.\u001b[0m\u001b[0mFTP\u001b[0m\u001b[0;34m(\u001b[0m\u001b[0;34m)\u001b[0m\u001b[0;34m\u001b[0m\u001b[0;34m\u001b[0m\u001b[0m\n\u001b[0;32m-> 2391\u001b[0;31m         \u001b[0mself\u001b[0m\u001b[0;34m.\u001b[0m\u001b[0mftp\u001b[0m\u001b[0;34m.\u001b[0m\u001b[0mconnect\u001b[0m\u001b[0;34m(\u001b[0m\u001b[0mself\u001b[0m\u001b[0;34m.\u001b[0m\u001b[0mhost\u001b[0m\u001b[0;34m,\u001b[0m \u001b[0mself\u001b[0m\u001b[0;34m.\u001b[0m\u001b[0mport\u001b[0m\u001b[0;34m,\u001b[0m \u001b[0mself\u001b[0m\u001b[0;34m.\u001b[0m\u001b[0mtimeout\u001b[0m\u001b[0;34m)\u001b[0m\u001b[0;34m\u001b[0m\u001b[0;34m\u001b[0m\u001b[0m\n\u001b[0m\u001b[1;32m   2392\u001b[0m         \u001b[0mself\u001b[0m\u001b[0;34m.\u001b[0m\u001b[0mftp\u001b[0m\u001b[0;34m.\u001b[0m\u001b[0mlogin\u001b[0m\u001b[0;34m(\u001b[0m\u001b[0mself\u001b[0m\u001b[0;34m.\u001b[0m\u001b[0muser\u001b[0m\u001b[0;34m,\u001b[0m \u001b[0mself\u001b[0m\u001b[0;34m.\u001b[0m\u001b[0mpasswd\u001b[0m\u001b[0;34m)\u001b[0m\u001b[0;34m\u001b[0m\u001b[0;34m\u001b[0m\u001b[0m\n\u001b[1;32m   2393\u001b[0m         \u001b[0m_target\u001b[0m \u001b[0;34m=\u001b[0m \u001b[0;34m'/'\u001b[0m\u001b[0;34m.\u001b[0m\u001b[0mjoin\u001b[0m\u001b[0;34m(\u001b[0m\u001b[0mself\u001b[0m\u001b[0;34m.\u001b[0m\u001b[0mdirs\u001b[0m\u001b[0;34m)\u001b[0m\u001b[0;34m\u001b[0m\u001b[0;34m\u001b[0m\u001b[0m\n",
      "\u001b[0;32m/usr/lib/python3.7/ftplib.py\u001b[0m in \u001b[0;36mconnect\u001b[0;34m(self, host, port, timeout, source_address)\u001b[0m\n\u001b[1;32m    150\u001b[0m             \u001b[0mself\u001b[0m\u001b[0;34m.\u001b[0m\u001b[0msource_address\u001b[0m \u001b[0;34m=\u001b[0m \u001b[0msource_address\u001b[0m\u001b[0;34m\u001b[0m\u001b[0;34m\u001b[0m\u001b[0m\n\u001b[1;32m    151\u001b[0m         self.sock = socket.create_connection((self.host, self.port), self.timeout,\n\u001b[0;32m--> 152\u001b[0;31m                                              source_address=self.source_address)\n\u001b[0m\u001b[1;32m    153\u001b[0m         \u001b[0mself\u001b[0m\u001b[0;34m.\u001b[0m\u001b[0maf\u001b[0m \u001b[0;34m=\u001b[0m \u001b[0mself\u001b[0m\u001b[0;34m.\u001b[0m\u001b[0msock\u001b[0m\u001b[0;34m.\u001b[0m\u001b[0mfamily\u001b[0m\u001b[0;34m\u001b[0m\u001b[0;34m\u001b[0m\u001b[0m\n\u001b[1;32m    154\u001b[0m         \u001b[0mself\u001b[0m\u001b[0;34m.\u001b[0m\u001b[0mfile\u001b[0m \u001b[0;34m=\u001b[0m \u001b[0mself\u001b[0m\u001b[0;34m.\u001b[0m\u001b[0msock\u001b[0m\u001b[0;34m.\u001b[0m\u001b[0mmakefile\u001b[0m\u001b[0;34m(\u001b[0m\u001b[0;34m'r'\u001b[0m\u001b[0;34m,\u001b[0m \u001b[0mencoding\u001b[0m\u001b[0;34m=\u001b[0m\u001b[0mself\u001b[0m\u001b[0;34m.\u001b[0m\u001b[0mencoding\u001b[0m\u001b[0;34m)\u001b[0m\u001b[0;34m\u001b[0m\u001b[0;34m\u001b[0m\u001b[0m\n",
      "\u001b[0;32m/usr/lib/python3.7/socket.py\u001b[0m in \u001b[0;36mcreate_connection\u001b[0;34m(address, timeout, source_address)\u001b[0m\n\u001b[1;32m    714\u001b[0m             \u001b[0;32mif\u001b[0m \u001b[0msource_address\u001b[0m\u001b[0;34m:\u001b[0m\u001b[0;34m\u001b[0m\u001b[0;34m\u001b[0m\u001b[0m\n\u001b[1;32m    715\u001b[0m                 \u001b[0msock\u001b[0m\u001b[0;34m.\u001b[0m\u001b[0mbind\u001b[0m\u001b[0;34m(\u001b[0m\u001b[0msource_address\u001b[0m\u001b[0;34m)\u001b[0m\u001b[0;34m\u001b[0m\u001b[0;34m\u001b[0m\u001b[0m\n\u001b[0;32m--> 716\u001b[0;31m             \u001b[0msock\u001b[0m\u001b[0;34m.\u001b[0m\u001b[0mconnect\u001b[0m\u001b[0;34m(\u001b[0m\u001b[0msa\u001b[0m\u001b[0;34m)\u001b[0m\u001b[0;34m\u001b[0m\u001b[0;34m\u001b[0m\u001b[0m\n\u001b[0m\u001b[1;32m    717\u001b[0m             \u001b[0;31m# Break explicitly a reference cycle\u001b[0m\u001b[0;34m\u001b[0m\u001b[0;34m\u001b[0m\u001b[0;34m\u001b[0m\u001b[0m\n\u001b[1;32m    718\u001b[0m             \u001b[0merr\u001b[0m \u001b[0;34m=\u001b[0m \u001b[0;32mNone\u001b[0m\u001b[0;34m\u001b[0m\u001b[0;34m\u001b[0m\u001b[0m\n",
      "\u001b[0;31mKeyboardInterrupt\u001b[0m: "
     ]
    }
   ],
   "source": [
    "#Telecharger le fichier feature_table de E. coli qui contient l'annotation de son genome\n",
    "urllib.request.urlretrieve('ftp://ftp.ncbi.nlm.nih.gov/genomes/all/GCF/000/026/345/GCF_000026345.1_ASM2634v1/GCF_000026345.1_ASM2634v1_feature_table.txt.gz',\n",
    "    'GCF_000026345.1_ASM2634v1_feature_table.txt.gz')"
   ]
  },
  {
   "cell_type": "code",
   "execution_count": 113,
   "metadata": {
    "id": "PnLU7GjHYF96"
   },
   "outputs": [],
   "source": [
    "#Decompresser le fichier\n",
    "with gzip.open('GCF_000026345.1_ASM2634v1_feature_table.txt.gz', 'rb') as f_in:\n",
    "    with open('GCF_000026345.1_ASM2634v1_feature_table.txt', 'wb') as f_out:\n",
    "        shutil.copyfileobj(f_in, f_out)"
   ]
  },
  {
   "cell_type": "markdown",
   "metadata": {
    "id": "_kGwxPGAxuTb"
   },
   "source": [
    "**Question 1)**: Lire le fichier `GCF_000026345.1_ASM2634v1_feature_table.txt` à l'aide de Pandas"
   ]
  },
  {
   "cell_type": "code",
   "execution_count": 12,
   "metadata": {
    "id": "yjhRignyYF97"
   },
   "outputs": [
    {
     "name": "stdout",
     "output_type": "stream",
     "text": [
      "(9896, 20)\n"
     ]
    }
   ],
   "source": [
    "#Lire le fichier à l'aide de Pandas\n",
    "#pd.read_table() est équivalent\n",
    "feature_table = pd.read_csv('GCF_000026345.1_ASM2634v1_feature_table.txt', sep = '\\t')\n",
    "print(feature_table.shape)\n"
   ]
  },
  {
   "cell_type": "code",
   "execution_count": 13,
   "metadata": {
    "id": "uiGjqqtpYF97",
    "scrolled": true
   },
   "outputs": [
    {
     "data": {
      "text/html": [
       "<div>\n",
       "<style scoped>\n",
       "    .dataframe tbody tr th:only-of-type {\n",
       "        vertical-align: middle;\n",
       "    }\n",
       "\n",
       "    .dataframe tbody tr th {\n",
       "        vertical-align: top;\n",
       "    }\n",
       "\n",
       "    .dataframe thead th {\n",
       "        text-align: right;\n",
       "    }\n",
       "</style>\n",
       "<table border=\"1\" class=\"dataframe\">\n",
       "  <thead>\n",
       "    <tr style=\"text-align: right;\">\n",
       "      <th></th>\n",
       "      <th># feature</th>\n",
       "      <th>class</th>\n",
       "      <th>assembly</th>\n",
       "      <th>assembly_unit</th>\n",
       "      <th>seq_type</th>\n",
       "      <th>chromosome</th>\n",
       "      <th>genomic_accession</th>\n",
       "      <th>start</th>\n",
       "      <th>end</th>\n",
       "      <th>strand</th>\n",
       "      <th>product_accession</th>\n",
       "      <th>non-redundant_refseq</th>\n",
       "      <th>related_accession</th>\n",
       "      <th>name</th>\n",
       "      <th>symbol</th>\n",
       "      <th>GeneID</th>\n",
       "      <th>locus_tag</th>\n",
       "      <th>feature_interval_length</th>\n",
       "      <th>product_length</th>\n",
       "      <th>attributes</th>\n",
       "    </tr>\n",
       "  </thead>\n",
       "  <tbody>\n",
       "    <tr>\n",
       "      <th>0</th>\n",
       "      <td>gene</td>\n",
       "      <td>protein_coding</td>\n",
       "      <td>GCF_000026345.1</td>\n",
       "      <td>Primary Assembly</td>\n",
       "      <td>chromosome</td>\n",
       "      <td>NaN</td>\n",
       "      <td>NC_011750.1</td>\n",
       "      <td>189</td>\n",
       "      <td>254</td>\n",
       "      <td>+</td>\n",
       "      <td>NaN</td>\n",
       "      <td>NaN</td>\n",
       "      <td>NaN</td>\n",
       "      <td>NaN</td>\n",
       "      <td>thrL</td>\n",
       "      <td>NaN</td>\n",
       "      <td>ECIAI39_RS00005</td>\n",
       "      <td>66</td>\n",
       "      <td>NaN</td>\n",
       "      <td>old_locus_tag=ECIAI39_4936</td>\n",
       "    </tr>\n",
       "    <tr>\n",
       "      <th>1</th>\n",
       "      <td>CDS</td>\n",
       "      <td>with_protein</td>\n",
       "      <td>GCF_000026345.1</td>\n",
       "      <td>Primary Assembly</td>\n",
       "      <td>chromosome</td>\n",
       "      <td>NaN</td>\n",
       "      <td>NC_011750.1</td>\n",
       "      <td>189</td>\n",
       "      <td>254</td>\n",
       "      <td>+</td>\n",
       "      <td>WP_001386572.1</td>\n",
       "      <td>WP_001386572.1</td>\n",
       "      <td>NaN</td>\n",
       "      <td>thr operon leader peptide</td>\n",
       "      <td>thrL</td>\n",
       "      <td>NaN</td>\n",
       "      <td>ECIAI39_RS00005</td>\n",
       "      <td>66</td>\n",
       "      <td>21.0</td>\n",
       "      <td>NaN</td>\n",
       "    </tr>\n",
       "    <tr>\n",
       "      <th>2</th>\n",
       "      <td>gene</td>\n",
       "      <td>protein_coding</td>\n",
       "      <td>GCF_000026345.1</td>\n",
       "      <td>Primary Assembly</td>\n",
       "      <td>chromosome</td>\n",
       "      <td>NaN</td>\n",
       "      <td>NC_011750.1</td>\n",
       "      <td>335</td>\n",
       "      <td>2797</td>\n",
       "      <td>+</td>\n",
       "      <td>NaN</td>\n",
       "      <td>NaN</td>\n",
       "      <td>NaN</td>\n",
       "      <td>NaN</td>\n",
       "      <td>thrA</td>\n",
       "      <td>NaN</td>\n",
       "      <td>ECIAI39_RS00010</td>\n",
       "      <td>2463</td>\n",
       "      <td>NaN</td>\n",
       "      <td>old_locus_tag=ECIAI39_0001</td>\n",
       "    </tr>\n",
       "    <tr>\n",
       "      <th>3</th>\n",
       "      <td>CDS</td>\n",
       "      <td>with_protein</td>\n",
       "      <td>GCF_000026345.1</td>\n",
       "      <td>Primary Assembly</td>\n",
       "      <td>chromosome</td>\n",
       "      <td>NaN</td>\n",
       "      <td>NC_011750.1</td>\n",
       "      <td>335</td>\n",
       "      <td>2797</td>\n",
       "      <td>+</td>\n",
       "      <td>WP_001264707.1</td>\n",
       "      <td>WP_001264707.1</td>\n",
       "      <td>NaN</td>\n",
       "      <td>bifunctional aspartate kinase/homoserine dehyd...</td>\n",
       "      <td>thrA</td>\n",
       "      <td>NaN</td>\n",
       "      <td>ECIAI39_RS00010</td>\n",
       "      <td>2463</td>\n",
       "      <td>820.0</td>\n",
       "      <td>NaN</td>\n",
       "    </tr>\n",
       "    <tr>\n",
       "      <th>4</th>\n",
       "      <td>gene</td>\n",
       "      <td>protein_coding</td>\n",
       "      <td>GCF_000026345.1</td>\n",
       "      <td>Primary Assembly</td>\n",
       "      <td>chromosome</td>\n",
       "      <td>NaN</td>\n",
       "      <td>NC_011750.1</td>\n",
       "      <td>2799</td>\n",
       "      <td>3731</td>\n",
       "      <td>+</td>\n",
       "      <td>NaN</td>\n",
       "      <td>NaN</td>\n",
       "      <td>NaN</td>\n",
       "      <td>NaN</td>\n",
       "      <td>thrB</td>\n",
       "      <td>NaN</td>\n",
       "      <td>ECIAI39_RS00015</td>\n",
       "      <td>933</td>\n",
       "      <td>NaN</td>\n",
       "      <td>old_locus_tag=ECIAI39_0002</td>\n",
       "    </tr>\n",
       "  </tbody>\n",
       "</table>\n",
       "</div>"
      ],
      "text/plain": [
       "  # feature           class         assembly     assembly_unit    seq_type  \\\n",
       "0      gene  protein_coding  GCF_000026345.1  Primary Assembly  chromosome   \n",
       "1       CDS    with_protein  GCF_000026345.1  Primary Assembly  chromosome   \n",
       "2      gene  protein_coding  GCF_000026345.1  Primary Assembly  chromosome   \n",
       "3       CDS    with_protein  GCF_000026345.1  Primary Assembly  chromosome   \n",
       "4      gene  protein_coding  GCF_000026345.1  Primary Assembly  chromosome   \n",
       "\n",
       "   chromosome genomic_accession  start   end strand product_accession  \\\n",
       "0         NaN       NC_011750.1    189   254      +               NaN   \n",
       "1         NaN       NC_011750.1    189   254      +    WP_001386572.1   \n",
       "2         NaN       NC_011750.1    335  2797      +               NaN   \n",
       "3         NaN       NC_011750.1    335  2797      +    WP_001264707.1   \n",
       "4         NaN       NC_011750.1   2799  3731      +               NaN   \n",
       "\n",
       "  non-redundant_refseq  related_accession  \\\n",
       "0                  NaN                NaN   \n",
       "1       WP_001386572.1                NaN   \n",
       "2                  NaN                NaN   \n",
       "3       WP_001264707.1                NaN   \n",
       "4                  NaN                NaN   \n",
       "\n",
       "                                                name symbol  GeneID  \\\n",
       "0                                                NaN   thrL     NaN   \n",
       "1                          thr operon leader peptide   thrL     NaN   \n",
       "2                                                NaN   thrA     NaN   \n",
       "3  bifunctional aspartate kinase/homoserine dehyd...   thrA     NaN   \n",
       "4                                                NaN   thrB     NaN   \n",
       "\n",
       "         locus_tag  feature_interval_length  product_length  \\\n",
       "0  ECIAI39_RS00005                       66             NaN   \n",
       "1  ECIAI39_RS00005                       66            21.0   \n",
       "2  ECIAI39_RS00010                     2463             NaN   \n",
       "3  ECIAI39_RS00010                     2463           820.0   \n",
       "4  ECIAI39_RS00015                      933             NaN   \n",
       "\n",
       "                   attributes  \n",
       "0  old_locus_tag=ECIAI39_4936  \n",
       "1                         NaN  \n",
       "2  old_locus_tag=ECIAI39_0001  \n",
       "3                         NaN  \n",
       "4  old_locus_tag=ECIAI39_0002  "
      ]
     },
     "execution_count": 13,
     "metadata": {},
     "output_type": "execute_result"
    }
   ],
   "source": [
    "#afficher les premières 5 lignes\n",
    "feature_table.head()\n"
   ]
  },
  {
   "cell_type": "markdown",
   "metadata": {
    "id": "OEAvBpCqyI6d"
   },
   "source": [
    "**Question 2)**: Filtrer feature table et laisser seulement les lignes contenant \"protein_coding\" et le strand \"+\"."
   ]
  },
  {
   "cell_type": "code",
   "execution_count": 14,
   "metadata": {
    "id": "7DSlBIZfYF98"
   },
   "outputs": [
    {
     "data": {
      "text/html": [
       "<div>\n",
       "<style scoped>\n",
       "    .dataframe tbody tr th:only-of-type {\n",
       "        vertical-align: middle;\n",
       "    }\n",
       "\n",
       "    .dataframe tbody tr th {\n",
       "        vertical-align: top;\n",
       "    }\n",
       "\n",
       "    .dataframe thead th {\n",
       "        text-align: right;\n",
       "    }\n",
       "</style>\n",
       "<table border=\"1\" class=\"dataframe\">\n",
       "  <thead>\n",
       "    <tr style=\"text-align: right;\">\n",
       "      <th></th>\n",
       "      <th># feature</th>\n",
       "      <th>class</th>\n",
       "      <th>assembly</th>\n",
       "      <th>assembly_unit</th>\n",
       "      <th>seq_type</th>\n",
       "      <th>chromosome</th>\n",
       "      <th>genomic_accession</th>\n",
       "      <th>start</th>\n",
       "      <th>end</th>\n",
       "      <th>strand</th>\n",
       "      <th>product_accession</th>\n",
       "      <th>non-redundant_refseq</th>\n",
       "      <th>related_accession</th>\n",
       "      <th>name</th>\n",
       "      <th>symbol</th>\n",
       "      <th>GeneID</th>\n",
       "      <th>locus_tag</th>\n",
       "      <th>feature_interval_length</th>\n",
       "      <th>product_length</th>\n",
       "      <th>attributes</th>\n",
       "    </tr>\n",
       "  </thead>\n",
       "  <tbody>\n",
       "    <tr>\n",
       "      <th>0</th>\n",
       "      <td>gene</td>\n",
       "      <td>protein_coding</td>\n",
       "      <td>GCF_000026345.1</td>\n",
       "      <td>Primary Assembly</td>\n",
       "      <td>chromosome</td>\n",
       "      <td>NaN</td>\n",
       "      <td>NC_011750.1</td>\n",
       "      <td>189</td>\n",
       "      <td>254</td>\n",
       "      <td>+</td>\n",
       "      <td>NaN</td>\n",
       "      <td>NaN</td>\n",
       "      <td>NaN</td>\n",
       "      <td>NaN</td>\n",
       "      <td>thrL</td>\n",
       "      <td>NaN</td>\n",
       "      <td>ECIAI39_RS00005</td>\n",
       "      <td>66</td>\n",
       "      <td>NaN</td>\n",
       "      <td>old_locus_tag=ECIAI39_4936</td>\n",
       "    </tr>\n",
       "    <tr>\n",
       "      <th>2</th>\n",
       "      <td>gene</td>\n",
       "      <td>protein_coding</td>\n",
       "      <td>GCF_000026345.1</td>\n",
       "      <td>Primary Assembly</td>\n",
       "      <td>chromosome</td>\n",
       "      <td>NaN</td>\n",
       "      <td>NC_011750.1</td>\n",
       "      <td>335</td>\n",
       "      <td>2797</td>\n",
       "      <td>+</td>\n",
       "      <td>NaN</td>\n",
       "      <td>NaN</td>\n",
       "      <td>NaN</td>\n",
       "      <td>NaN</td>\n",
       "      <td>thrA</td>\n",
       "      <td>NaN</td>\n",
       "      <td>ECIAI39_RS00010</td>\n",
       "      <td>2463</td>\n",
       "      <td>NaN</td>\n",
       "      <td>old_locus_tag=ECIAI39_0001</td>\n",
       "    </tr>\n",
       "    <tr>\n",
       "      <th>4</th>\n",
       "      <td>gene</td>\n",
       "      <td>protein_coding</td>\n",
       "      <td>GCF_000026345.1</td>\n",
       "      <td>Primary Assembly</td>\n",
       "      <td>chromosome</td>\n",
       "      <td>NaN</td>\n",
       "      <td>NC_011750.1</td>\n",
       "      <td>2799</td>\n",
       "      <td>3731</td>\n",
       "      <td>+</td>\n",
       "      <td>NaN</td>\n",
       "      <td>NaN</td>\n",
       "      <td>NaN</td>\n",
       "      <td>NaN</td>\n",
       "      <td>thrB</td>\n",
       "      <td>NaN</td>\n",
       "      <td>ECIAI39_RS00015</td>\n",
       "      <td>933</td>\n",
       "      <td>NaN</td>\n",
       "      <td>old_locus_tag=ECIAI39_0002</td>\n",
       "    </tr>\n",
       "    <tr>\n",
       "      <th>6</th>\n",
       "      <td>gene</td>\n",
       "      <td>protein_coding</td>\n",
       "      <td>GCF_000026345.1</td>\n",
       "      <td>Primary Assembly</td>\n",
       "      <td>chromosome</td>\n",
       "      <td>NaN</td>\n",
       "      <td>NC_011750.1</td>\n",
       "      <td>3732</td>\n",
       "      <td>5018</td>\n",
       "      <td>+</td>\n",
       "      <td>NaN</td>\n",
       "      <td>NaN</td>\n",
       "      <td>NaN</td>\n",
       "      <td>NaN</td>\n",
       "      <td>thrC</td>\n",
       "      <td>NaN</td>\n",
       "      <td>ECIAI39_RS00020</td>\n",
       "      <td>1287</td>\n",
       "      <td>NaN</td>\n",
       "      <td>old_locus_tag=ECIAI39_0003</td>\n",
       "    </tr>\n",
       "    <tr>\n",
       "      <th>8</th>\n",
       "      <td>gene</td>\n",
       "      <td>protein_coding</td>\n",
       "      <td>GCF_000026345.1</td>\n",
       "      <td>Primary Assembly</td>\n",
       "      <td>chromosome</td>\n",
       "      <td>NaN</td>\n",
       "      <td>NC_011750.1</td>\n",
       "      <td>5232</td>\n",
       "      <td>5528</td>\n",
       "      <td>+</td>\n",
       "      <td>NaN</td>\n",
       "      <td>NaN</td>\n",
       "      <td>NaN</td>\n",
       "      <td>NaN</td>\n",
       "      <td>NaN</td>\n",
       "      <td>NaN</td>\n",
       "      <td>ECIAI39_RS00025</td>\n",
       "      <td>297</td>\n",
       "      <td>NaN</td>\n",
       "      <td>old_locus_tag=ECIAI39_0004</td>\n",
       "    </tr>\n",
       "  </tbody>\n",
       "</table>\n",
       "</div>"
      ],
      "text/plain": [
       "  # feature           class         assembly     assembly_unit    seq_type  \\\n",
       "0      gene  protein_coding  GCF_000026345.1  Primary Assembly  chromosome   \n",
       "2      gene  protein_coding  GCF_000026345.1  Primary Assembly  chromosome   \n",
       "4      gene  protein_coding  GCF_000026345.1  Primary Assembly  chromosome   \n",
       "6      gene  protein_coding  GCF_000026345.1  Primary Assembly  chromosome   \n",
       "8      gene  protein_coding  GCF_000026345.1  Primary Assembly  chromosome   \n",
       "\n",
       "   chromosome genomic_accession  start   end strand product_accession  \\\n",
       "0         NaN       NC_011750.1    189   254      +               NaN   \n",
       "2         NaN       NC_011750.1    335  2797      +               NaN   \n",
       "4         NaN       NC_011750.1   2799  3731      +               NaN   \n",
       "6         NaN       NC_011750.1   3732  5018      +               NaN   \n",
       "8         NaN       NC_011750.1   5232  5528      +               NaN   \n",
       "\n",
       "  non-redundant_refseq  related_accession name symbol  GeneID  \\\n",
       "0                  NaN                NaN  NaN   thrL     NaN   \n",
       "2                  NaN                NaN  NaN   thrA     NaN   \n",
       "4                  NaN                NaN  NaN   thrB     NaN   \n",
       "6                  NaN                NaN  NaN   thrC     NaN   \n",
       "8                  NaN                NaN  NaN    NaN     NaN   \n",
       "\n",
       "         locus_tag  feature_interval_length  product_length  \\\n",
       "0  ECIAI39_RS00005                       66             NaN   \n",
       "2  ECIAI39_RS00010                     2463             NaN   \n",
       "4  ECIAI39_RS00015                      933             NaN   \n",
       "6  ECIAI39_RS00020                     1287             NaN   \n",
       "8  ECIAI39_RS00025                      297             NaN   \n",
       "\n",
       "                   attributes  \n",
       "0  old_locus_tag=ECIAI39_4936  \n",
       "2  old_locus_tag=ECIAI39_0001  \n",
       "4  old_locus_tag=ECIAI39_0002  \n",
       "6  old_locus_tag=ECIAI39_0003  \n",
       "8  old_locus_tag=ECIAI39_0004  "
      ]
     },
     "execution_count": 14,
     "metadata": {},
     "output_type": "execute_result"
    }
   ],
   "source": [
    "orf_genome = feature_table.loc[(feature_table['class'] == \"protein_coding\") & (feature_table['strand'] == \"+\"),:]\n",
    "orf_genome.head()"
   ]
  },
  {
   "cell_type": "markdown",
   "metadata": {
    "id": "T36RlIyOyZ47"
   },
   "source": [
    "**Question 3)**: Lire le fichier annotation_des_orfs.csv (produit au TME2) à l'aide de Pandas"
   ]
  },
  {
   "cell_type": "code",
   "execution_count": 15,
   "metadata": {
    "id": "F_JadhPoYF98"
   },
   "outputs": [
    {
     "data": {
      "text/html": [
       "<div>\n",
       "<style scoped>\n",
       "    .dataframe tbody tr th:only-of-type {\n",
       "        vertical-align: middle;\n",
       "    }\n",
       "\n",
       "    .dataframe tbody tr th {\n",
       "        vertical-align: top;\n",
       "    }\n",
       "\n",
       "    .dataframe thead th {\n",
       "        text-align: right;\n",
       "    }\n",
       "</style>\n",
       "<table border=\"1\" class=\"dataframe\">\n",
       "  <thead>\n",
       "    <tr style=\"text-align: right;\">\n",
       "      <th></th>\n",
       "      <th>start</th>\n",
       "      <th>len</th>\n",
       "      <th>seq</th>\n",
       "    </tr>\n",
       "  </thead>\n",
       "  <tbody>\n",
       "    <tr>\n",
       "      <th>0</th>\n",
       "      <td>292</td>\n",
       "      <td>2505</td>\n",
       "      <td>GTGCGGGCTTTTTTTTCGACCAAAGGTAACGAGGTAACAACCATGC...</td>\n",
       "    </tr>\n",
       "    <tr>\n",
       "      <th>1</th>\n",
       "      <td>2798</td>\n",
       "      <td>933</td>\n",
       "      <td>ATGGTTAAAGTTTATGCCCCGGCTTCCAGTGCCAATATGAGCGTCG...</td>\n",
       "    </tr>\n",
       "    <tr>\n",
       "      <th>2</th>\n",
       "      <td>3731</td>\n",
       "      <td>1287</td>\n",
       "      <td>ATGAAACTCTACAATCTGAAAGATCACAATGAGCAGGTCAGCTTTG...</td>\n",
       "    </tr>\n",
       "    <tr>\n",
       "      <th>3</th>\n",
       "      <td>8272</td>\n",
       "      <td>804</td>\n",
       "      <td>TTGATTGATGATGCTGTCGCCTGGGCGAAACAGCAGAGCAACGATC...</td>\n",
       "    </tr>\n",
       "    <tr>\n",
       "      <th>4</th>\n",
       "      <td>12100</td>\n",
       "      <td>1863</td>\n",
       "      <td>ATGGATGGCACCACTCCTCGTGTACTGGAGAACGCCGAAGGCGATC...</td>\n",
       "    </tr>\n",
       "  </tbody>\n",
       "</table>\n",
       "</div>"
      ],
      "text/plain": [
       "   start   len                                                seq\n",
       "0    292  2505  GTGCGGGCTTTTTTTTCGACCAAAGGTAACGAGGTAACAACCATGC...\n",
       "1   2798   933  ATGGTTAAAGTTTATGCCCCGGCTTCCAGTGCCAATATGAGCGTCG...\n",
       "2   3731  1287  ATGAAACTCTACAATCTGAAAGATCACAATGAGCAGGTCAGCTTTG...\n",
       "3   8272   804  TTGATTGATGATGCTGTCGCCTGGGCGAAACAGCAGAGCAACGATC...\n",
       "4  12100  1863  ATGGATGGCACCACTCCTCGTGTACTGGAGAACGCCGAAGGCGATC..."
      ]
     },
     "execution_count": 15,
     "metadata": {},
     "output_type": "execute_result"
    }
   ],
   "source": [
    "orf_tme2 = pd.read_csv('annotation_des_orfs_prof.csv', sep = '\\t')\n",
    "orf_tme2.head()\n"
   ]
  },
  {
   "cell_type": "markdown",
   "metadata": {
    "id": "jezFebivwqSX"
   },
   "source": [
    "**Question 4)**: Appliquez la fonction ``compare_intervalle`` à l’annotation des gènes sur le brin sens et à la prédiction par les ORFs sur le brin sens,  puis générer la matrice de confusion."
   ]
  },
  {
   "cell_type": "code",
   "execution_count": 16,
   "metadata": {
    "id": "oQlkjpxnYF99"
   },
   "outputs": [],
   "source": [
    "len_genome = 5132068\n",
    "\n",
    "#Récupération des variables sur l'annotation officielle du génome\n",
    "positions_debut_off = [k - 1 for k in orf_genome['start'].tolist()]\n",
    "positions_fin_off = [k - 1 for k in orf_genome['end'].tolist()]\n",
    "\n",
    "#Récupération des variables sur l'annotation du tme2 du génome\n",
    "positions_debut_tme2 = orf_tme2['start'].tolist()\n",
    "len_tme2 = orf_tme2['len'].tolist()\n",
    "positions_fin_tme2 = [positions_debut_tme2[k] + len_tme2[k] - 1 for k in range(len(positions_debut_tme2))]\n",
    "\n",
    "#Écriture des intervalles\n",
    "intervalle_off = ecrit_intervalle(positions_debut_off, positions_fin_off, len_genome)\n",
    "intervalle_tme2 = ecrit_intervalle(positions_debut_tme2, positions_fin_tme2, len_genome)"
   ]
  },
  {
   "cell_type": "code",
   "execution_count": 17,
   "metadata": {},
   "outputs": [],
   "source": [
    "#Comparaison des intervalles\n",
    "matrix = compare_intervalles(intervalle_off, intervalle_tme2)"
   ]
  },
  {
   "cell_type": "code",
   "execution_count": 18,
   "metadata": {
    "colab": {
     "base_uri": "https://localhost:8080/"
    },
    "id": "QfsveV32YF99",
    "outputId": "a35413a0-6818-4499-8868-7a6f2369b4f1"
   },
   "outputs": [
    {
     "data": {
      "text/plain": [
       "[[2832085, 289576], [438702, 1571705]]"
      ]
     },
     "execution_count": 18,
     "metadata": {},
     "output_type": "execute_result"
    }
   ],
   "source": [
    "matrix"
   ]
  },
  {
   "cell_type": "markdown",
   "metadata": {
    "id": "34wx1lsizNPc"
   },
   "source": [
    "matrix = [[2832085, 289576], [438702, 1571705]]"
   ]
  },
  {
   "cell_type": "markdown",
   "metadata": {
    "id": "TL8pldTlzU3S"
   },
   "source": [
    "**Question 5)**: Appliquez la fonction ``eval_res`` à la matrice de confusion et affichez Sen, Spe et VP."
   ]
  },
  {
   "cell_type": "code",
   "execution_count": 19,
   "metadata": {
    "id": "goWShEC9YF9_"
   },
   "outputs": [
    {
     "name": "stdout",
     "output_type": "stream",
     "text": [
      "Sensibilité :  0.7817844844352412\n",
      "Spécificité :  0.9072365641240352\n",
      "Valeur prédictive :  0.8444211271699437\n"
     ]
    }
   ],
   "source": [
    "var = eval_res(matrix)\n",
    "print(\"Sensibilité : \", var[0])\n",
    "print(\"Spécificité : \", var[1])\n",
    "print(\"Valeur prédictive : \", var[2])\n"
   ]
  },
  {
   "cell_type": "markdown",
   "metadata": {
    "id": "6ZjQieavYF-A"
   },
   "source": [
    "<b>Question 6)</b>: Analyse des résultats. Pour comprendre les limitations d'une méthode de prédiction on doit toujours analyser dans un second temps les erreurs faites par le programme. En détectant des erreurs récurrente, il est plus facile de proposer ensuite des améliorations. Donnez deux exemples de régions d'au moins 50 nucléotides consécutifs qui sont :\n",
    "\n",
    "*   un faux négatif (gène raté)\n",
    "*   un faux positif (gène inexistant)\n",
    "\n",
    "A votre avis à quoi ces deux types d'erreurs sont-elles dues ? "
   ]
  },
  {
   "cell_type": "code",
   "execution_count": 20,
   "metadata": {},
   "outputs": [],
   "source": [
    "import re"
   ]
  },
  {
   "cell_type": "code",
   "execution_count": 21,
   "metadata": {},
   "outputs": [],
   "source": [
    "str_intervalle_off = \"\".join(str(elem) for elem in intervalle_off)\n",
    "str_intervalle_tme2 = \"\".join(str(elem) for elem in intervalle_tme2)\n",
    "seq1 = 50 * \"1\"\n",
    "seq0 = 50 * \"0\"\n",
    "\n",
    "\n",
    "indices_off_fn = [i.start() for i in re.finditer(seq1, str_intervalle_off)]\n",
    "indices_tme2_fn = [i.start() for i in re.finditer(seq0, str_intervalle_tme2)]"
   ]
  },
  {
   "cell_type": "code",
   "execution_count": 26,
   "metadata": {},
   "outputs": [
    {
     "name": "stdout",
     "output_type": "stream",
     "text": [
      "52385\n"
     ]
    }
   ],
   "source": [
    "def faux_neg():\n",
    "    for i_off in indices_off_fn :\n",
    "        for i_tme2 in indices_tme2_fn :\n",
    "            if i_off == i_tme2 :\n",
    "                return i_off\n",
    "\n",
    "faux_neg = faux_neg()      \n",
    "print(faux_neg)"
   ]
  },
  {
   "cell_type": "code",
   "execution_count": 27,
   "metadata": {},
   "outputs": [
    {
     "name": "stdout",
     "output_type": "stream",
     "text": [
      "11111111111111111111111111111111111111111111111111\n",
      "00000000000000000000000000000000000000000000000000\n"
     ]
    }
   ],
   "source": [
    "print(str_intervalle_off[faux_neg:faux_neg+50])\n",
    "print(str_intervalle_tme2[faux_neg:faux_neg+50])"
   ]
  },
  {
   "cell_type": "code",
   "execution_count": 28,
   "metadata": {},
   "outputs": [],
   "source": [
    "indices_off_fp = [i.start() for i in re.finditer(seq0, str_intervalle_off)]\n",
    "indices_tme2_fp = [i.start() for i in re.finditer(seq1, str_intervalle_tme2)]"
   ]
  },
  {
   "cell_type": "code",
   "execution_count": 30,
   "metadata": {},
   "outputs": [
    {
     "name": "stdout",
     "output_type": "stream",
     "text": [
      "323907\n"
     ]
    }
   ],
   "source": [
    "def faux_pos() :\n",
    "    for i_off in indices_off_fp :\n",
    "        for i_tme2 in indices_tme2_fp :\n",
    "            if i_off == i_tme2 :\n",
    "                return i_off\n",
    "faux_pos = faux_pos()\n",
    "print(faux_pos)"
   ]
  },
  {
   "cell_type": "code",
   "execution_count": 31,
   "metadata": {},
   "outputs": [
    {
     "name": "stdout",
     "output_type": "stream",
     "text": [
      "00000000000000000000000000000000000000000000000000\n",
      "11111111111111111111111111111111111111111111111111\n"
     ]
    }
   ],
   "source": [
    "print(str_intervalle_off[faux_pos:faux_pos+50])\n",
    "print(str_intervalle_tme2[faux_pos:faux_pos+50])"
   ]
  },
  {
   "cell_type": "markdown",
   "metadata": {},
   "source": [
    "Notre fonctions parcourt une seule fois le génome en cherchant un start tous cadre de lecture confondu puis un stop dans le même cadre de lecture et ainsi de suite. \n",
    "Ainsi les gène chevauchant ou nichés ne sont pas ou mal detecté. Ce qui peuvent entrainer des erreurs de faux négatifs. Cela peut aussi décaller la détection des ORFs et mener à la détection d'ORFs qui n'en sont pas, soit des faux négatifs.\n",
    "Les faux négatifs et les faux positif peuvent être également dus à la présence d'introns.\n",
    "Ces introns peuvent être perçus comme des séquences codantes par notre algorithmes et dont créer des faux positifs. Ils peuvent également contenir des codons STOPs car ils ne sont pas soumis à des pressions de sélection et ainsi venir terminer précocement nos ORfs. Ces gènes ne sont alors plus détectés et seront des faux négatifs pour notre algorithme."
   ]
  }
 ],
 "metadata": {
  "colab": {
   "collapsed_sections": [],
   "name": "TME3_LU3IN013.ipynb",
   "provenance": []
  },
  "kernelspec": {
   "display_name": "Python 3 (ipykernel)",
   "language": "python",
   "name": "python3"
  },
  "language_info": {
   "codemirror_mode": {
    "name": "ipython",
    "version": 3
   },
   "file_extension": ".py",
   "mimetype": "text/x-python",
   "name": "python",
   "nbconvert_exporter": "python",
   "pygments_lexer": "ipython3",
   "version": "3.8.12"
  }
 },
 "nbformat": 4,
 "nbformat_minor": 1
}
